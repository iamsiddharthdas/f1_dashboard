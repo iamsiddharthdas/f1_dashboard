{
 "cells": [
  {
   "cell_type": "code",
   "execution_count": 1,
   "id": "9a04c878-d9ca-4b7e-ab68-b79396d89f23",
   "metadata": {},
   "outputs": [],
   "source": [
    "# Formula 1 Data Analysis\n",
    "# pip install fastf1 matplotlib seaborn plotly pandas numpy sklearn xgboost\n",
    "\n",
    "import fastf1\n",
    "import fastf1.plotting\n",
    "import pandas as pd\n",
    "import numpy as np\n",
    "import matplotlib.pyplot as plt\n",
    "import seaborn as sns\n",
    "import plotly.express as px\n",
    "import plotly.graph_objects as go\n",
    "from sklearn.ensemble import RandomForestRegressor\n",
    "from sklearn.preprocessing import PolynomialFeatures\n",
    "from sklearn.pipeline import make_pipeline\n",
    "from sklearn.model_selection import train_test_split\n",
    "from sklearn.metrics import mean_absolute_error, r2_score"
   ]
  },
  {
   "cell_type": "code",
   "execution_count": 2,
   "id": "13d1a6e5-df93-4513-9834-ec120a891dfd",
   "metadata": {},
   "outputs": [],
   "source": [
    "# Enable cache\n",
    "fastf1.Cache.enable_cache('f1_cache')"
   ]
  },
  {
   "cell_type": "code",
   "execution_count": 3,
   "id": "0765bddb-01c5-45a0-94d4-22a25cfcaa80",
   "metadata": {},
   "outputs": [
    {
     "name": "stderr",
     "output_type": "stream",
     "text": [
      "core           INFO \tLoading data for Australian Grand Prix - Race [v3.5.3]\n",
      "req            INFO \tUsing cached data for session_info\n",
      "req            INFO \tUsing cached data for driver_info\n",
      "req            INFO \tUsing cached data for session_status_data\n",
      "req            INFO \tUsing cached data for lap_count\n",
      "req            INFO \tUsing cached data for track_status_data\n",
      "req            INFO \tUsing cached data for _extended_timing_data\n",
      "req            INFO \tUsing cached data for timing_app_data\n",
      "core           INFO \tProcessing timing data...\n",
      "req            INFO \tUsing cached data for car_data\n",
      "req            INFO \tUsing cached data for position_data\n",
      "req            INFO \tUsing cached data for weather_data\n",
      "req            INFO \tUsing cached data for race_control_messages\n",
      "core        WARNING \tDriver 4 completed the race distance 00:00.022000 before the recorded end of the session.\n",
      "core           INFO \tFinished loading data for 20 drivers: ['4', '1', '63', '12', '23', '18', '27', '16', '81', '44', '10', '22', '31', '87', '30', '5', '14', '55', '7', '6']\n"
     ]
    }
   ],
   "source": [
    "# Load Session Data\n",
    "try:\n",
    "    session = fastf1.get_session(2025, 'Melbourne', 'R')\n",
    "    session.load()\n",
    "except Exception as e:\n",
    "    print(\"Error loading session data:\", e)\n",
    "    exit()\n",
    "    \n",
    "# Get laps data\n",
    "laps = session.laps\n",
    "\n",
    "# Data Cleaning\n",
    "laps = laps[laps['LapTime'].notnull()].copy()  # Ensure a deep copy to avoid SettingWithCopyWarning\n",
    "laps.loc[:, 'LapSeconds'] = laps['LapTime'].dt.total_seconds()\n",
    "laps.loc[:, 'TyreLife'] = laps.groupby(['Driver', 'Compound'], observed=True).cumcount() + 1\n",
    "laps.loc[:, 'DriverTeam'] = laps['Driver'] + \" (\" + laps['Team'] + \")\"\n"
   ]
  },
  {
   "cell_type": "code",
   "execution_count": 4,
   "id": "623b2186-3de9-4ed7-9a7e-0252dbce16df",
   "metadata": {},
   "outputs": [
    {
     "data": {
      "application/vnd.plotly.v1+json": {
       "config": {
        "plotlyServerURL": "https://plot.ly"
       },
       "data": [
        {
         "alignmentgroup": "True",
         "box": {
          "visible": true
         },
         "customdata": [
          [
           "Red Bull Racing"
          ],
          [
           "Red Bull Racing"
          ],
          [
           "Red Bull Racing"
          ],
          [
           "Red Bull Racing"
          ],
          [
           "Red Bull Racing"
          ],
          [
           "Red Bull Racing"
          ],
          [
           "Red Bull Racing"
          ],
          [
           "Red Bull Racing"
          ],
          [
           "Red Bull Racing"
          ],
          [
           "Red Bull Racing"
          ],
          [
           "Red Bull Racing"
          ],
          [
           "Red Bull Racing"
          ],
          [
           "Red Bull Racing"
          ],
          [
           "Red Bull Racing"
          ],
          [
           "Red Bull Racing"
          ],
          [
           "Red Bull Racing"
          ],
          [
           "Red Bull Racing"
          ],
          [
           "Red Bull Racing"
          ],
          [
           "Red Bull Racing"
          ],
          [
           "Red Bull Racing"
          ],
          [
           "Red Bull Racing"
          ],
          [
           "Red Bull Racing"
          ],
          [
           "Red Bull Racing"
          ],
          [
           "Red Bull Racing"
          ],
          [
           "Red Bull Racing"
          ],
          [
           "Red Bull Racing"
          ],
          [
           "Red Bull Racing"
          ],
          [
           "Red Bull Racing"
          ],
          [
           "Red Bull Racing"
          ],
          [
           "Red Bull Racing"
          ],
          [
           "Red Bull Racing"
          ],
          [
           "Red Bull Racing"
          ],
          [
           "Red Bull Racing"
          ],
          [
           "Red Bull Racing"
          ],
          [
           "Red Bull Racing"
          ],
          [
           "Red Bull Racing"
          ],
          [
           "Red Bull Racing"
          ],
          [
           "Red Bull Racing"
          ],
          [
           "Red Bull Racing"
          ],
          [
           "Red Bull Racing"
          ],
          [
           "Red Bull Racing"
          ],
          [
           "Red Bull Racing"
          ],
          [
           "Red Bull Racing"
          ],
          [
           "Red Bull Racing"
          ],
          [
           "Red Bull Racing"
          ],
          [
           "Red Bull Racing"
          ],
          [
           "Red Bull Racing"
          ],
          [
           "Red Bull Racing"
          ],
          [
           "Red Bull Racing"
          ],
          [
           "Red Bull Racing"
          ],
          [
           "Red Bull Racing"
          ],
          [
           "Red Bull Racing"
          ],
          [
           "Red Bull Racing"
          ],
          [
           "Red Bull Racing"
          ],
          [
           "Red Bull Racing"
          ],
          [
           "Red Bull Racing"
          ],
          [
           "Red Bull Racing"
          ],
          [
           "Red Bull Racing"
          ],
          [
           "Red Bull Racing"
          ],
          [
           "Red Bull Racing"
          ],
          [
           "Red Bull Racing"
          ],
          [
           "Red Bull Racing"
          ],
          [
           "Red Bull Racing"
          ],
          [
           "Red Bull Racing"
          ],
          [
           "Red Bull Racing"
          ],
          [
           "Red Bull Racing"
          ],
          [
           "Red Bull Racing"
          ],
          [
           "Red Bull Racing"
          ],
          [
           "Red Bull Racing"
          ],
          [
           "Red Bull Racing"
          ],
          [
           "Red Bull Racing"
          ],
          [
           "Red Bull Racing"
          ],
          [
           "Red Bull Racing"
          ],
          [
           "Red Bull Racing"
          ],
          [
           "Red Bull Racing"
          ],
          [
           "Red Bull Racing"
          ],
          [
           "Red Bull Racing"
          ],
          [
           "Red Bull Racing"
          ],
          [
           "Red Bull Racing"
          ],
          [
           "Red Bull Racing"
          ],
          [
           "Red Bull Racing"
          ],
          [
           "Red Bull Racing"
          ],
          [
           "Red Bull Racing"
          ],
          [
           "Red Bull Racing"
          ],
          [
           "Red Bull Racing"
          ],
          [
           "Red Bull Racing"
          ],
          [
           "Red Bull Racing"
          ],
          [
           "Red Bull Racing"
          ],
          [
           "Red Bull Racing"
          ],
          [
           "Red Bull Racing"
          ],
          [
           "Red Bull Racing"
          ],
          [
           "Red Bull Racing"
          ],
          [
           "Red Bull Racing"
          ],
          [
           "Red Bull Racing"
          ],
          [
           "Red Bull Racing"
          ]
         ],
         "hovertemplate": "Team=%{customdata[0]}<br>Driver=%{x}<br>Speed Trap (km/h)=%{y}<extra></extra>",
         "legendgroup": "Red Bull Racing",
         "marker": {
          "color": "#636efa"
         },
         "name": "Red Bull Racing",
         "offsetgroup": "Red Bull Racing",
         "orientation": "v",
         "points": "all",
         "scalegroup": "True",
         "showlegend": true,
         "type": "violin",
         "x": [
          "VER",
          "VER",
          "VER",
          "VER",
          "VER",
          "VER",
          "VER",
          "VER",
          "VER",
          "VER",
          "VER",
          "VER",
          "VER",
          "VER",
          "VER",
          "VER",
          "VER",
          "VER",
          "VER",
          "VER",
          "VER",
          "VER",
          "VER",
          "VER",
          "VER",
          "VER",
          "VER",
          "VER",
          "VER",
          "VER",
          "VER",
          "VER",
          "VER",
          "VER",
          "VER",
          "VER",
          "VER",
          "VER",
          "VER",
          "VER",
          "VER",
          "VER",
          "VER",
          "VER",
          "VER",
          "VER",
          "VER",
          "VER",
          "VER",
          "VER",
          "VER",
          "VER",
          "VER",
          "LAW",
          "LAW",
          "LAW",
          "LAW",
          "LAW",
          "LAW",
          "LAW",
          "LAW",
          "LAW",
          "LAW",
          "LAW",
          "LAW",
          "LAW",
          "LAW",
          "LAW",
          "LAW",
          "LAW",
          "LAW",
          "LAW",
          "LAW",
          "LAW",
          "LAW",
          "LAW",
          "LAW",
          "LAW",
          "LAW",
          "LAW",
          "LAW",
          "LAW",
          "LAW",
          "LAW",
          "LAW",
          "LAW",
          "LAW",
          "LAW",
          "LAW",
          "LAW",
          "LAW",
          "LAW",
          "LAW",
          "LAW",
          "LAW"
         ],
         "x0": " ",
         "xaxis": "x",
         "y": {
          "bdata": "AAAAAADgakAAAAAAAEBoQAAAAAAAwF9AAAAAAAAAakAAAAAAAKBuQAAAAAAAIHBAAAAAAABwcEAAAAAAAABxQAAAAAAAIHFAAAAAAACQcUAAAAAAAKBxQAAAAAAA8HFAAAAAAACQckAAAAAAANBxQAAAAAAA8HBAAAAAAAAQcUAAAAAAADBxQAAAAAAAAHFAAAAAAABwcUAAAAAAAEBxQAAAAAAAMHFAAAAAAABgcUAAAAAAAOBxQAAAAAAAsHFAAAAAAADgcUAAAAAAABByQAAAAAAAQHJAAAAAAAAAckAAAAAAAPBxQAAAAAAAAHJAAAAAAAAA+H8AAAAAACBmQAAAAAAA4G5AAAAAAAAAb0AAAAAAACBpQAAAAAAAoG5AAAAAAAAAaUAAAAAAAKBxQAAAAAAAkHJAAAAAAACgckAAAAAAAFBxQAAAAAAAoHBAAAAAAAAAbEAAAAAAAABoQAAAAAAAoGZAAAAAAADAX0AAAAAAAOBgQAAAAAAAgG5AAAAAAAAQcUAAAAAAAAD4fwAAAAAAwHFAAAAAAACAcUAAAAAAAFByQAAAAAAAgGdAAAAAAACAYkAAAAAAACBnQAAAAAAAgGhAAAAAAADAbEAAAAAAAGBtQAAAAAAAQHFAAAAAAADQcEAAAAAAAFBwQAAAAAAAQHFAAAAAAAAgcEAAAAAAAAD4fwAAAAAAYHBAAAAAAACgcEAAAAAAAABxQAAAAAAAQHBAAAAAAACwcUAAAAAAALBwQAAAAAAAIHFAAAAAAACwcEAAAAAAAHBxQAAAAAAA0HFAAAAAAABwcUAAAAAAAEBxQAAAAAAAUHFAAAAAAAAA+H8AAAAAAOBxQAAAAAAAQHFAAAAAAABgbUAAAAAAAFBxQAAAAAAAYGNAAAAAAACgakAAAAAAAIBsQAAAAAAAoGVAAAAAAACAa0AAAAAAAKBwQAAAAAAAcHJAAAAAAACAckAAAAAAAHByQAAAAAAAEHNAAAAAAAAQckAAAAAAAHBwQA==",
          "dtype": "f8"
         },
         "y0": " ",
         "yaxis": "y"
        },
        {
         "alignmentgroup": "True",
         "box": {
          "visible": true
         },
         "customdata": [
          [
           "Alpine"
          ],
          [
           "Alpine"
          ],
          [
           "Alpine"
          ],
          [
           "Alpine"
          ],
          [
           "Alpine"
          ],
          [
           "Alpine"
          ],
          [
           "Alpine"
          ],
          [
           "Alpine"
          ],
          [
           "Alpine"
          ],
          [
           "Alpine"
          ],
          [
           "Alpine"
          ],
          [
           "Alpine"
          ],
          [
           "Alpine"
          ],
          [
           "Alpine"
          ],
          [
           "Alpine"
          ],
          [
           "Alpine"
          ],
          [
           "Alpine"
          ],
          [
           "Alpine"
          ],
          [
           "Alpine"
          ],
          [
           "Alpine"
          ],
          [
           "Alpine"
          ],
          [
           "Alpine"
          ],
          [
           "Alpine"
          ],
          [
           "Alpine"
          ],
          [
           "Alpine"
          ],
          [
           "Alpine"
          ],
          [
           "Alpine"
          ],
          [
           "Alpine"
          ],
          [
           "Alpine"
          ],
          [
           "Alpine"
          ],
          [
           "Alpine"
          ],
          [
           "Alpine"
          ],
          [
           "Alpine"
          ],
          [
           "Alpine"
          ],
          [
           "Alpine"
          ],
          [
           "Alpine"
          ],
          [
           "Alpine"
          ],
          [
           "Alpine"
          ],
          [
           "Alpine"
          ],
          [
           "Alpine"
          ],
          [
           "Alpine"
          ],
          [
           "Alpine"
          ],
          [
           "Alpine"
          ],
          [
           "Alpine"
          ],
          [
           "Alpine"
          ],
          [
           "Alpine"
          ],
          [
           "Alpine"
          ],
          [
           "Alpine"
          ],
          [
           "Alpine"
          ],
          [
           "Alpine"
          ],
          [
           "Alpine"
          ],
          [
           "Alpine"
          ],
          [
           "Alpine"
          ],
          [
           "Alpine"
          ]
         ],
         "hovertemplate": "Team=%{customdata[0]}<br>Driver=%{x}<br>Speed Trap (km/h)=%{y}<extra></extra>",
         "legendgroup": "Alpine",
         "marker": {
          "color": "#EF553B"
         },
         "name": "Alpine",
         "offsetgroup": "Alpine",
         "orientation": "v",
         "points": "all",
         "scalegroup": "True",
         "showlegend": true,
         "type": "violin",
         "x": [
          "GAS",
          "GAS",
          "GAS",
          "GAS",
          "GAS",
          "GAS",
          "GAS",
          "GAS",
          "GAS",
          "GAS",
          "GAS",
          "GAS",
          "GAS",
          "GAS",
          "GAS",
          "GAS",
          "GAS",
          "GAS",
          "GAS",
          "GAS",
          "GAS",
          "GAS",
          "GAS",
          "GAS",
          "GAS",
          "GAS",
          "GAS",
          "GAS",
          "GAS",
          "GAS",
          "GAS",
          "GAS",
          "GAS",
          "GAS",
          "GAS",
          "GAS",
          "GAS",
          "GAS",
          "GAS",
          "GAS",
          "GAS",
          "GAS",
          "GAS",
          "GAS",
          "GAS",
          "GAS",
          "GAS",
          "GAS",
          "GAS",
          "GAS",
          "GAS",
          "GAS",
          "GAS",
          "GAS"
         ],
         "x0": " ",
         "xaxis": "x",
         "y": {
          "bdata": "AAAAAABAZ0AAAAAAAIBpQAAAAAAAwGtAAAAAAADga0AAAAAAAABtQAAAAAAAIG5AAAAAAADgb0AAAAAAAFBwQAAAAAAAYHBAAAAAAAAQcUAAAAAAACBxQAAAAAAA8HBAAAAAAADgcEAAAAAAAAD4fwAAAAAA0HBAAAAAAADAcEAAAAAAADBxQAAAAAAA0HBAAAAAAACAcUAAAAAAAABxQAAAAAAAAPh/AAAAAAAwcUAAAAAAAKBxQAAAAAAAcHFAAAAAAABQcUAAAAAAAMBxQAAAAAAAoHFAAAAAAACwcUAAAAAAAIBxQAAAAAAAwHFAAAAAAABAZEAAAAAAAKBtQAAAAAAAgHFAAAAAAADgcEAAAAAAACBwQAAAAAAAAPh/AAAAAABgcEAAAAAAACBpQAAAAAAAwHFAAAAAAABgckAAAAAAAIByQAAAAAAA8HFAAAAAAABgcEAAAAAAAKBrQAAAAAAAIGdAAAAAAACAaUAAAAAAAOBrQAAAAAAAQGFAAAAAAAAgbUAAAAAAACBwQAAAAAAAUHFAAAAAAADQcEAAAAAAAJBwQAAAAAAA0HBA",
          "dtype": "f8"
         },
         "y0": " ",
         "yaxis": "y"
        },
        {
         "alignmentgroup": "True",
         "box": {
          "visible": true
         },
         "customdata": [
          [
           "Mercedes"
          ],
          [
           "Mercedes"
          ],
          [
           "Mercedes"
          ],
          [
           "Mercedes"
          ],
          [
           "Mercedes"
          ],
          [
           "Mercedes"
          ],
          [
           "Mercedes"
          ],
          [
           "Mercedes"
          ],
          [
           "Mercedes"
          ],
          [
           "Mercedes"
          ],
          [
           "Mercedes"
          ],
          [
           "Mercedes"
          ],
          [
           "Mercedes"
          ],
          [
           "Mercedes"
          ],
          [
           "Mercedes"
          ],
          [
           "Mercedes"
          ],
          [
           "Mercedes"
          ],
          [
           "Mercedes"
          ],
          [
           "Mercedes"
          ],
          [
           "Mercedes"
          ],
          [
           "Mercedes"
          ],
          [
           "Mercedes"
          ],
          [
           "Mercedes"
          ],
          [
           "Mercedes"
          ],
          [
           "Mercedes"
          ],
          [
           "Mercedes"
          ],
          [
           "Mercedes"
          ],
          [
           "Mercedes"
          ],
          [
           "Mercedes"
          ],
          [
           "Mercedes"
          ],
          [
           "Mercedes"
          ],
          [
           "Mercedes"
          ],
          [
           "Mercedes"
          ],
          [
           "Mercedes"
          ],
          [
           "Mercedes"
          ],
          [
           "Mercedes"
          ],
          [
           "Mercedes"
          ],
          [
           "Mercedes"
          ],
          [
           "Mercedes"
          ],
          [
           "Mercedes"
          ],
          [
           "Mercedes"
          ],
          [
           "Mercedes"
          ],
          [
           "Mercedes"
          ],
          [
           "Mercedes"
          ],
          [
           "Mercedes"
          ],
          [
           "Mercedes"
          ],
          [
           "Mercedes"
          ],
          [
           "Mercedes"
          ],
          [
           "Mercedes"
          ],
          [
           "Mercedes"
          ],
          [
           "Mercedes"
          ],
          [
           "Mercedes"
          ],
          [
           "Mercedes"
          ],
          [
           "Mercedes"
          ],
          [
           "Mercedes"
          ],
          [
           "Mercedes"
          ],
          [
           "Mercedes"
          ],
          [
           "Mercedes"
          ],
          [
           "Mercedes"
          ],
          [
           "Mercedes"
          ],
          [
           "Mercedes"
          ],
          [
           "Mercedes"
          ],
          [
           "Mercedes"
          ],
          [
           "Mercedes"
          ],
          [
           "Mercedes"
          ],
          [
           "Mercedes"
          ],
          [
           "Mercedes"
          ],
          [
           "Mercedes"
          ],
          [
           "Mercedes"
          ],
          [
           "Mercedes"
          ],
          [
           "Mercedes"
          ],
          [
           "Mercedes"
          ],
          [
           "Mercedes"
          ],
          [
           "Mercedes"
          ],
          [
           "Mercedes"
          ],
          [
           "Mercedes"
          ],
          [
           "Mercedes"
          ],
          [
           "Mercedes"
          ],
          [
           "Mercedes"
          ],
          [
           "Mercedes"
          ],
          [
           "Mercedes"
          ],
          [
           "Mercedes"
          ],
          [
           "Mercedes"
          ],
          [
           "Mercedes"
          ],
          [
           "Mercedes"
          ],
          [
           "Mercedes"
          ],
          [
           "Mercedes"
          ],
          [
           "Mercedes"
          ],
          [
           "Mercedes"
          ],
          [
           "Mercedes"
          ],
          [
           "Mercedes"
          ],
          [
           "Mercedes"
          ],
          [
           "Mercedes"
          ],
          [
           "Mercedes"
          ],
          [
           "Mercedes"
          ],
          [
           "Mercedes"
          ],
          [
           "Mercedes"
          ],
          [
           "Mercedes"
          ],
          [
           "Mercedes"
          ],
          [
           "Mercedes"
          ],
          [
           "Mercedes"
          ],
          [
           "Mercedes"
          ],
          [
           "Mercedes"
          ],
          [
           "Mercedes"
          ],
          [
           "Mercedes"
          ],
          [
           "Mercedes"
          ],
          [
           "Mercedes"
          ]
         ],
         "hovertemplate": "Team=%{customdata[0]}<br>Driver=%{x}<br>Speed Trap (km/h)=%{y}<extra></extra>",
         "legendgroup": "Mercedes",
         "marker": {
          "color": "#00cc96"
         },
         "name": "Mercedes",
         "offsetgroup": "Mercedes",
         "orientation": "v",
         "points": "all",
         "scalegroup": "True",
         "showlegend": true,
         "type": "violin",
         "x": [
          "ANT",
          "ANT",
          "ANT",
          "ANT",
          "ANT",
          "ANT",
          "ANT",
          "ANT",
          "ANT",
          "ANT",
          "ANT",
          "ANT",
          "ANT",
          "ANT",
          "ANT",
          "ANT",
          "ANT",
          "ANT",
          "ANT",
          "ANT",
          "ANT",
          "ANT",
          "ANT",
          "ANT",
          "ANT",
          "ANT",
          "ANT",
          "ANT",
          "ANT",
          "ANT",
          "ANT",
          "ANT",
          "ANT",
          "ANT",
          "ANT",
          "ANT",
          "ANT",
          "ANT",
          "ANT",
          "ANT",
          "ANT",
          "ANT",
          "ANT",
          "ANT",
          "ANT",
          "ANT",
          "ANT",
          "ANT",
          "ANT",
          "ANT",
          "ANT",
          "ANT",
          "ANT",
          "ANT",
          "RUS",
          "RUS",
          "RUS",
          "RUS",
          "RUS",
          "RUS",
          "RUS",
          "RUS",
          "RUS",
          "RUS",
          "RUS",
          "RUS",
          "RUS",
          "RUS",
          "RUS",
          "RUS",
          "RUS",
          "RUS",
          "RUS",
          "RUS",
          "RUS",
          "RUS",
          "RUS",
          "RUS",
          "RUS",
          "RUS",
          "RUS",
          "RUS",
          "RUS",
          "RUS",
          "RUS",
          "RUS",
          "RUS",
          "RUS",
          "RUS",
          "RUS",
          "RUS",
          "RUS",
          "RUS",
          "RUS",
          "RUS",
          "RUS",
          "RUS",
          "RUS",
          "RUS",
          "RUS",
          "RUS",
          "RUS",
          "RUS",
          "RUS",
          "RUS",
          "RUS",
          "RUS"
         ],
         "x0": " ",
         "xaxis": "x",
         "y": {
          "bdata": "AAAAAABAZ0AAAAAAAGBnQAAAAAAAIGlAAAAAAACAaUAAAAAAAABuQAAAAAAAIHBAAAAAAADwcEAAAAAAAIBwQAAAAAAA4HBAAAAAAABQcEAAAAAAAMBwQAAAAAAAIHJAAAAAAABgckAAAAAAAFBxQAAAAAAAMHJAAAAAAACwcUAAAAAAABByQAAAAAAAwHFAAAAAAAAgckAAAAAAAPBxQAAAAAAAUHJAAAAAAACwckAAAAAAAEByQAAAAAAAUHJAAAAAAACAckAAAAAAAJByQAAAAAAAAHJAAAAAAAAQckAAAAAAADByQAAAAAAAIHJAAAAAAADgZUAAAAAAAHBwQAAAAAAAUHFAAAAAAAAAcUAAAAAAAEBvQAAAAAAAAHBAAAAAAACwcEAAAAAAAABqQAAAAAAAcHJAAAAAAACQckAAAAAAAEByQAAAAAAA4GtAAAAAAAAAckAAAAAAAEBwQAAAAAAA4GhAAAAAAADAXEAAAAAAAGBlQAAAAAAAgGJAAAAAAACgb0AAAAAAAIBxQAAAAAAAEHJAAAAAAADgcUAAAAAAAFByQAAAAAAAMHJAAAAAAADgaUAAAAAAACBnQAAAAAAAgFxAAAAAAABAbUAAAAAAAGBvQAAAAAAA0HBAAAAAAABAcUAAAAAAAJBxQAAAAAAAYHFAAAAAAADgcUAAAAAAAMBxQAAAAAAAkHFAAAAAAAAAckAAAAAAAMBxQAAAAAAAcHFAAAAAAABQcUAAAAAAAJBxQAAAAAAAQHFAAAAAAABQcUAAAAAAAAByQAAAAAAAcHFAAAAAAAAwckAAAAAAAOBxQAAAAAAAsHFAAAAAAADwcUAAAAAAAEByQAAAAAAAwHFAAAAAAAAgckAAAAAAAEByQAAAAAAAsHFAAAAAAABAXkAAAAAAAOBjQAAAAAAA4G9AAAAAAADgbEAAAAAAACBqQAAAAAAA4G1AAAAAAACAY0AAAAAAABByQAAAAAAAoHJAAAAAAAAAc0AAAAAAAABsQAAAAAAAQHJAAAAAAABAcUAAAAAAAGBkQAAAAAAAAGBAAAAAAAAAXkAAAAAAAEBkQAAAAAAAQG5AAAAAAAAAcUAAAAAAAMBxQAAAAAAAQHJAAAAAAABgcUAAAAAAABByQA==",
          "dtype": "f8"
         },
         "y0": " ",
         "yaxis": "y"
        },
        {
         "alignmentgroup": "True",
         "box": {
          "visible": true
         },
         "customdata": [
          [
           "Aston Martin"
          ],
          [
           "Aston Martin"
          ],
          [
           "Aston Martin"
          ],
          [
           "Aston Martin"
          ],
          [
           "Aston Martin"
          ],
          [
           "Aston Martin"
          ],
          [
           "Aston Martin"
          ],
          [
           "Aston Martin"
          ],
          [
           "Aston Martin"
          ],
          [
           "Aston Martin"
          ],
          [
           "Aston Martin"
          ],
          [
           "Aston Martin"
          ],
          [
           "Aston Martin"
          ],
          [
           "Aston Martin"
          ],
          [
           "Aston Martin"
          ],
          [
           "Aston Martin"
          ],
          [
           "Aston Martin"
          ],
          [
           "Aston Martin"
          ],
          [
           "Aston Martin"
          ],
          [
           "Aston Martin"
          ],
          [
           "Aston Martin"
          ],
          [
           "Aston Martin"
          ],
          [
           "Aston Martin"
          ],
          [
           "Aston Martin"
          ],
          [
           "Aston Martin"
          ],
          [
           "Aston Martin"
          ],
          [
           "Aston Martin"
          ],
          [
           "Aston Martin"
          ],
          [
           "Aston Martin"
          ],
          [
           "Aston Martin"
          ],
          [
           "Aston Martin"
          ],
          [
           "Aston Martin"
          ],
          [
           "Aston Martin"
          ],
          [
           "Aston Martin"
          ],
          [
           "Aston Martin"
          ],
          [
           "Aston Martin"
          ],
          [
           "Aston Martin"
          ],
          [
           "Aston Martin"
          ],
          [
           "Aston Martin"
          ],
          [
           "Aston Martin"
          ],
          [
           "Aston Martin"
          ],
          [
           "Aston Martin"
          ],
          [
           "Aston Martin"
          ],
          [
           "Aston Martin"
          ],
          [
           "Aston Martin"
          ],
          [
           "Aston Martin"
          ],
          [
           "Aston Martin"
          ],
          [
           "Aston Martin"
          ],
          [
           "Aston Martin"
          ],
          [
           "Aston Martin"
          ],
          [
           "Aston Martin"
          ],
          [
           "Aston Martin"
          ],
          [
           "Aston Martin"
          ],
          [
           "Aston Martin"
          ],
          [
           "Aston Martin"
          ],
          [
           "Aston Martin"
          ],
          [
           "Aston Martin"
          ],
          [
           "Aston Martin"
          ],
          [
           "Aston Martin"
          ],
          [
           "Aston Martin"
          ],
          [
           "Aston Martin"
          ],
          [
           "Aston Martin"
          ],
          [
           "Aston Martin"
          ],
          [
           "Aston Martin"
          ],
          [
           "Aston Martin"
          ],
          [
           "Aston Martin"
          ],
          [
           "Aston Martin"
          ],
          [
           "Aston Martin"
          ],
          [
           "Aston Martin"
          ],
          [
           "Aston Martin"
          ],
          [
           "Aston Martin"
          ],
          [
           "Aston Martin"
          ],
          [
           "Aston Martin"
          ],
          [
           "Aston Martin"
          ],
          [
           "Aston Martin"
          ],
          [
           "Aston Martin"
          ],
          [
           "Aston Martin"
          ],
          [
           "Aston Martin"
          ],
          [
           "Aston Martin"
          ],
          [
           "Aston Martin"
          ],
          [
           "Aston Martin"
          ],
          [
           "Aston Martin"
          ],
          [
           "Aston Martin"
          ]
         ],
         "hovertemplate": "Team=%{customdata[0]}<br>Driver=%{x}<br>Speed Trap (km/h)=%{y}<extra></extra>",
         "legendgroup": "Aston Martin",
         "marker": {
          "color": "#ab63fa"
         },
         "name": "Aston Martin",
         "offsetgroup": "Aston Martin",
         "orientation": "v",
         "points": "all",
         "scalegroup": "True",
         "showlegend": true,
         "type": "violin",
         "x": [
          "ALO",
          "ALO",
          "ALO",
          "ALO",
          "ALO",
          "ALO",
          "ALO",
          "ALO",
          "ALO",
          "ALO",
          "ALO",
          "ALO",
          "ALO",
          "ALO",
          "ALO",
          "ALO",
          "ALO",
          "ALO",
          "ALO",
          "ALO",
          "ALO",
          "ALO",
          "ALO",
          "ALO",
          "ALO",
          "ALO",
          "ALO",
          "ALO",
          "ALO",
          "STR",
          "STR",
          "STR",
          "STR",
          "STR",
          "STR",
          "STR",
          "STR",
          "STR",
          "STR",
          "STR",
          "STR",
          "STR",
          "STR",
          "STR",
          "STR",
          "STR",
          "STR",
          "STR",
          "STR",
          "STR",
          "STR",
          "STR",
          "STR",
          "STR",
          "STR",
          "STR",
          "STR",
          "STR",
          "STR",
          "STR",
          "STR",
          "STR",
          "STR",
          "STR",
          "STR",
          "STR",
          "STR",
          "STR",
          "STR",
          "STR",
          "STR",
          "STR",
          "STR",
          "STR",
          "STR",
          "STR",
          "STR",
          "STR",
          "STR",
          "STR",
          "STR",
          "STR",
          "STR"
         ],
         "x0": " ",
         "xaxis": "x",
         "y": {
          "bdata": "AAAAAABAZ0AAAAAAACBnQAAAAAAAAPh/AAAAAABgaUAAAAAAACBsQAAAAAAAAG1AAAAAAADAb0AAAAAAAIBuQAAAAAAAcHBAAAAAAABQcEAAAAAAAABxQAAAAAAAMHFAAAAAAAAgcEAAAAAAADBwQAAAAAAAAPh/AAAAAADAb0AAAAAAANBwQAAAAAAAcHBAAAAAAACAcUAAAAAAAAD4fwAAAAAAYHFAAAAAAACgcUAAAAAAAAByQAAAAAAAUHFAAAAAAAAwckAAAAAAAIByQAAAAAAAEHJAAAAAAAAgckAAAAAAAGByQAAAAAAAgGVAAAAAAADAZEAAAAAAAOBoQAAAAAAAoGpAAAAAAAAgbUAAAAAAAGBvQAAAAAAAgHBAAAAAAACgcEAAAAAAAGBxQAAAAAAAMHFAAAAAAAAQcUAAAAAAAABxQAAAAAAAMHFAAAAAAAAA+H8AAAAAAEBwQAAAAAAAMHFAAAAAAACgcUAAAAAAAAD4fwAAAAAAwHFAAAAAAAAwcUAAAAAAAJBxQAAAAAAA0HFAAAAAAADAcUAAAAAAABByQAAAAAAAUHJAAAAAAAAAckAAAAAAABByQAAAAAAAsHFAAAAAAAAAckAAAAAAAMBxQAAAAAAAQGRAAAAAAABga0AAAAAAAGBwQAAAAAAA0HFAAAAAAABAb0AAAAAAAEBuQAAAAAAAIHFAAAAAAAAQcUAAAAAAADByQAAAAAAA0HJAAAAAAADAckAAAAAAAMBrQAAAAAAAQHJAAAAAAACgbEAAAAAAAIBlQAAAAAAAIGJAAAAAAABAZUAAAAAAAKBlQAAAAAAAEHBAAAAAAAAgcUAAAAAAABByQAAAAAAAgHJAAAAAAADQcUAAAAAAAAByQA==",
          "dtype": "f8"
         },
         "y0": " ",
         "yaxis": "y"
        },
        {
         "alignmentgroup": "True",
         "box": {
          "visible": true
         },
         "customdata": [
          [
           "Ferrari"
          ],
          [
           "Ferrari"
          ],
          [
           "Ferrari"
          ],
          [
           "Ferrari"
          ],
          [
           "Ferrari"
          ],
          [
           "Ferrari"
          ],
          [
           "Ferrari"
          ],
          [
           "Ferrari"
          ],
          [
           "Ferrari"
          ],
          [
           "Ferrari"
          ],
          [
           "Ferrari"
          ],
          [
           "Ferrari"
          ],
          [
           "Ferrari"
          ],
          [
           "Ferrari"
          ],
          [
           "Ferrari"
          ],
          [
           "Ferrari"
          ],
          [
           "Ferrari"
          ],
          [
           "Ferrari"
          ],
          [
           "Ferrari"
          ],
          [
           "Ferrari"
          ],
          [
           "Ferrari"
          ],
          [
           "Ferrari"
          ],
          [
           "Ferrari"
          ],
          [
           "Ferrari"
          ],
          [
           "Ferrari"
          ],
          [
           "Ferrari"
          ],
          [
           "Ferrari"
          ],
          [
           "Ferrari"
          ],
          [
           "Ferrari"
          ],
          [
           "Ferrari"
          ],
          [
           "Ferrari"
          ],
          [
           "Ferrari"
          ],
          [
           "Ferrari"
          ],
          [
           "Ferrari"
          ],
          [
           "Ferrari"
          ],
          [
           "Ferrari"
          ],
          [
           "Ferrari"
          ],
          [
           "Ferrari"
          ],
          [
           "Ferrari"
          ],
          [
           "Ferrari"
          ],
          [
           "Ferrari"
          ],
          [
           "Ferrari"
          ],
          [
           "Ferrari"
          ],
          [
           "Ferrari"
          ],
          [
           "Ferrari"
          ],
          [
           "Ferrari"
          ],
          [
           "Ferrari"
          ],
          [
           "Ferrari"
          ],
          [
           "Ferrari"
          ],
          [
           "Ferrari"
          ],
          [
           "Ferrari"
          ],
          [
           "Ferrari"
          ],
          [
           "Ferrari"
          ],
          [
           "Ferrari"
          ],
          [
           "Ferrari"
          ],
          [
           "Ferrari"
          ],
          [
           "Ferrari"
          ],
          [
           "Ferrari"
          ],
          [
           "Ferrari"
          ],
          [
           "Ferrari"
          ],
          [
           "Ferrari"
          ],
          [
           "Ferrari"
          ],
          [
           "Ferrari"
          ],
          [
           "Ferrari"
          ],
          [
           "Ferrari"
          ],
          [
           "Ferrari"
          ],
          [
           "Ferrari"
          ],
          [
           "Ferrari"
          ],
          [
           "Ferrari"
          ],
          [
           "Ferrari"
          ],
          [
           "Ferrari"
          ],
          [
           "Ferrari"
          ],
          [
           "Ferrari"
          ],
          [
           "Ferrari"
          ],
          [
           "Ferrari"
          ],
          [
           "Ferrari"
          ],
          [
           "Ferrari"
          ],
          [
           "Ferrari"
          ],
          [
           "Ferrari"
          ],
          [
           "Ferrari"
          ],
          [
           "Ferrari"
          ],
          [
           "Ferrari"
          ],
          [
           "Ferrari"
          ],
          [
           "Ferrari"
          ],
          [
           "Ferrari"
          ],
          [
           "Ferrari"
          ],
          [
           "Ferrari"
          ],
          [
           "Ferrari"
          ],
          [
           "Ferrari"
          ],
          [
           "Ferrari"
          ],
          [
           "Ferrari"
          ],
          [
           "Ferrari"
          ],
          [
           "Ferrari"
          ],
          [
           "Ferrari"
          ],
          [
           "Ferrari"
          ],
          [
           "Ferrari"
          ],
          [
           "Ferrari"
          ],
          [
           "Ferrari"
          ],
          [
           "Ferrari"
          ],
          [
           "Ferrari"
          ],
          [
           "Ferrari"
          ],
          [
           "Ferrari"
          ],
          [
           "Ferrari"
          ],
          [
           "Ferrari"
          ],
          [
           "Ferrari"
          ],
          [
           "Ferrari"
          ]
         ],
         "hovertemplate": "Team=%{customdata[0]}<br>Driver=%{x}<br>Speed Trap (km/h)=%{y}<extra></extra>",
         "legendgroup": "Ferrari",
         "marker": {
          "color": "#FFA15A"
         },
         "name": "Ferrari",
         "offsetgroup": "Ferrari",
         "orientation": "v",
         "points": "all",
         "scalegroup": "True",
         "showlegend": true,
         "type": "violin",
         "x": [
          "LEC",
          "LEC",
          "LEC",
          "LEC",
          "LEC",
          "LEC",
          "LEC",
          "LEC",
          "LEC",
          "LEC",
          "LEC",
          "LEC",
          "LEC",
          "LEC",
          "LEC",
          "LEC",
          "LEC",
          "LEC",
          "LEC",
          "LEC",
          "LEC",
          "LEC",
          "LEC",
          "LEC",
          "LEC",
          "LEC",
          "LEC",
          "LEC",
          "LEC",
          "LEC",
          "LEC",
          "LEC",
          "LEC",
          "LEC",
          "LEC",
          "LEC",
          "LEC",
          "LEC",
          "LEC",
          "LEC",
          "LEC",
          "LEC",
          "LEC",
          "LEC",
          "LEC",
          "LEC",
          "LEC",
          "LEC",
          "LEC",
          "LEC",
          "LEC",
          "LEC",
          "LEC",
          "HAM",
          "HAM",
          "HAM",
          "HAM",
          "HAM",
          "HAM",
          "HAM",
          "HAM",
          "HAM",
          "HAM",
          "HAM",
          "HAM",
          "HAM",
          "HAM",
          "HAM",
          "HAM",
          "HAM",
          "HAM",
          "HAM",
          "HAM",
          "HAM",
          "HAM",
          "HAM",
          "HAM",
          "HAM",
          "HAM",
          "HAM",
          "HAM",
          "HAM",
          "HAM",
          "HAM",
          "HAM",
          "HAM",
          "HAM",
          "HAM",
          "HAM",
          "HAM",
          "HAM",
          "HAM",
          "HAM",
          "HAM",
          "HAM",
          "HAM",
          "HAM",
          "HAM",
          "HAM",
          "HAM",
          "HAM",
          "HAM",
          "HAM",
          "HAM",
          "HAM",
          "HAM"
         ],
         "x0": " ",
         "xaxis": "x",
         "y": {
          "bdata": "AAAAAADgZ0AAAAAAAKBoQAAAAAAA4GNAAAAAAADAbEAAAAAAAGBuQAAAAAAAcHBAAAAAAABAcEAAAAAAAHBwQAAAAAAAwHBAAAAAAAAgcUAAAAAAAHBxQAAAAAAA0HFAAAAAAAAAckAAAAAAAOBxQAAAAAAAoHFAAAAAAADQcUAAAAAAAMBxQAAAAAAAAPh/AAAAAADQcUAAAAAAACByQAAAAAAA8HFAAAAAAAAA+H8AAAAAAAByQAAAAAAAMHJAAAAAAAAAckAAAAAAADByQAAAAAAAUHJAAAAAAABAckAAAAAAAFByQAAAAAAA8HFAAAAAAACgaEAAAAAAAIBmQAAAAAAAkHBAAAAAAADQcEAAAAAAACBuQAAAAAAAYG9AAAAAAAAgbEAAAAAAAMBtQAAAAAAA4HFAAAAAAABwckAAAAAAADByQAAAAAAAgHFAAAAAAAAAcEAAAAAAAABqQAAAAAAAAGVAAAAAAACAZ0AAAAAAAEBrQAAAAAAA4G1AAAAAAABQcEAAAAAAAABxQAAAAAAA0HFAAAAAAABQcUAAAAAAACByQAAAAAAAwGdAAAAAAACgZkAAAAAAAIBoQAAAAAAAgGpAAAAAAADAbEAAAAAAAABuQAAAAAAAwG5AAAAAAAAgcEAAAAAAAKBwQAAAAAAAIHBAAAAAAADAcEAAAAAAAOBwQAAAAAAA0HBAAAAAAAAAcUAAAAAAALBwQAAAAAAAEHFAAAAAAAAAcUAAAAAAAJBxQAAAAAAAAPh/AAAAAAAQckAAAAAAALBxQAAAAAAAwHFAAAAAAADgcUAAAAAAAIByQAAAAAAAUHJAAAAAAACQckAAAAAAADByQAAAAAAAcHJAAAAAAAAQckAAAAAAAEByQAAAAAAAwGFAAAAAAAAgb0AAAAAAAMBwQAAAAAAA0HBAAAAAAAAgb0AAAAAAACBuQAAAAAAAwG1AAAAAAAAgbkAAAAAAAMBwQAAAAAAAUHJAAAAAAACAc0AAAAAAAMBwQAAAAAAAQHFAAAAAAADAZ0AAAAAAAMBmQAAAAAAAIGxAAAAAAABAZkAAAAAAAOBtQAAAAAAA0HBAAAAAAAAAcUAAAAAAAFBxQAAAAAAAgHFAAAAAAACwcUA=",
          "dtype": "f8"
         },
         "y0": " ",
         "yaxis": "y"
        },
        {
         "alignmentgroup": "True",
         "box": {
          "visible": true
         },
         "customdata": [
          [
           "Racing Bulls"
          ],
          [
           "Racing Bulls"
          ],
          [
           "Racing Bulls"
          ],
          [
           "Racing Bulls"
          ],
          [
           "Racing Bulls"
          ],
          [
           "Racing Bulls"
          ],
          [
           "Racing Bulls"
          ],
          [
           "Racing Bulls"
          ],
          [
           "Racing Bulls"
          ],
          [
           "Racing Bulls"
          ],
          [
           "Racing Bulls"
          ],
          [
           "Racing Bulls"
          ],
          [
           "Racing Bulls"
          ],
          [
           "Racing Bulls"
          ],
          [
           "Racing Bulls"
          ],
          [
           "Racing Bulls"
          ],
          [
           "Racing Bulls"
          ],
          [
           "Racing Bulls"
          ],
          [
           "Racing Bulls"
          ],
          [
           "Racing Bulls"
          ],
          [
           "Racing Bulls"
          ],
          [
           "Racing Bulls"
          ],
          [
           "Racing Bulls"
          ],
          [
           "Racing Bulls"
          ],
          [
           "Racing Bulls"
          ],
          [
           "Racing Bulls"
          ],
          [
           "Racing Bulls"
          ],
          [
           "Racing Bulls"
          ],
          [
           "Racing Bulls"
          ],
          [
           "Racing Bulls"
          ],
          [
           "Racing Bulls"
          ],
          [
           "Racing Bulls"
          ],
          [
           "Racing Bulls"
          ],
          [
           "Racing Bulls"
          ],
          [
           "Racing Bulls"
          ],
          [
           "Racing Bulls"
          ],
          [
           "Racing Bulls"
          ],
          [
           "Racing Bulls"
          ],
          [
           "Racing Bulls"
          ],
          [
           "Racing Bulls"
          ],
          [
           "Racing Bulls"
          ],
          [
           "Racing Bulls"
          ],
          [
           "Racing Bulls"
          ],
          [
           "Racing Bulls"
          ],
          [
           "Racing Bulls"
          ],
          [
           "Racing Bulls"
          ],
          [
           "Racing Bulls"
          ],
          [
           "Racing Bulls"
          ],
          [
           "Racing Bulls"
          ],
          [
           "Racing Bulls"
          ],
          [
           "Racing Bulls"
          ],
          [
           "Racing Bulls"
          ],
          [
           "Racing Bulls"
          ]
         ],
         "hovertemplate": "Team=%{customdata[0]}<br>Driver=%{x}<br>Speed Trap (km/h)=%{y}<extra></extra>",
         "legendgroup": "Racing Bulls",
         "marker": {
          "color": "#19d3f3"
         },
         "name": "Racing Bulls",
         "offsetgroup": "Racing Bulls",
         "orientation": "v",
         "points": "all",
         "scalegroup": "True",
         "showlegend": true,
         "type": "violin",
         "x": [
          "TSU",
          "TSU",
          "TSU",
          "TSU",
          "TSU",
          "TSU",
          "TSU",
          "TSU",
          "TSU",
          "TSU",
          "TSU",
          "TSU",
          "TSU",
          "TSU",
          "TSU",
          "TSU",
          "TSU",
          "TSU",
          "TSU",
          "TSU",
          "TSU",
          "TSU",
          "TSU",
          "TSU",
          "TSU",
          "TSU",
          "TSU",
          "TSU",
          "TSU",
          "TSU",
          "TSU",
          "TSU",
          "TSU",
          "TSU",
          "TSU",
          "TSU",
          "TSU",
          "TSU",
          "TSU",
          "TSU",
          "TSU",
          "TSU",
          "TSU",
          "TSU",
          "TSU",
          "TSU",
          "TSU",
          "TSU",
          "TSU",
          "TSU",
          "TSU",
          "TSU",
          "TSU"
         ],
         "x0": " ",
         "xaxis": "x",
         "y": {
          "bdata": "AAAAAAAgaEAAAAAAAGBnQAAAAAAAoGJAAAAAAADAakAAAAAAAGBsQAAAAAAAwG9AAAAAAACgb0AAAAAAABBwQAAAAAAAcHBAAAAAAABgcEAAAAAAAGBxQAAAAAAAQHBAAAAAAADwcEAAAAAAAHBxQAAAAAAAMHBAAAAAAABgbkAAAAAAAABwQAAAAAAAoHBAAAAAAACwcEAAAAAAABBxQAAAAAAAAHFAAAAAAABgcUAAAAAAACBxQAAAAAAAgHFAAAAAAABQcUAAAAAAAMBxQAAAAAAAoHFAAAAAAACwcUAAAAAAAJBxQAAAAAAAAPh/AAAAAADAXUAAAAAAAKBqQAAAAAAAIG9AAAAAAADwcEAAAAAAAIBqQAAAAAAAwG1AAAAAAABAbkAAAAAAABBwQAAAAAAAEHFAAAAAAAAAc0AAAAAAALByQAAAAAAA4HBAAAAAAAAAcEAAAAAAAOBmQAAAAAAAoGRAAAAAAABgZ0AAAAAAAGBqQAAAAAAAIGxAAAAAAADgb0AAAAAAACBwQAAAAAAAUHBAAAAAAAAAcUAAAAAAAKBxQA==",
          "dtype": "f8"
         },
         "y0": " ",
         "yaxis": "y"
        },
        {
         "alignmentgroup": "True",
         "box": {
          "visible": true
         },
         "customdata": [
          [
           "Williams"
          ],
          [
           "Williams"
          ],
          [
           "Williams"
          ],
          [
           "Williams"
          ],
          [
           "Williams"
          ],
          [
           "Williams"
          ],
          [
           "Williams"
          ],
          [
           "Williams"
          ],
          [
           "Williams"
          ],
          [
           "Williams"
          ],
          [
           "Williams"
          ],
          [
           "Williams"
          ],
          [
           "Williams"
          ],
          [
           "Williams"
          ],
          [
           "Williams"
          ],
          [
           "Williams"
          ],
          [
           "Williams"
          ],
          [
           "Williams"
          ],
          [
           "Williams"
          ],
          [
           "Williams"
          ],
          [
           "Williams"
          ],
          [
           "Williams"
          ],
          [
           "Williams"
          ],
          [
           "Williams"
          ],
          [
           "Williams"
          ],
          [
           "Williams"
          ],
          [
           "Williams"
          ],
          [
           "Williams"
          ],
          [
           "Williams"
          ],
          [
           "Williams"
          ],
          [
           "Williams"
          ],
          [
           "Williams"
          ],
          [
           "Williams"
          ],
          [
           "Williams"
          ],
          [
           "Williams"
          ],
          [
           "Williams"
          ],
          [
           "Williams"
          ],
          [
           "Williams"
          ],
          [
           "Williams"
          ],
          [
           "Williams"
          ],
          [
           "Williams"
          ],
          [
           "Williams"
          ],
          [
           "Williams"
          ],
          [
           "Williams"
          ],
          [
           "Williams"
          ],
          [
           "Williams"
          ],
          [
           "Williams"
          ],
          [
           "Williams"
          ],
          [
           "Williams"
          ],
          [
           "Williams"
          ],
          [
           "Williams"
          ],
          [
           "Williams"
          ],
          [
           "Williams"
          ],
          [
           "Williams"
          ]
         ],
         "hovertemplate": "Team=%{customdata[0]}<br>Driver=%{x}<br>Speed Trap (km/h)=%{y}<extra></extra>",
         "legendgroup": "Williams",
         "marker": {
          "color": "#FF6692"
         },
         "name": "Williams",
         "offsetgroup": "Williams",
         "orientation": "v",
         "points": "all",
         "scalegroup": "True",
         "showlegend": true,
         "type": "violin",
         "x": [
          "ALB",
          "ALB",
          "ALB",
          "ALB",
          "ALB",
          "ALB",
          "ALB",
          "ALB",
          "ALB",
          "ALB",
          "ALB",
          "ALB",
          "ALB",
          "ALB",
          "ALB",
          "ALB",
          "ALB",
          "ALB",
          "ALB",
          "ALB",
          "ALB",
          "ALB",
          "ALB",
          "ALB",
          "ALB",
          "ALB",
          "ALB",
          "ALB",
          "ALB",
          "ALB",
          "ALB",
          "ALB",
          "ALB",
          "ALB",
          "ALB",
          "ALB",
          "ALB",
          "ALB",
          "ALB",
          "ALB",
          "ALB",
          "ALB",
          "ALB",
          "ALB",
          "ALB",
          "ALB",
          "ALB",
          "ALB",
          "ALB",
          "ALB",
          "ALB",
          "ALB",
          "ALB",
          "ALB"
         ],
         "x0": " ",
         "xaxis": "x",
         "y": {
          "bdata": "AAAAAAAAaEAAAAAAAMBnQAAAAAAAoGpAAAAAAACgbEAAAAAAAAD4fwAAAAAAQG1AAAAAAAAA+H8AAAAAAIBvQAAAAAAA4G9AAAAAAAAAcEAAAAAAABBwQAAAAAAAMHBAAAAAAACwcEAAAAAAADBwQAAAAAAAgG9AAAAAAADgb0AAAAAAADBwQAAAAAAAAHFAAAAAAABgcUAAAAAAAHBxQAAAAAAAkHFAAAAAAAAAcUAAAAAAAAD4fwAAAAAAMHFAAAAAAACwcUAAAAAAAIBxQAAAAAAAYHFAAAAAAAAwckAAAAAAACByQAAAAAAAgHFAAAAAAAAAXUAAAAAAACBrQAAAAAAAYGxAAAAAAABAb0AAAAAAACBoQAAAAAAAQGtAAAAAAACgaEAAAAAAAIBoQAAAAAAAwHBAAAAAAADwcUAAAAAAACByQAAAAAAAYGtAAAAAAAAAcUAAAAAAAKBuQAAAAAAAwGhAAAAAAAAgYEAAAAAAACBhQAAAAAAAYGJAAAAAAAAAbkAAAAAAAEBwQAAAAAAAUHBAAAAAAADgcEAAAAAAALBwQAAAAAAAgHBA",
          "dtype": "f8"
         },
         "y0": " ",
         "yaxis": "y"
        },
        {
         "alignmentgroup": "True",
         "box": {
          "visible": true
         },
         "customdata": [
          [
           "Kick Sauber"
          ],
          [
           "Kick Sauber"
          ],
          [
           "Kick Sauber"
          ],
          [
           "Kick Sauber"
          ],
          [
           "Kick Sauber"
          ],
          [
           "Kick Sauber"
          ],
          [
           "Kick Sauber"
          ],
          [
           "Kick Sauber"
          ],
          [
           "Kick Sauber"
          ],
          [
           "Kick Sauber"
          ],
          [
           "Kick Sauber"
          ],
          [
           "Kick Sauber"
          ],
          [
           "Kick Sauber"
          ],
          [
           "Kick Sauber"
          ],
          [
           "Kick Sauber"
          ],
          [
           "Kick Sauber"
          ],
          [
           "Kick Sauber"
          ],
          [
           "Kick Sauber"
          ],
          [
           "Kick Sauber"
          ],
          [
           "Kick Sauber"
          ],
          [
           "Kick Sauber"
          ],
          [
           "Kick Sauber"
          ],
          [
           "Kick Sauber"
          ],
          [
           "Kick Sauber"
          ],
          [
           "Kick Sauber"
          ],
          [
           "Kick Sauber"
          ],
          [
           "Kick Sauber"
          ],
          [
           "Kick Sauber"
          ],
          [
           "Kick Sauber"
          ],
          [
           "Kick Sauber"
          ],
          [
           "Kick Sauber"
          ],
          [
           "Kick Sauber"
          ],
          [
           "Kick Sauber"
          ],
          [
           "Kick Sauber"
          ],
          [
           "Kick Sauber"
          ],
          [
           "Kick Sauber"
          ],
          [
           "Kick Sauber"
          ],
          [
           "Kick Sauber"
          ],
          [
           "Kick Sauber"
          ],
          [
           "Kick Sauber"
          ],
          [
           "Kick Sauber"
          ],
          [
           "Kick Sauber"
          ],
          [
           "Kick Sauber"
          ],
          [
           "Kick Sauber"
          ],
          [
           "Kick Sauber"
          ],
          [
           "Kick Sauber"
          ],
          [
           "Kick Sauber"
          ],
          [
           "Kick Sauber"
          ],
          [
           "Kick Sauber"
          ],
          [
           "Kick Sauber"
          ],
          [
           "Kick Sauber"
          ],
          [
           "Kick Sauber"
          ],
          [
           "Kick Sauber"
          ],
          [
           "Kick Sauber"
          ],
          [
           "Kick Sauber"
          ],
          [
           "Kick Sauber"
          ],
          [
           "Kick Sauber"
          ],
          [
           "Kick Sauber"
          ],
          [
           "Kick Sauber"
          ],
          [
           "Kick Sauber"
          ],
          [
           "Kick Sauber"
          ],
          [
           "Kick Sauber"
          ],
          [
           "Kick Sauber"
          ],
          [
           "Kick Sauber"
          ],
          [
           "Kick Sauber"
          ],
          [
           "Kick Sauber"
          ],
          [
           "Kick Sauber"
          ],
          [
           "Kick Sauber"
          ],
          [
           "Kick Sauber"
          ],
          [
           "Kick Sauber"
          ],
          [
           "Kick Sauber"
          ],
          [
           "Kick Sauber"
          ],
          [
           "Kick Sauber"
          ],
          [
           "Kick Sauber"
          ],
          [
           "Kick Sauber"
          ],
          [
           "Kick Sauber"
          ],
          [
           "Kick Sauber"
          ],
          [
           "Kick Sauber"
          ],
          [
           "Kick Sauber"
          ],
          [
           "Kick Sauber"
          ],
          [
           "Kick Sauber"
          ],
          [
           "Kick Sauber"
          ],
          [
           "Kick Sauber"
          ],
          [
           "Kick Sauber"
          ],
          [
           "Kick Sauber"
          ],
          [
           "Kick Sauber"
          ],
          [
           "Kick Sauber"
          ],
          [
           "Kick Sauber"
          ],
          [
           "Kick Sauber"
          ],
          [
           "Kick Sauber"
          ],
          [
           "Kick Sauber"
          ],
          [
           "Kick Sauber"
          ],
          [
           "Kick Sauber"
          ],
          [
           "Kick Sauber"
          ],
          [
           "Kick Sauber"
          ]
         ],
         "hovertemplate": "Team=%{customdata[0]}<br>Driver=%{x}<br>Speed Trap (km/h)=%{y}<extra></extra>",
         "legendgroup": "Kick Sauber",
         "marker": {
          "color": "#B6E880"
         },
         "name": "Kick Sauber",
         "offsetgroup": "Kick Sauber",
         "orientation": "v",
         "points": "all",
         "scalegroup": "True",
         "showlegend": true,
         "type": "violin",
         "x": [
          "HUL",
          "HUL",
          "HUL",
          "HUL",
          "HUL",
          "HUL",
          "HUL",
          "HUL",
          "HUL",
          "HUL",
          "HUL",
          "HUL",
          "HUL",
          "HUL",
          "HUL",
          "HUL",
          "HUL",
          "HUL",
          "HUL",
          "HUL",
          "HUL",
          "HUL",
          "HUL",
          "HUL",
          "HUL",
          "HUL",
          "HUL",
          "HUL",
          "HUL",
          "HUL",
          "HUL",
          "HUL",
          "HUL",
          "HUL",
          "HUL",
          "HUL",
          "HUL",
          "HUL",
          "HUL",
          "HUL",
          "HUL",
          "HUL",
          "HUL",
          "HUL",
          "HUL",
          "HUL",
          "HUL",
          "HUL",
          "HUL",
          "HUL",
          "HUL",
          "HUL",
          "HUL",
          "HUL",
          "BOR",
          "BOR",
          "BOR",
          "BOR",
          "BOR",
          "BOR",
          "BOR",
          "BOR",
          "BOR",
          "BOR",
          "BOR",
          "BOR",
          "BOR",
          "BOR",
          "BOR",
          "BOR",
          "BOR",
          "BOR",
          "BOR",
          "BOR",
          "BOR",
          "BOR",
          "BOR",
          "BOR",
          "BOR",
          "BOR",
          "BOR",
          "BOR",
          "BOR",
          "BOR",
          "BOR",
          "BOR",
          "BOR",
          "BOR",
          "BOR",
          "BOR",
          "BOR",
          "BOR",
          "BOR",
          "BOR",
          "BOR"
         ],
         "x0": " ",
         "xaxis": "x",
         "y": {
          "bdata": "AAAAAACgZkAAAAAAAIBmQAAAAAAAQGlAAAAAAAAA+H8AAAAAAMBsQAAAAAAAQG5AAAAAAAAwcEAAAAAAAJBwQAAAAAAAwHBAAAAAAAAgcUAAAAAAAHBxQAAAAAAAoHBAAAAAAAAAcUAAAAAAAFBxQAAAAAAAAHFAAAAAAADAcUAAAAAAAGBxQAAAAAAA0HFAAAAAAACgcUAAAAAAABByQAAAAAAAAHJAAAAAAAAQckAAAAAAADByQAAAAAAAAPh/AAAAAAAQckAAAAAAACByQAAAAAAAEHJAAAAAAAAgckAAAAAAABByQAAAAAAAMHJAAAAAAAAAZEAAAAAAAKBsQAAAAAAAQHFAAAAAAADAcUAAAAAAAEBuQAAAAAAAEHBAAAAAAAAQcUAAAAAAAGBwQAAAAAAAUHFAAAAAAACAckAAAAAAAFByQAAAAAAAYGpAAAAAAABgckAAAAAAAIBvQAAAAAAA4GRAAAAAAACAYUAAAAAAAEBgQAAAAAAA4GVAAAAAAACAbUAAAAAAADBxQAAAAAAAwHFAAAAAAAAwckAAAAAAABByQAAAAAAAIHJAAAAAAAAAaEAAAAAAAMBjQAAAAAAAIGZAAAAAAABgaUAAAAAAAEBuQAAAAAAAgHBAAAAAAAAgcUAAAAAAAJBxQAAAAAAA4HBAAAAAAABQcEAAAAAAAJBxQAAAAAAAsHFAAAAAAAAA+H8AAAAAAMBxQAAAAAAA8HFAAAAAAACQcUAAAAAAAAByQAAAAAAAAPh/AAAAAAAQckAAAAAAADByQAAAAAAAIHJAAAAAAAAQckAAAAAAADByQAAAAAAAQHJAAAAAAAAgckAAAAAAADByQAAAAAAAAPh/AAAAAABAckAAAAAAADByQAAAAAAAIHJAAAAAAADgY0AAAAAAAABpQAAAAAAAYGhAAAAAAABgZ0AAAAAAAOBlQAAAAAAAIG5AAAAAAAAAckAAAAAAAHByQAAAAAAAYHJAAAAAAACQcEAAAAAAACBqQA==",
          "dtype": "f8"
         },
         "y0": " ",
         "yaxis": "y"
        },
        {
         "alignmentgroup": "True",
         "box": {
          "visible": true
         },
         "customdata": [
          [
           "Haas F1 Team"
          ],
          [
           "Haas F1 Team"
          ],
          [
           "Haas F1 Team"
          ],
          [
           "Haas F1 Team"
          ],
          [
           "Haas F1 Team"
          ],
          [
           "Haas F1 Team"
          ],
          [
           "Haas F1 Team"
          ],
          [
           "Haas F1 Team"
          ],
          [
           "Haas F1 Team"
          ],
          [
           "Haas F1 Team"
          ],
          [
           "Haas F1 Team"
          ],
          [
           "Haas F1 Team"
          ],
          [
           "Haas F1 Team"
          ],
          [
           "Haas F1 Team"
          ],
          [
           "Haas F1 Team"
          ],
          [
           "Haas F1 Team"
          ],
          [
           "Haas F1 Team"
          ],
          [
           "Haas F1 Team"
          ],
          [
           "Haas F1 Team"
          ],
          [
           "Haas F1 Team"
          ],
          [
           "Haas F1 Team"
          ],
          [
           "Haas F1 Team"
          ],
          [
           "Haas F1 Team"
          ],
          [
           "Haas F1 Team"
          ],
          [
           "Haas F1 Team"
          ],
          [
           "Haas F1 Team"
          ],
          [
           "Haas F1 Team"
          ],
          [
           "Haas F1 Team"
          ],
          [
           "Haas F1 Team"
          ],
          [
           "Haas F1 Team"
          ],
          [
           "Haas F1 Team"
          ],
          [
           "Haas F1 Team"
          ],
          [
           "Haas F1 Team"
          ],
          [
           "Haas F1 Team"
          ],
          [
           "Haas F1 Team"
          ],
          [
           "Haas F1 Team"
          ],
          [
           "Haas F1 Team"
          ],
          [
           "Haas F1 Team"
          ],
          [
           "Haas F1 Team"
          ],
          [
           "Haas F1 Team"
          ],
          [
           "Haas F1 Team"
          ],
          [
           "Haas F1 Team"
          ],
          [
           "Haas F1 Team"
          ],
          [
           "Haas F1 Team"
          ],
          [
           "Haas F1 Team"
          ],
          [
           "Haas F1 Team"
          ],
          [
           "Haas F1 Team"
          ],
          [
           "Haas F1 Team"
          ],
          [
           "Haas F1 Team"
          ],
          [
           "Haas F1 Team"
          ],
          [
           "Haas F1 Team"
          ],
          [
           "Haas F1 Team"
          ],
          [
           "Haas F1 Team"
          ],
          [
           "Haas F1 Team"
          ],
          [
           "Haas F1 Team"
          ],
          [
           "Haas F1 Team"
          ],
          [
           "Haas F1 Team"
          ],
          [
           "Haas F1 Team"
          ],
          [
           "Haas F1 Team"
          ],
          [
           "Haas F1 Team"
          ],
          [
           "Haas F1 Team"
          ],
          [
           "Haas F1 Team"
          ],
          [
           "Haas F1 Team"
          ],
          [
           "Haas F1 Team"
          ],
          [
           "Haas F1 Team"
          ],
          [
           "Haas F1 Team"
          ],
          [
           "Haas F1 Team"
          ],
          [
           "Haas F1 Team"
          ],
          [
           "Haas F1 Team"
          ],
          [
           "Haas F1 Team"
          ],
          [
           "Haas F1 Team"
          ],
          [
           "Haas F1 Team"
          ],
          [
           "Haas F1 Team"
          ],
          [
           "Haas F1 Team"
          ],
          [
           "Haas F1 Team"
          ],
          [
           "Haas F1 Team"
          ],
          [
           "Haas F1 Team"
          ],
          [
           "Haas F1 Team"
          ],
          [
           "Haas F1 Team"
          ],
          [
           "Haas F1 Team"
          ],
          [
           "Haas F1 Team"
          ],
          [
           "Haas F1 Team"
          ],
          [
           "Haas F1 Team"
          ],
          [
           "Haas F1 Team"
          ],
          [
           "Haas F1 Team"
          ],
          [
           "Haas F1 Team"
          ],
          [
           "Haas F1 Team"
          ],
          [
           "Haas F1 Team"
          ],
          [
           "Haas F1 Team"
          ],
          [
           "Haas F1 Team"
          ],
          [
           "Haas F1 Team"
          ],
          [
           "Haas F1 Team"
          ],
          [
           "Haas F1 Team"
          ],
          [
           "Haas F1 Team"
          ],
          [
           "Haas F1 Team"
          ],
          [
           "Haas F1 Team"
          ],
          [
           "Haas F1 Team"
          ],
          [
           "Haas F1 Team"
          ],
          [
           "Haas F1 Team"
          ],
          [
           "Haas F1 Team"
          ],
          [
           "Haas F1 Team"
          ],
          [
           "Haas F1 Team"
          ],
          [
           "Haas F1 Team"
          ],
          [
           "Haas F1 Team"
          ],
          [
           "Haas F1 Team"
          ],
          [
           "Haas F1 Team"
          ]
         ],
         "hovertemplate": "Team=%{customdata[0]}<br>Driver=%{x}<br>Speed Trap (km/h)=%{y}<extra></extra>",
         "legendgroup": "Haas F1 Team",
         "marker": {
          "color": "#FF97FF"
         },
         "name": "Haas F1 Team",
         "offsetgroup": "Haas F1 Team",
         "orientation": "v",
         "points": "all",
         "scalegroup": "True",
         "showlegend": true,
         "type": "violin",
         "x": [
          "OCO",
          "OCO",
          "OCO",
          "OCO",
          "OCO",
          "OCO",
          "OCO",
          "OCO",
          "OCO",
          "OCO",
          "OCO",
          "OCO",
          "OCO",
          "OCO",
          "OCO",
          "OCO",
          "OCO",
          "OCO",
          "OCO",
          "OCO",
          "OCO",
          "OCO",
          "OCO",
          "OCO",
          "OCO",
          "OCO",
          "OCO",
          "OCO",
          "OCO",
          "OCO",
          "OCO",
          "OCO",
          "OCO",
          "OCO",
          "OCO",
          "OCO",
          "OCO",
          "OCO",
          "OCO",
          "OCO",
          "OCO",
          "OCO",
          "OCO",
          "OCO",
          "OCO",
          "OCO",
          "OCO",
          "OCO",
          "OCO",
          "OCO",
          "OCO",
          "OCO",
          "OCO",
          "BEA",
          "BEA",
          "BEA",
          "BEA",
          "BEA",
          "BEA",
          "BEA",
          "BEA",
          "BEA",
          "BEA",
          "BEA",
          "BEA",
          "BEA",
          "BEA",
          "BEA",
          "BEA",
          "BEA",
          "BEA",
          "BEA",
          "BEA",
          "BEA",
          "BEA",
          "BEA",
          "BEA",
          "BEA",
          "BEA",
          "BEA",
          "BEA",
          "BEA",
          "BEA",
          "BEA",
          "BEA",
          "BEA",
          "BEA",
          "BEA",
          "BEA",
          "BEA",
          "BEA",
          "BEA",
          "BEA",
          "BEA",
          "BEA",
          "BEA",
          "BEA",
          "BEA",
          "BEA",
          "BEA",
          "BEA",
          "BEA",
          "BEA",
          "BEA",
          "BEA",
          "BEA"
         ],
         "x0": " ",
         "xaxis": "x",
         "y": {
          "bdata": "AAAAAADAY0AAAAAAAABnQAAAAAAAYGRAAAAAAADgZ0AAAAAAACBrQAAAAAAAoGxAAAAAAADAbkAAAAAAAGBuQAAAAAAAoG1AAAAAAABQcEAAAAAAAGBwQAAAAAAAQHBAAAAAAADAb0AAAAAAAMBwQAAAAAAAcHBAAAAAAAAQcUAAAAAAAABwQAAAAAAAsHBAAAAAAADgcEAAAAAAAEBxQAAAAAAAAHFAAAAAAABwcUAAAAAAAGBxQAAAAAAAgHFAAAAAAACwcUAAAAAAAFBxQAAAAAAAcHFAAAAAAABQcUAAAAAAAHBxQAAAAAAAAPh/AAAAAADAakAAAAAAAGBnQAAAAAAAQGVAAAAAAAAgaUAAAAAAACBlQAAAAAAAgGZAAAAAAADQcEAAAAAAALBxQAAAAAAAQHJAAAAAAAAwckAAAAAAAEBxQAAAAAAAYGxAAAAAAADAZ0AAAAAAAABrQAAAAAAAIHBAAAAAAAAAcEAAAAAAAMBnQAAAAAAA4GtAAAAAAABAb0AAAAAAANBwQAAAAAAAAPh/AAAAAACQcUAAAAAAAGBxQAAAAAAAQGVAAAAAAABgZkAAAAAAACBkQAAAAAAAQGNAAAAAAABAa0AAAAAAAOBrQAAAAAAAoG9AAAAAAABAb0AAAAAAAHBwQAAAAAAA8HBAAAAAAADgcEAAAAAAAJBxQAAAAAAAQHFAAAAAAABwcEAAAAAAALBwQAAAAAAAMHBAAAAAAACQcEAAAAAAAHBwQAAAAAAA8HBAAAAAAAAQcUAAAAAAAABxQAAAAAAAAPh/AAAAAACwcUAAAAAAANBxQAAAAAAAoHFAAAAAAABgcUAAAAAAAFBxQAAAAAAAoHFAAAAAAABwcUAAAAAAAOBpQAAAAAAAYGhAAAAAAABAaUAAAAAAAOBuQAAAAAAAoGlAAAAAAADgaUAAAAAAAABmQAAAAAAAoHFAAAAAAADAcUAAAAAAAPBxQAAAAAAAYHFAAAAAAABga0AAAAAAAABvQAAAAAAA4GpAAAAAAADAXEAAAAAAACBoQAAAAAAAIHBAAAAAAADwcEAAAAAAACBxQAAAAAAA8HFAAAAAAAAQckAAAAAAAPBxQAAAAAAAIHJAAAAAAACgcUA=",
          "dtype": "f8"
         },
         "y0": " ",
         "yaxis": "y"
        },
        {
         "alignmentgroup": "True",
         "box": {
          "visible": true
         },
         "customdata": [
          [
           "McLaren"
          ],
          [
           "McLaren"
          ],
          [
           "McLaren"
          ],
          [
           "McLaren"
          ],
          [
           "McLaren"
          ],
          [
           "McLaren"
          ],
          [
           "McLaren"
          ],
          [
           "McLaren"
          ],
          [
           "McLaren"
          ],
          [
           "McLaren"
          ],
          [
           "McLaren"
          ],
          [
           "McLaren"
          ],
          [
           "McLaren"
          ],
          [
           "McLaren"
          ],
          [
           "McLaren"
          ],
          [
           "McLaren"
          ],
          [
           "McLaren"
          ],
          [
           "McLaren"
          ],
          [
           "McLaren"
          ],
          [
           "McLaren"
          ],
          [
           "McLaren"
          ],
          [
           "McLaren"
          ],
          [
           "McLaren"
          ],
          [
           "McLaren"
          ],
          [
           "McLaren"
          ],
          [
           "McLaren"
          ],
          [
           "McLaren"
          ],
          [
           "McLaren"
          ],
          [
           "McLaren"
          ],
          [
           "McLaren"
          ],
          [
           "McLaren"
          ],
          [
           "McLaren"
          ],
          [
           "McLaren"
          ],
          [
           "McLaren"
          ],
          [
           "McLaren"
          ],
          [
           "McLaren"
          ],
          [
           "McLaren"
          ],
          [
           "McLaren"
          ],
          [
           "McLaren"
          ],
          [
           "McLaren"
          ],
          [
           "McLaren"
          ],
          [
           "McLaren"
          ],
          [
           "McLaren"
          ],
          [
           "McLaren"
          ],
          [
           "McLaren"
          ],
          [
           "McLaren"
          ],
          [
           "McLaren"
          ],
          [
           "McLaren"
          ],
          [
           "McLaren"
          ],
          [
           "McLaren"
          ],
          [
           "McLaren"
          ],
          [
           "McLaren"
          ],
          [
           "McLaren"
          ],
          [
           "McLaren"
          ],
          [
           "McLaren"
          ],
          [
           "McLaren"
          ],
          [
           "McLaren"
          ],
          [
           "McLaren"
          ],
          [
           "McLaren"
          ],
          [
           "McLaren"
          ],
          [
           "McLaren"
          ],
          [
           "McLaren"
          ],
          [
           "McLaren"
          ],
          [
           "McLaren"
          ],
          [
           "McLaren"
          ],
          [
           "McLaren"
          ],
          [
           "McLaren"
          ],
          [
           "McLaren"
          ],
          [
           "McLaren"
          ],
          [
           "McLaren"
          ],
          [
           "McLaren"
          ],
          [
           "McLaren"
          ],
          [
           "McLaren"
          ],
          [
           "McLaren"
          ],
          [
           "McLaren"
          ],
          [
           "McLaren"
          ],
          [
           "McLaren"
          ],
          [
           "McLaren"
          ],
          [
           "McLaren"
          ],
          [
           "McLaren"
          ],
          [
           "McLaren"
          ],
          [
           "McLaren"
          ],
          [
           "McLaren"
          ],
          [
           "McLaren"
          ],
          [
           "McLaren"
          ],
          [
           "McLaren"
          ],
          [
           "McLaren"
          ],
          [
           "McLaren"
          ],
          [
           "McLaren"
          ],
          [
           "McLaren"
          ],
          [
           "McLaren"
          ],
          [
           "McLaren"
          ],
          [
           "McLaren"
          ],
          [
           "McLaren"
          ],
          [
           "McLaren"
          ],
          [
           "McLaren"
          ],
          [
           "McLaren"
          ],
          [
           "McLaren"
          ],
          [
           "McLaren"
          ],
          [
           "McLaren"
          ],
          [
           "McLaren"
          ],
          [
           "McLaren"
          ],
          [
           "McLaren"
          ],
          [
           "McLaren"
          ],
          [
           "McLaren"
          ]
         ],
         "hovertemplate": "Team=%{customdata[0]}<br>Driver=%{x}<br>Speed Trap (km/h)=%{y}<extra></extra>",
         "legendgroup": "McLaren",
         "marker": {
          "color": "#FECB52"
         },
         "name": "McLaren",
         "offsetgroup": "McLaren",
         "orientation": "v",
         "points": "all",
         "scalegroup": "True",
         "showlegend": true,
         "type": "violin",
         "x": [
          "NOR",
          "NOR",
          "NOR",
          "NOR",
          "NOR",
          "NOR",
          "NOR",
          "NOR",
          "NOR",
          "NOR",
          "NOR",
          "NOR",
          "NOR",
          "NOR",
          "NOR",
          "NOR",
          "NOR",
          "NOR",
          "NOR",
          "NOR",
          "NOR",
          "NOR",
          "NOR",
          "NOR",
          "NOR",
          "NOR",
          "NOR",
          "NOR",
          "NOR",
          "NOR",
          "NOR",
          "NOR",
          "NOR",
          "NOR",
          "NOR",
          "NOR",
          "NOR",
          "NOR",
          "NOR",
          "NOR",
          "NOR",
          "NOR",
          "NOR",
          "NOR",
          "NOR",
          "NOR",
          "NOR",
          "NOR",
          "NOR",
          "NOR",
          "NOR",
          "NOR",
          "NOR",
          "PIA",
          "PIA",
          "PIA",
          "PIA",
          "PIA",
          "PIA",
          "PIA",
          "PIA",
          "PIA",
          "PIA",
          "PIA",
          "PIA",
          "PIA",
          "PIA",
          "PIA",
          "PIA",
          "PIA",
          "PIA",
          "PIA",
          "PIA",
          "PIA",
          "PIA",
          "PIA",
          "PIA",
          "PIA",
          "PIA",
          "PIA",
          "PIA",
          "PIA",
          "PIA",
          "PIA",
          "PIA",
          "PIA",
          "PIA",
          "PIA",
          "PIA",
          "PIA",
          "PIA",
          "PIA",
          "PIA",
          "PIA",
          "PIA",
          "PIA",
          "PIA",
          "PIA",
          "PIA",
          "PIA",
          "PIA",
          "PIA",
          "PIA",
          "PIA",
          "PIA"
         ],
         "x0": " ",
         "xaxis": "x",
         "y": {
          "bdata": "AAAAAABgbEAAAAAAAEBnQAAAAAAAgGZAAAAAAABAa0AAAAAAAEBxQAAAAAAAkHFAAAAAAACAcUAAAAAAAGBxQAAAAAAAwHFAAAAAAABwcUAAAAAAAKBxQAAAAAAAkHFAAAAAAAAA+H8AAAAAAMBxQAAAAAAAsHFAAAAAAAAA+H8AAAAAABByQAAAAAAA8HFAAAAAAACwcUAAAAAAAAByQAAAAAAA8HFAAAAAAACwcUAAAAAAABByQAAAAAAAMHJAAAAAAAAgckAAAAAAADByQAAAAAAAQHJAAAAAAABwckAAAAAAAAD4fwAAAAAAMHJAAAAAAABgckAAAAAAAGBmQAAAAAAAAGdAAAAAAABAZ0AAAAAAAABsQAAAAAAA4GJAAAAAAABgakAAAAAAAKByQAAAAAAAwHJAAAAAAAAQc0AAAAAAAOBrQAAAAAAAQHJAAAAAAACAbEAAAAAAAABsQAAAAAAAYGJAAAAAAAAAYEAAAAAAACBoQAAAAAAAwHBAAAAAAAAgckAAAAAAABByQAAAAAAAcHJAAAAAAABQckAAAAAAAMByQAAAAAAAQGxAAAAAAACgZ0AAAAAAAIBgQAAAAAAA4GxAAAAAAAAQcEAAAAAAABBxQAAAAAAAgHFAAAAAAADwcEAAAAAAACBxQAAAAAAAAPh/AAAAAAAQcUAAAAAAAGBxQAAAAAAAcHFAAAAAAACwcUAAAAAAAJBxQAAAAAAAwHFAAAAAAADgcUAAAAAAAAD4fwAAAAAAgHFAAAAAAACgcUAAAAAAAOBxQAAAAAAAIHJAAAAAAABQckAAAAAAAPBxQAAAAAAAEHJAAAAAAABAckAAAAAAAGByQAAAAAAAgHJAAAAAAABQckAAAAAAACByQAAAAAAAYHJAAAAAAABAZUAAAAAAAOBnQAAAAAAAwG5AAAAAAABgaEAAAAAAAGBuQAAAAAAAYGtAAAAAAACAckAAAAAAAABzQAAAAAAAAGtAAAAAAABwcEAAAAAAACBmQAAAAAAAwGJAAAAAAACgaUAAAAAAAKBwQAAAAAAAIGdAAAAAAABgbkAAAAAAAABxQAAAAAAA0HFAAAAAAABAcEAAAAAAAHByQAAAAAAAgHJA",
          "dtype": "f8"
         },
         "y0": " ",
         "yaxis": "y"
        }
       ],
       "layout": {
        "height": 700,
        "legend": {
         "title": {
          "text": "Team"
         },
         "tracegroupgap": 0
        },
        "template": {
         "data": {
          "bar": [
           {
            "error_x": {
             "color": "#2a3f5f"
            },
            "error_y": {
             "color": "#2a3f5f"
            },
            "marker": {
             "line": {
              "color": "#E5ECF6",
              "width": 0.5
             },
             "pattern": {
              "fillmode": "overlay",
              "size": 10,
              "solidity": 0.2
             }
            },
            "type": "bar"
           }
          ],
          "barpolar": [
           {
            "marker": {
             "line": {
              "color": "#E5ECF6",
              "width": 0.5
             },
             "pattern": {
              "fillmode": "overlay",
              "size": 10,
              "solidity": 0.2
             }
            },
            "type": "barpolar"
           }
          ],
          "carpet": [
           {
            "aaxis": {
             "endlinecolor": "#2a3f5f",
             "gridcolor": "white",
             "linecolor": "white",
             "minorgridcolor": "white",
             "startlinecolor": "#2a3f5f"
            },
            "baxis": {
             "endlinecolor": "#2a3f5f",
             "gridcolor": "white",
             "linecolor": "white",
             "minorgridcolor": "white",
             "startlinecolor": "#2a3f5f"
            },
            "type": "carpet"
           }
          ],
          "choropleth": [
           {
            "colorbar": {
             "outlinewidth": 0,
             "ticks": ""
            },
            "type": "choropleth"
           }
          ],
          "contour": [
           {
            "colorbar": {
             "outlinewidth": 0,
             "ticks": ""
            },
            "colorscale": [
             [
              0,
              "#0d0887"
             ],
             [
              0.1111111111111111,
              "#46039f"
             ],
             [
              0.2222222222222222,
              "#7201a8"
             ],
             [
              0.3333333333333333,
              "#9c179e"
             ],
             [
              0.4444444444444444,
              "#bd3786"
             ],
             [
              0.5555555555555556,
              "#d8576b"
             ],
             [
              0.6666666666666666,
              "#ed7953"
             ],
             [
              0.7777777777777778,
              "#fb9f3a"
             ],
             [
              0.8888888888888888,
              "#fdca26"
             ],
             [
              1,
              "#f0f921"
             ]
            ],
            "type": "contour"
           }
          ],
          "contourcarpet": [
           {
            "colorbar": {
             "outlinewidth": 0,
             "ticks": ""
            },
            "type": "contourcarpet"
           }
          ],
          "heatmap": [
           {
            "colorbar": {
             "outlinewidth": 0,
             "ticks": ""
            },
            "colorscale": [
             [
              0,
              "#0d0887"
             ],
             [
              0.1111111111111111,
              "#46039f"
             ],
             [
              0.2222222222222222,
              "#7201a8"
             ],
             [
              0.3333333333333333,
              "#9c179e"
             ],
             [
              0.4444444444444444,
              "#bd3786"
             ],
             [
              0.5555555555555556,
              "#d8576b"
             ],
             [
              0.6666666666666666,
              "#ed7953"
             ],
             [
              0.7777777777777778,
              "#fb9f3a"
             ],
             [
              0.8888888888888888,
              "#fdca26"
             ],
             [
              1,
              "#f0f921"
             ]
            ],
            "type": "heatmap"
           }
          ],
          "histogram": [
           {
            "marker": {
             "pattern": {
              "fillmode": "overlay",
              "size": 10,
              "solidity": 0.2
             }
            },
            "type": "histogram"
           }
          ],
          "histogram2d": [
           {
            "colorbar": {
             "outlinewidth": 0,
             "ticks": ""
            },
            "colorscale": [
             [
              0,
              "#0d0887"
             ],
             [
              0.1111111111111111,
              "#46039f"
             ],
             [
              0.2222222222222222,
              "#7201a8"
             ],
             [
              0.3333333333333333,
              "#9c179e"
             ],
             [
              0.4444444444444444,
              "#bd3786"
             ],
             [
              0.5555555555555556,
              "#d8576b"
             ],
             [
              0.6666666666666666,
              "#ed7953"
             ],
             [
              0.7777777777777778,
              "#fb9f3a"
             ],
             [
              0.8888888888888888,
              "#fdca26"
             ],
             [
              1,
              "#f0f921"
             ]
            ],
            "type": "histogram2d"
           }
          ],
          "histogram2dcontour": [
           {
            "colorbar": {
             "outlinewidth": 0,
             "ticks": ""
            },
            "colorscale": [
             [
              0,
              "#0d0887"
             ],
             [
              0.1111111111111111,
              "#46039f"
             ],
             [
              0.2222222222222222,
              "#7201a8"
             ],
             [
              0.3333333333333333,
              "#9c179e"
             ],
             [
              0.4444444444444444,
              "#bd3786"
             ],
             [
              0.5555555555555556,
              "#d8576b"
             ],
             [
              0.6666666666666666,
              "#ed7953"
             ],
             [
              0.7777777777777778,
              "#fb9f3a"
             ],
             [
              0.8888888888888888,
              "#fdca26"
             ],
             [
              1,
              "#f0f921"
             ]
            ],
            "type": "histogram2dcontour"
           }
          ],
          "mesh3d": [
           {
            "colorbar": {
             "outlinewidth": 0,
             "ticks": ""
            },
            "type": "mesh3d"
           }
          ],
          "parcoords": [
           {
            "line": {
             "colorbar": {
              "outlinewidth": 0,
              "ticks": ""
             }
            },
            "type": "parcoords"
           }
          ],
          "pie": [
           {
            "automargin": true,
            "type": "pie"
           }
          ],
          "scatter": [
           {
            "fillpattern": {
             "fillmode": "overlay",
             "size": 10,
             "solidity": 0.2
            },
            "type": "scatter"
           }
          ],
          "scatter3d": [
           {
            "line": {
             "colorbar": {
              "outlinewidth": 0,
              "ticks": ""
             }
            },
            "marker": {
             "colorbar": {
              "outlinewidth": 0,
              "ticks": ""
             }
            },
            "type": "scatter3d"
           }
          ],
          "scattercarpet": [
           {
            "marker": {
             "colorbar": {
              "outlinewidth": 0,
              "ticks": ""
             }
            },
            "type": "scattercarpet"
           }
          ],
          "scattergeo": [
           {
            "marker": {
             "colorbar": {
              "outlinewidth": 0,
              "ticks": ""
             }
            },
            "type": "scattergeo"
           }
          ],
          "scattergl": [
           {
            "marker": {
             "colorbar": {
              "outlinewidth": 0,
              "ticks": ""
             }
            },
            "type": "scattergl"
           }
          ],
          "scattermap": [
           {
            "marker": {
             "colorbar": {
              "outlinewidth": 0,
              "ticks": ""
             }
            },
            "type": "scattermap"
           }
          ],
          "scattermapbox": [
           {
            "marker": {
             "colorbar": {
              "outlinewidth": 0,
              "ticks": ""
             }
            },
            "type": "scattermapbox"
           }
          ],
          "scatterpolar": [
           {
            "marker": {
             "colorbar": {
              "outlinewidth": 0,
              "ticks": ""
             }
            },
            "type": "scatterpolar"
           }
          ],
          "scatterpolargl": [
           {
            "marker": {
             "colorbar": {
              "outlinewidth": 0,
              "ticks": ""
             }
            },
            "type": "scatterpolargl"
           }
          ],
          "scatterternary": [
           {
            "marker": {
             "colorbar": {
              "outlinewidth": 0,
              "ticks": ""
             }
            },
            "type": "scatterternary"
           }
          ],
          "surface": [
           {
            "colorbar": {
             "outlinewidth": 0,
             "ticks": ""
            },
            "colorscale": [
             [
              0,
              "#0d0887"
             ],
             [
              0.1111111111111111,
              "#46039f"
             ],
             [
              0.2222222222222222,
              "#7201a8"
             ],
             [
              0.3333333333333333,
              "#9c179e"
             ],
             [
              0.4444444444444444,
              "#bd3786"
             ],
             [
              0.5555555555555556,
              "#d8576b"
             ],
             [
              0.6666666666666666,
              "#ed7953"
             ],
             [
              0.7777777777777778,
              "#fb9f3a"
             ],
             [
              0.8888888888888888,
              "#fdca26"
             ],
             [
              1,
              "#f0f921"
             ]
            ],
            "type": "surface"
           }
          ],
          "table": [
           {
            "cells": {
             "fill": {
              "color": "#EBF0F8"
             },
             "line": {
              "color": "white"
             }
            },
            "header": {
             "fill": {
              "color": "#C8D4E3"
             },
             "line": {
              "color": "white"
             }
            },
            "type": "table"
           }
          ]
         },
         "layout": {
          "annotationdefaults": {
           "arrowcolor": "#2a3f5f",
           "arrowhead": 0,
           "arrowwidth": 1
          },
          "autotypenumbers": "strict",
          "coloraxis": {
           "colorbar": {
            "outlinewidth": 0,
            "ticks": ""
           }
          },
          "colorscale": {
           "diverging": [
            [
             0,
             "#8e0152"
            ],
            [
             0.1,
             "#c51b7d"
            ],
            [
             0.2,
             "#de77ae"
            ],
            [
             0.3,
             "#f1b6da"
            ],
            [
             0.4,
             "#fde0ef"
            ],
            [
             0.5,
             "#f7f7f7"
            ],
            [
             0.6,
             "#e6f5d0"
            ],
            [
             0.7,
             "#b8e186"
            ],
            [
             0.8,
             "#7fbc41"
            ],
            [
             0.9,
             "#4d9221"
            ],
            [
             1,
             "#276419"
            ]
           ],
           "sequential": [
            [
             0,
             "#0d0887"
            ],
            [
             0.1111111111111111,
             "#46039f"
            ],
            [
             0.2222222222222222,
             "#7201a8"
            ],
            [
             0.3333333333333333,
             "#9c179e"
            ],
            [
             0.4444444444444444,
             "#bd3786"
            ],
            [
             0.5555555555555556,
             "#d8576b"
            ],
            [
             0.6666666666666666,
             "#ed7953"
            ],
            [
             0.7777777777777778,
             "#fb9f3a"
            ],
            [
             0.8888888888888888,
             "#fdca26"
            ],
            [
             1,
             "#f0f921"
            ]
           ],
           "sequentialminus": [
            [
             0,
             "#0d0887"
            ],
            [
             0.1111111111111111,
             "#46039f"
            ],
            [
             0.2222222222222222,
             "#7201a8"
            ],
            [
             0.3333333333333333,
             "#9c179e"
            ],
            [
             0.4444444444444444,
             "#bd3786"
            ],
            [
             0.5555555555555556,
             "#d8576b"
            ],
            [
             0.6666666666666666,
             "#ed7953"
            ],
            [
             0.7777777777777778,
             "#fb9f3a"
            ],
            [
             0.8888888888888888,
             "#fdca26"
            ],
            [
             1,
             "#f0f921"
            ]
           ]
          },
          "colorway": [
           "#636efa",
           "#EF553B",
           "#00cc96",
           "#ab63fa",
           "#FFA15A",
           "#19d3f3",
           "#FF6692",
           "#B6E880",
           "#FF97FF",
           "#FECB52"
          ],
          "font": {
           "color": "#2a3f5f"
          },
          "geo": {
           "bgcolor": "white",
           "lakecolor": "white",
           "landcolor": "#E5ECF6",
           "showlakes": true,
           "showland": true,
           "subunitcolor": "white"
          },
          "hoverlabel": {
           "align": "left"
          },
          "hovermode": "closest",
          "mapbox": {
           "style": "light"
          },
          "paper_bgcolor": "white",
          "plot_bgcolor": "#E5ECF6",
          "polar": {
           "angularaxis": {
            "gridcolor": "white",
            "linecolor": "white",
            "ticks": ""
           },
           "bgcolor": "#E5ECF6",
           "radialaxis": {
            "gridcolor": "white",
            "linecolor": "white",
            "ticks": ""
           }
          },
          "scene": {
           "xaxis": {
            "backgroundcolor": "#E5ECF6",
            "gridcolor": "white",
            "gridwidth": 2,
            "linecolor": "white",
            "showbackground": true,
            "ticks": "",
            "zerolinecolor": "white"
           },
           "yaxis": {
            "backgroundcolor": "#E5ECF6",
            "gridcolor": "white",
            "gridwidth": 2,
            "linecolor": "white",
            "showbackground": true,
            "ticks": "",
            "zerolinecolor": "white"
           },
           "zaxis": {
            "backgroundcolor": "#E5ECF6",
            "gridcolor": "white",
            "gridwidth": 2,
            "linecolor": "white",
            "showbackground": true,
            "ticks": "",
            "zerolinecolor": "white"
           }
          },
          "shapedefaults": {
           "line": {
            "color": "#2a3f5f"
           }
          },
          "ternary": {
           "aaxis": {
            "gridcolor": "white",
            "linecolor": "white",
            "ticks": ""
           },
           "baxis": {
            "gridcolor": "white",
            "linecolor": "white",
            "ticks": ""
           },
           "bgcolor": "#E5ECF6",
           "caxis": {
            "gridcolor": "white",
            "linecolor": "white",
            "ticks": ""
           }
          },
          "title": {
           "x": 0.05
          },
          "xaxis": {
           "automargin": true,
           "gridcolor": "white",
           "linecolor": "white",
           "ticks": "",
           "title": {
            "standoff": 15
           },
           "zerolinecolor": "white",
           "zerolinewidth": 2
          },
          "yaxis": {
           "automargin": true,
           "gridcolor": "white",
           "linecolor": "white",
           "ticks": "",
           "title": {
            "standoff": 15
           },
           "zerolinecolor": "white",
           "zerolinewidth": 2
          }
         }
        },
        "title": {
         "text": "Speed Trap Distribution – Sorted by Performance, Grouped by Team"
        },
        "violinmode": "group",
        "width": 1300,
        "xaxis": {
         "anchor": "y",
         "categoryarray": [
          "ANT",
          "ALO",
          "LEC",
          "NOR",
          "HUL",
          "PIA",
          "HAM",
          "STR",
          "BOR",
          "GAS",
          "VER",
          "LAW",
          "RUS",
          "TSU",
          "BEA",
          "OCO",
          "ALB"
         ],
         "categoryorder": "array",
         "domain": [
          0,
          1
         ],
         "title": {
          "text": "Driver (Sorted by Avg Speed Trap)"
         }
        },
        "yaxis": {
         "anchor": "x",
         "domain": [
          0,
          1
         ],
         "title": {
          "text": "Speed Trap (km/h)"
         }
        }
       }
      }
     },
     "metadata": {},
     "output_type": "display_data"
    }
   ],
   "source": [
    "# Speed Trap Boxplot by Driver and Constructor\n",
    "\n",
    "# Group by Driver to get the average speed for sorting\n",
    "driver_avg_speed = laps.groupby(['Driver', 'Team'])['SpeedST'].mean().reset_index()\n",
    "driver_avg_speed = driver_avg_speed.sort_values(by='SpeedST', ascending=False)\n",
    "\n",
    "# Preserve sorting and mapping\n",
    "driver_avg_speed['DriverTeam'] = driver_avg_speed['Driver'] + \" (\" + driver_avg_speed['Team'] + \")\"\n",
    "driver_order = driver_avg_speed['Driver'].tolist()\n",
    "team_color_map = {team: px.colors.qualitative.Set3[i % 12] for i, team in enumerate(driver_avg_speed['Team'].unique())}\n",
    "\n",
    "# Prepare main df\n",
    "laps['DriverTeam'] = laps['Driver'] + \" (\" + laps['Team'] + \")\"\n",
    "laps['Driver'] = pd.Categorical(laps['Driver'], categories=driver_order, ordered=True)\n",
    "\n",
    "# Create color mapping per row based on Team\n",
    "laps['TeamColor'] = laps['Team'].map(team_color_map)\n",
    "\n",
    "fig = px.violin(\n",
    "    laps,\n",
    "    x='Driver',\n",
    "    y='SpeedST',\n",
    "    color='Team',\n",
    "    box=True,\n",
    "    points='all',\n",
    "    category_orders={'Driver': driver_order},\n",
    "    hover_data={'Team': True, 'Driver': True, 'SpeedST': True},\n",
    "    labels={'SpeedST': 'Speed Trap (km/h)', 'Driver': 'Driver'},\n",
    "    title='Speed Trap Distribution – Sorted by Performance, Grouped by Team'\n",
    ")\n",
    "\n",
    "fig.update_layout(\n",
    "    xaxis_title=\"Driver (Sorted by Avg Speed Trap)\",\n",
    "    yaxis_title=\"Speed Trap (km/h)\",\n",
    "    width=1300,\n",
    "    height=700,\n",
    "    violinmode='group'\n",
    ")\n",
    "\n",
    "fig.show()"
   ]
  },
  {
   "cell_type": "code",
   "execution_count": null,
   "id": "d9b1d4db-3f59-40a1-9147-18cbfb5be31e",
   "metadata": {},
   "outputs": [],
   "source": [
    "# Drag vs Downforce (Scatter Plot)\n",
    "speed_trap = laps.groupby('Driver')['SpeedST'].mean().reset_index()\n",
    "avg_speed = laps.groupby('Driver')['LapSeconds'].mean().reset_index()\n",
    "race_positions = session.results[['Abbreviation', 'Position', 'Status']].rename(columns={'Abbreviation': 'Driver'})\n",
    "merged_df = pd.merge(speed_trap, avg_speed, on='Driver')\n",
    "merged_df = pd.merge(merged_df, race_positions, on='Driver', how='left')\n",
    "\n",
    "# Mark drivers who did not finish (DNF)\n",
    "merged_df['Race Position'] = merged_df.apply(lambda x: 'DNF' if x['Status'] != 'Finished' else str(int(x['Position'])), axis=1)\n",
    "\n",
    "# Sort drivers by position (DNF last)\n",
    "merged_df = merged_df.sort_values(by='Race Position', key=lambda x: pd.to_numeric(x, errors='coerce'))\n",
    "\n",
    "# Append position to driver name\n",
    "merged_df['Driver Label'] = merged_df['Race Position'] + \" - \" + merged_df['Driver']\n",
    "\n",
    "# Plot\n",
    "fig = px.scatter(\n",
    "    merged_df, \n",
    "    x='LapSeconds', \n",
    "    y='SpeedST', \n",
    "    text='Driver', \n",
    "    color='Driver Label',\n",
    "    labels={'LapSeconds': 'Avg Lap Time (s)', 'SpeedST': 'Speed Trap (km/h)', 'Driver Label': 'Driver (Position)'},\n",
    "    title='Drag vs Downforce Analysis'\n",
    ")\n",
    "\n",
    "fig.update_traces(textposition='top center')\n",
    "fig.update_layout(coloraxis_showscale=False, showlegend=False)  # Hide legend and color scale\n",
    "fig.show()\n"
   ]
  },
  {
   "cell_type": "code",
   "execution_count": 6,
   "id": "2c3813a5-cc94-4830-bcf5-e6ddbecb9160",
   "metadata": {},
   "outputs": [
    {
     "data": {
      "application/vnd.plotly.v1+json": {
       "config": {
        "plotlyServerURL": "https://plot.ly"
       },
       "data": [
        {
         "customdata": [
          [
           "INTERMEDIATE"
          ],
          [
           "INTERMEDIATE"
          ],
          [
           "MEDIUM"
          ],
          [
           "INTERMEDIATE"
          ],
          [
           "MEDIUM"
          ],
          [
           "INTERMEDIATE"
          ],
          [
           "MEDIUM"
          ],
          [
           "INTERMEDIATE"
          ],
          [
           "MEDIUM"
          ],
          [
           "INTERMEDIATE"
          ],
          [
           "MEDIUM"
          ],
          [
           "INTERMEDIATE"
          ],
          [
           "MEDIUM"
          ],
          [
           "INTERMEDIATE"
          ],
          [
           "MEDIUM"
          ],
          [
           "INTERMEDIATE"
          ],
          [
           "MEDIUM"
          ],
          [
           "INTERMEDIATE"
          ],
          [
           "MEDIUM"
          ],
          [
           "INTERMEDIATE"
          ],
          [
           "MEDIUM"
          ],
          [
           "INTERMEDIATE"
          ],
          [
           "MEDIUM"
          ],
          [
           "INTERMEDIATE"
          ],
          [
           "MEDIUM"
          ],
          [
           "INTERMEDIATE"
          ],
          [
           "MEDIUM"
          ],
          [
           "INTERMEDIATE"
          ],
          [
           "MEDIUM"
          ],
          [
           "INTERMEDIATE"
          ],
          [
           "MEDIUM"
          ],
          [
           "INTERMEDIATE"
          ],
          [
           "MEDIUM"
          ],
          [
           "INTERMEDIATE"
          ],
          [
           "MEDIUM"
          ],
          [
           "INTERMEDIATE"
          ],
          [
           "MEDIUM"
          ],
          [
           "INTERMEDIATE"
          ],
          [
           "MEDIUM"
          ],
          [
           "INTERMEDIATE"
          ],
          [
           "MEDIUM"
          ],
          [
           "INTERMEDIATE"
          ],
          [
           "MEDIUM"
          ],
          [
           "INTERMEDIATE"
          ],
          [
           "MEDIUM"
          ],
          [
           "INTERMEDIATE"
          ],
          [
           "MEDIUM"
          ],
          [
           "INTERMEDIATE"
          ],
          [
           "MEDIUM"
          ],
          [
           "INTERMEDIATE"
          ],
          [
           "MEDIUM"
          ],
          [
           "INTERMEDIATE"
          ],
          [
           "MEDIUM"
          ],
          [
           "INTERMEDIATE"
          ],
          [
           "MEDIUM"
          ],
          [
           "INTERMEDIATE"
          ],
          [
           "MEDIUM"
          ],
          [
           "INTERMEDIATE"
          ],
          [
           "MEDIUM"
          ],
          [
           "HARD"
          ],
          [
           "INTERMEDIATE"
          ],
          [
           "MEDIUM"
          ],
          [
           "HARD"
          ],
          [
           "INTERMEDIATE"
          ],
          [
           "MEDIUM"
          ],
          [
           "HARD"
          ],
          [
           "MEDIUM"
          ],
          [
           "HARD"
          ],
          [
           "INTERMEDIATE"
          ],
          [
           "MEDIUM"
          ],
          [
           "HARD"
          ],
          [
           "INTERMEDIATE"
          ],
          [
           "MEDIUM"
          ],
          [
           "HARD"
          ],
          [
           "INTERMEDIATE"
          ],
          [
           "MEDIUM"
          ],
          [
           "HARD"
          ],
          [
           "MEDIUM"
          ],
          [
           "HARD"
          ],
          [
           "MEDIUM"
          ],
          [
           "HARD"
          ],
          [
           "MEDIUM"
          ],
          [
           "HARD"
          ],
          [
           "MEDIUM"
          ],
          [
           "HARD"
          ],
          [
           "MEDIUM"
          ],
          [
           "HARD"
          ],
          [
           "INTERMEDIATE"
          ],
          [
           "MEDIUM"
          ],
          [
           "HARD"
          ],
          [
           "INTERMEDIATE"
          ],
          [
           "MEDIUM"
          ],
          [
           "INTERMEDIATE"
          ],
          [
           "INTERMEDIATE"
          ],
          [
           "INTERMEDIATE"
          ],
          [
           "INTERMEDIATE"
          ],
          [
           "INTERMEDIATE"
          ],
          [
           "INTERMEDIATE"
          ],
          [
           "INTERMEDIATE"
          ],
          [
           "INTERMEDIATE"
          ],
          [
           "INTERMEDIATE"
          ],
          [
           "INTERMEDIATE"
          ],
          [
           "INTERMEDIATE"
          ]
         ],
         "error_y": {
          "array": {
           "bdata": "JeXWHdlcJEC9Pee3gScQQH00rxpzC+o/wRjDmEU+FUBD9tBrCF3yPzne7ie3OvM/PiW8l8Tx9T8rlxQUGpvyP55ByfgWo/M/GMDgstuC8D/FCv6W1drzP/TyEPULL/I/P8SiEf9A/D/gHrlilyD1P704HWFgM/c/9kbj6nrn9j9ZacjrUkXyP1ZUEVAg8PA/+YWUoGVe8z8D/q9oitTwP1d9ByZ9Su8/zboIZwfo7T/k9PcR5eXtP+26AkNxB+s//JONNrJB7D8qK9jZypf0PwRouQTV0PA/PB9OyOfU8z/Xt5hWxpv2P7Hb4a4HFi1AjoDMwbcQGEAAAAAAAAD4fwAAAAAAAPh/AAAAAAAA+H8AAAAAAAD4f0KkY4/bdf0/jH53QanAKUD5wx6DckYRQEt7dsDQGSVATGUJbgVAMUD6eTyrMXkpQINC7ekBSCRA2xtqqDgb+z+CGMa1jpH0P3hBqmdnlfg/mQRyGHeI8T8sdYMaR0L0P0HNEuzn1/g/",
           "dtype": "f8"
          }
         },
         "hovertemplate": "Lap %{x}<br>Avg Time: %{y:.2f}s<br>Compound: %{customdata[0]}",
         "legendgroup": "INTERMEDIATE",
         "line": {
          "color": "#636efa",
          "dash": "solid"
         },
         "marker": {
          "symbol": "circle"
         },
         "mode": "lines+markers",
         "name": "INTERMEDIATE",
         "orientation": "v",
         "showlegend": true,
         "type": "scatter",
         "x": {
          "bdata": "AAAAAAAA8D8AAAAAAAAUQAAAAAAAABhAAAAAAAAAHEAAAAAAAAAgQAAAAAAAACJAAAAAAAAAJEAAAAAAAAAmQAAAAAAAAChAAAAAAAAAKkAAAAAAAAAsQAAAAAAAAC5AAAAAAAAAMEAAAAAAAAAxQAAAAAAAADJAAAAAAAAAM0AAAAAAAAA0QAAAAAAAADVAAAAAAAAANkAAAAAAAAA3QAAAAAAAADhAAAAAAAAAOUAAAAAAAAA6QAAAAAAAADtAAAAAAAAAPEAAAAAAAAA9QAAAAAAAAD5AAAAAAAAAP0AAAAAAAABAQAAAAAAAgEBAAAAAAAAAQUAAAAAAAIBBQAAAAAAAgEJAAAAAAAAAQ0AAAAAAAIBDQAAAAAAAgEZAAAAAAAAAR0AAAAAAAIBHQAAAAAAAAEhAAAAAAACASEAAAAAAAABJQAAAAAAAgElAAAAAAAAASkAAAAAAAIBKQAAAAAAAAEtAAAAAAACAS0AAAAAAAABMQAAAAAAAgExA",
          "dtype": "f8"
         },
         "xaxis": "x",
         "y": {
          "bdata": "CzSQH+LTYECEeaL+jYhhQG40gLdAhmFAqe6kmJYfYEDMWh0TPJhYQBCfYVeA/FdAMzMzMzOjV0DSAN4CCYpXQJm7lpAPYldAu243rmw8V0CHYC8neyZXQNqs+lxtDVdAIR/0bFYlV0AlUNftxjVXQL7mQtKUMldA+6bDHYItV0AyMAV+Zw5XQPfkYaHW9FZAwYN5ov79VkAukKD4Me5WQNweqhb+2VZAbFNP+erFVkD+ZffkYblWQGBRJHLUpFZA6W1Zq2OSVkCyU5lPQ4FWQJLwqvQAc1ZAZdK5tV9pVkBlGeJYF3dWQDjADbPUt1pAN9BpA53+X0DhehSuR4VgQKrx0k1ihGFAYOXQItudYEC+nxov3QxfQAmL2fTcUVhA6Pup8dKYWEAJU/6WS95eQLJa3hjBHF5AEVg5tMj4YECKNRuputRgQH3FV3zFD2BA+Yqv+IrrV0Bl+M3AhwhXQEXCODrr0FZAUu/q19qgVkAh5z67gHRWQH0/NV66hVZA",
          "dtype": "f8"
         },
         "yaxis": "y"
        },
        {
         "customdata": [
          [
           "INTERMEDIATE"
          ],
          [
           "INTERMEDIATE"
          ],
          [
           "MEDIUM"
          ],
          [
           "INTERMEDIATE"
          ],
          [
           "MEDIUM"
          ],
          [
           "INTERMEDIATE"
          ],
          [
           "MEDIUM"
          ],
          [
           "INTERMEDIATE"
          ],
          [
           "MEDIUM"
          ],
          [
           "INTERMEDIATE"
          ],
          [
           "MEDIUM"
          ],
          [
           "INTERMEDIATE"
          ],
          [
           "MEDIUM"
          ],
          [
           "INTERMEDIATE"
          ],
          [
           "MEDIUM"
          ],
          [
           "INTERMEDIATE"
          ],
          [
           "MEDIUM"
          ],
          [
           "INTERMEDIATE"
          ],
          [
           "MEDIUM"
          ],
          [
           "INTERMEDIATE"
          ],
          [
           "MEDIUM"
          ],
          [
           "INTERMEDIATE"
          ],
          [
           "MEDIUM"
          ],
          [
           "INTERMEDIATE"
          ],
          [
           "MEDIUM"
          ],
          [
           "INTERMEDIATE"
          ],
          [
           "MEDIUM"
          ],
          [
           "INTERMEDIATE"
          ],
          [
           "MEDIUM"
          ],
          [
           "INTERMEDIATE"
          ],
          [
           "MEDIUM"
          ],
          [
           "INTERMEDIATE"
          ],
          [
           "MEDIUM"
          ],
          [
           "INTERMEDIATE"
          ],
          [
           "MEDIUM"
          ],
          [
           "INTERMEDIATE"
          ],
          [
           "MEDIUM"
          ],
          [
           "INTERMEDIATE"
          ],
          [
           "MEDIUM"
          ],
          [
           "INTERMEDIATE"
          ],
          [
           "MEDIUM"
          ],
          [
           "INTERMEDIATE"
          ],
          [
           "MEDIUM"
          ],
          [
           "INTERMEDIATE"
          ],
          [
           "MEDIUM"
          ],
          [
           "INTERMEDIATE"
          ],
          [
           "MEDIUM"
          ],
          [
           "INTERMEDIATE"
          ],
          [
           "MEDIUM"
          ],
          [
           "INTERMEDIATE"
          ],
          [
           "MEDIUM"
          ],
          [
           "INTERMEDIATE"
          ],
          [
           "MEDIUM"
          ],
          [
           "INTERMEDIATE"
          ],
          [
           "MEDIUM"
          ],
          [
           "INTERMEDIATE"
          ],
          [
           "MEDIUM"
          ],
          [
           "INTERMEDIATE"
          ],
          [
           "MEDIUM"
          ],
          [
           "HARD"
          ],
          [
           "INTERMEDIATE"
          ],
          [
           "MEDIUM"
          ],
          [
           "HARD"
          ],
          [
           "INTERMEDIATE"
          ],
          [
           "MEDIUM"
          ],
          [
           "HARD"
          ],
          [
           "MEDIUM"
          ],
          [
           "HARD"
          ],
          [
           "INTERMEDIATE"
          ],
          [
           "MEDIUM"
          ],
          [
           "HARD"
          ],
          [
           "INTERMEDIATE"
          ],
          [
           "MEDIUM"
          ],
          [
           "HARD"
          ],
          [
           "INTERMEDIATE"
          ],
          [
           "MEDIUM"
          ],
          [
           "HARD"
          ],
          [
           "MEDIUM"
          ],
          [
           "HARD"
          ],
          [
           "MEDIUM"
          ],
          [
           "HARD"
          ],
          [
           "MEDIUM"
          ],
          [
           "HARD"
          ],
          [
           "MEDIUM"
          ],
          [
           "HARD"
          ],
          [
           "MEDIUM"
          ],
          [
           "HARD"
          ],
          [
           "INTERMEDIATE"
          ],
          [
           "MEDIUM"
          ],
          [
           "HARD"
          ],
          [
           "INTERMEDIATE"
          ],
          [
           "MEDIUM"
          ],
          [
           "INTERMEDIATE"
          ],
          [
           "INTERMEDIATE"
          ],
          [
           "INTERMEDIATE"
          ],
          [
           "INTERMEDIATE"
          ],
          [
           "INTERMEDIATE"
          ],
          [
           "INTERMEDIATE"
          ],
          [
           "INTERMEDIATE"
          ],
          [
           "INTERMEDIATE"
          ],
          [
           "INTERMEDIATE"
          ],
          [
           "INTERMEDIATE"
          ],
          [
           "INTERMEDIATE"
          ]
         ],
         "error_y": {
          "array": {
           "bdata": "wmHnPL8/IkAdKK+HFt7oP/wFr8KW2ew/blBnWn899D+ORedV4oH1P9JlH5P/yOE/lWqP0C444T/gC3/l2A7cP/Isf6pYE7g/CW8/som+0D+8aT/U5nfBP7pzv9iDM+A/6Ew/7Qm6xD9vB181oLzcP80Efwc2yLw/fWnfXSVV4T8tSH8i5C3VPxhYf017XuM/smz/ngwE0T8B+B5m3XTeP1NrP0M4G9E/0x3/xxgR6j/2J89ZrOnoPxBIF4CUNgVAPz//HUdypj8rSr81YejEPw5hr1XQWeI/x2/vJJOh8D9nXhkU8qIiQDwp2GDUlyhAKZ7hrC5NLEBOVZ8PQDMgQG5kqaaI/h9AxHIu9fWVCUDV26is6q8mQAOpdhy5LjJAlwwhXrUjNUAyW8Owqqv1P0uGteE6uAZAAUFO0tE9K0BGQJoZMqIAQCemtF9+mTNA",
           "dtype": "f8"
          }
         },
         "hovertemplate": "Lap %{x}<br>Avg Time: %{y:.2f}s<br>Compound: %{customdata[0]}",
         "legendgroup": "MEDIUM",
         "line": {
          "color": "#EF553B",
          "dash": "solid"
         },
         "marker": {
          "symbol": "circle"
         },
         "mode": "lines+markers",
         "name": "MEDIUM",
         "orientation": "v",
         "showlegend": true,
         "type": "scatter",
         "x": {
          "bdata": "AAAAAAAAFEAAAAAAAAAYQAAAAAAAABxAAAAAAAAAIEAAAAAAAAAiQAAAAAAAACRAAAAAAAAAJkAAAAAAAAAoQAAAAAAAACpAAAAAAAAALEAAAAAAAAAuQAAAAAAAADBAAAAAAAAAMUAAAAAAAAAyQAAAAAAAADNAAAAAAAAANEAAAAAAAAA1QAAAAAAAADZAAAAAAAAAN0AAAAAAAAA4QAAAAAAAADlAAAAAAAAAOkAAAAAAAAA7QAAAAAAAADxAAAAAAAAAPUAAAAAAAAA+QAAAAAAAAD9AAAAAAAAAQEAAAAAAAIBAQAAAAAAAAEFAAAAAAACAQUAAAAAAAABCQAAAAAAAgEJAAAAAAAAAQ0AAAAAAAIBDQAAAAAAAAERAAAAAAACAREAAAAAAAABFQAAAAAAAgEVAAAAAAAAARkAAAAAAAIBGQAAAAAAAAEdA",
          "dtype": "f8"
         },
         "xaxis": "x",
         "y": {
          "bdata": "z/dT46V7YECJQWDl0LBhQAwCK4cWtV5Aku18PzVKWUAkBoGVQ2dYQP7UeOkmAVhAg8DKoUXCV0BANV66SaxXQMZLN4lBlFdAppvEILB6V0BYObTIdnJXQNV46SYxcFdAlBgEVg6pV0DEILByaI1XQFCNl24Sf1dAL90kBoFtV0BMN4lBYGVXQO58PzVeSldAYOXQIttJV0D+1HjpJi1XQEJg5dAiG1dA8tJNYhAAV0Dwp8ZLN/1WQLgehetRKFdAUI2XbhLTVkDb+X5qvNBWQNEi2/l+tlZAXI/C9SikVkC6SQwCK+9eQPyp8dJNbGBA61G4HoV7XUDFILByaBtaQDn78Bl2l2BAPRYc4IYRYUDnB+8t6UlfQOF6FK5H5FxArkfhehT6WkBMN4lBYJJVQMDKoUW2XlVAukkMAisUWUCPwvUoXO9XQH9qvHSTbFxA",
          "dtype": "f8"
         },
         "yaxis": "y"
        },
        {
         "customdata": [
          [
           "INTERMEDIATE"
          ],
          [
           "INTERMEDIATE"
          ],
          [
           "MEDIUM"
          ],
          [
           "INTERMEDIATE"
          ],
          [
           "MEDIUM"
          ],
          [
           "INTERMEDIATE"
          ],
          [
           "MEDIUM"
          ],
          [
           "INTERMEDIATE"
          ],
          [
           "MEDIUM"
          ],
          [
           "INTERMEDIATE"
          ],
          [
           "MEDIUM"
          ],
          [
           "INTERMEDIATE"
          ],
          [
           "MEDIUM"
          ],
          [
           "INTERMEDIATE"
          ],
          [
           "MEDIUM"
          ],
          [
           "INTERMEDIATE"
          ],
          [
           "MEDIUM"
          ],
          [
           "INTERMEDIATE"
          ],
          [
           "MEDIUM"
          ],
          [
           "INTERMEDIATE"
          ],
          [
           "MEDIUM"
          ],
          [
           "INTERMEDIATE"
          ],
          [
           "MEDIUM"
          ],
          [
           "INTERMEDIATE"
          ],
          [
           "MEDIUM"
          ],
          [
           "INTERMEDIATE"
          ],
          [
           "MEDIUM"
          ],
          [
           "INTERMEDIATE"
          ],
          [
           "MEDIUM"
          ],
          [
           "INTERMEDIATE"
          ],
          [
           "MEDIUM"
          ],
          [
           "INTERMEDIATE"
          ],
          [
           "MEDIUM"
          ],
          [
           "INTERMEDIATE"
          ],
          [
           "MEDIUM"
          ],
          [
           "INTERMEDIATE"
          ],
          [
           "MEDIUM"
          ],
          [
           "INTERMEDIATE"
          ],
          [
           "MEDIUM"
          ],
          [
           "INTERMEDIATE"
          ],
          [
           "MEDIUM"
          ],
          [
           "INTERMEDIATE"
          ],
          [
           "MEDIUM"
          ],
          [
           "INTERMEDIATE"
          ],
          [
           "MEDIUM"
          ],
          [
           "INTERMEDIATE"
          ],
          [
           "MEDIUM"
          ],
          [
           "INTERMEDIATE"
          ],
          [
           "MEDIUM"
          ],
          [
           "INTERMEDIATE"
          ],
          [
           "MEDIUM"
          ],
          [
           "INTERMEDIATE"
          ],
          [
           "MEDIUM"
          ],
          [
           "INTERMEDIATE"
          ],
          [
           "MEDIUM"
          ],
          [
           "INTERMEDIATE"
          ],
          [
           "MEDIUM"
          ],
          [
           "INTERMEDIATE"
          ],
          [
           "MEDIUM"
          ],
          [
           "HARD"
          ],
          [
           "INTERMEDIATE"
          ],
          [
           "MEDIUM"
          ],
          [
           "HARD"
          ],
          [
           "INTERMEDIATE"
          ],
          [
           "MEDIUM"
          ],
          [
           "HARD"
          ],
          [
           "MEDIUM"
          ],
          [
           "HARD"
          ],
          [
           "INTERMEDIATE"
          ],
          [
           "MEDIUM"
          ],
          [
           "HARD"
          ],
          [
           "INTERMEDIATE"
          ],
          [
           "MEDIUM"
          ],
          [
           "HARD"
          ],
          [
           "INTERMEDIATE"
          ],
          [
           "MEDIUM"
          ],
          [
           "HARD"
          ],
          [
           "MEDIUM"
          ],
          [
           "HARD"
          ],
          [
           "MEDIUM"
          ],
          [
           "HARD"
          ],
          [
           "MEDIUM"
          ],
          [
           "HARD"
          ],
          [
           "MEDIUM"
          ],
          [
           "HARD"
          ],
          [
           "MEDIUM"
          ],
          [
           "HARD"
          ],
          [
           "INTERMEDIATE"
          ],
          [
           "MEDIUM"
          ],
          [
           "HARD"
          ],
          [
           "INTERMEDIATE"
          ],
          [
           "MEDIUM"
          ],
          [
           "INTERMEDIATE"
          ],
          [
           "INTERMEDIATE"
          ],
          [
           "INTERMEDIATE"
          ],
          [
           "INTERMEDIATE"
          ],
          [
           "INTERMEDIATE"
          ],
          [
           "INTERMEDIATE"
          ],
          [
           "INTERMEDIATE"
          ],
          [
           "INTERMEDIATE"
          ],
          [
           "INTERMEDIATE"
          ],
          [
           "INTERMEDIATE"
          ],
          [
           "INTERMEDIATE"
          ]
         ],
         "error_y": {
          "array": {
           "bdata": "V1ElKbIoJEBDqS8HNc0lQDr2NFtT0i1Aw1jhXAbTIkCAANeIu8XsP1D45i+8w+4/38E/3j/O/T8zMFJUtVoNQD2i2As5HPg/PNBKPw+g8j/SqGddZMMgQGA9QtMDEfA/b9xD5PyDJkA=",
           "dtype": "f8"
          }
         },
         "hovertemplate": "Lap %{x}<br>Avg Time: %{y:.2f}s<br>Compound: %{customdata[0]}",
         "legendgroup": "HARD",
         "line": {
          "color": "#00cc96",
          "dash": "solid"
         },
         "marker": {
          "symbol": "circle"
         },
         "mode": "lines+markers",
         "name": "HARD",
         "orientation": "v",
         "showlegend": true,
         "type": "scatter",
         "x": {
          "bdata": "AAAAAAAAQUAAAAAAAIBBQAAAAAAAAEJAAAAAAACAQkAAAAAAAABDQAAAAAAAgENAAAAAAAAAREAAAAAAAIBEQAAAAAAAAEVAAAAAAACARUAAAAAAAABGQAAAAAAAgEZAAAAAAAAAR0A=",
          "dtype": "f8"
         },
         "xaxis": "x",
         "y": {
          "bdata": "d76fGi98YUC6SQwCK7lcQGIQWDm0h1tAb4EExY9tYED8qfHSzWxhQHWTGARWi2BAI9v5fmp0YECJQWDlUBtgQM/3U+OlnVVATDeJQWAbVUBhlnpXv/ZYQA27AuReG1dAC5B7zYXEWUA=",
          "dtype": "f8"
         },
         "yaxis": "y"
        }
       ],
       "layout": {
        "height": 600,
        "hovermode": "x unified",
        "legend": {
         "title": {
          "text": "Compound"
         },
         "tracegroupgap": 0
        },
        "template": {
         "data": {
          "bar": [
           {
            "error_x": {
             "color": "#2a3f5f"
            },
            "error_y": {
             "color": "#2a3f5f"
            },
            "marker": {
             "line": {
              "color": "#E5ECF6",
              "width": 0.5
             },
             "pattern": {
              "fillmode": "overlay",
              "size": 10,
              "solidity": 0.2
             }
            },
            "type": "bar"
           }
          ],
          "barpolar": [
           {
            "marker": {
             "line": {
              "color": "#E5ECF6",
              "width": 0.5
             },
             "pattern": {
              "fillmode": "overlay",
              "size": 10,
              "solidity": 0.2
             }
            },
            "type": "barpolar"
           }
          ],
          "carpet": [
           {
            "aaxis": {
             "endlinecolor": "#2a3f5f",
             "gridcolor": "white",
             "linecolor": "white",
             "minorgridcolor": "white",
             "startlinecolor": "#2a3f5f"
            },
            "baxis": {
             "endlinecolor": "#2a3f5f",
             "gridcolor": "white",
             "linecolor": "white",
             "minorgridcolor": "white",
             "startlinecolor": "#2a3f5f"
            },
            "type": "carpet"
           }
          ],
          "choropleth": [
           {
            "colorbar": {
             "outlinewidth": 0,
             "ticks": ""
            },
            "type": "choropleth"
           }
          ],
          "contour": [
           {
            "colorbar": {
             "outlinewidth": 0,
             "ticks": ""
            },
            "colorscale": [
             [
              0,
              "#0d0887"
             ],
             [
              0.1111111111111111,
              "#46039f"
             ],
             [
              0.2222222222222222,
              "#7201a8"
             ],
             [
              0.3333333333333333,
              "#9c179e"
             ],
             [
              0.4444444444444444,
              "#bd3786"
             ],
             [
              0.5555555555555556,
              "#d8576b"
             ],
             [
              0.6666666666666666,
              "#ed7953"
             ],
             [
              0.7777777777777778,
              "#fb9f3a"
             ],
             [
              0.8888888888888888,
              "#fdca26"
             ],
             [
              1,
              "#f0f921"
             ]
            ],
            "type": "contour"
           }
          ],
          "contourcarpet": [
           {
            "colorbar": {
             "outlinewidth": 0,
             "ticks": ""
            },
            "type": "contourcarpet"
           }
          ],
          "heatmap": [
           {
            "colorbar": {
             "outlinewidth": 0,
             "ticks": ""
            },
            "colorscale": [
             [
              0,
              "#0d0887"
             ],
             [
              0.1111111111111111,
              "#46039f"
             ],
             [
              0.2222222222222222,
              "#7201a8"
             ],
             [
              0.3333333333333333,
              "#9c179e"
             ],
             [
              0.4444444444444444,
              "#bd3786"
             ],
             [
              0.5555555555555556,
              "#d8576b"
             ],
             [
              0.6666666666666666,
              "#ed7953"
             ],
             [
              0.7777777777777778,
              "#fb9f3a"
             ],
             [
              0.8888888888888888,
              "#fdca26"
             ],
             [
              1,
              "#f0f921"
             ]
            ],
            "type": "heatmap"
           }
          ],
          "histogram": [
           {
            "marker": {
             "pattern": {
              "fillmode": "overlay",
              "size": 10,
              "solidity": 0.2
             }
            },
            "type": "histogram"
           }
          ],
          "histogram2d": [
           {
            "colorbar": {
             "outlinewidth": 0,
             "ticks": ""
            },
            "colorscale": [
             [
              0,
              "#0d0887"
             ],
             [
              0.1111111111111111,
              "#46039f"
             ],
             [
              0.2222222222222222,
              "#7201a8"
             ],
             [
              0.3333333333333333,
              "#9c179e"
             ],
             [
              0.4444444444444444,
              "#bd3786"
             ],
             [
              0.5555555555555556,
              "#d8576b"
             ],
             [
              0.6666666666666666,
              "#ed7953"
             ],
             [
              0.7777777777777778,
              "#fb9f3a"
             ],
             [
              0.8888888888888888,
              "#fdca26"
             ],
             [
              1,
              "#f0f921"
             ]
            ],
            "type": "histogram2d"
           }
          ],
          "histogram2dcontour": [
           {
            "colorbar": {
             "outlinewidth": 0,
             "ticks": ""
            },
            "colorscale": [
             [
              0,
              "#0d0887"
             ],
             [
              0.1111111111111111,
              "#46039f"
             ],
             [
              0.2222222222222222,
              "#7201a8"
             ],
             [
              0.3333333333333333,
              "#9c179e"
             ],
             [
              0.4444444444444444,
              "#bd3786"
             ],
             [
              0.5555555555555556,
              "#d8576b"
             ],
             [
              0.6666666666666666,
              "#ed7953"
             ],
             [
              0.7777777777777778,
              "#fb9f3a"
             ],
             [
              0.8888888888888888,
              "#fdca26"
             ],
             [
              1,
              "#f0f921"
             ]
            ],
            "type": "histogram2dcontour"
           }
          ],
          "mesh3d": [
           {
            "colorbar": {
             "outlinewidth": 0,
             "ticks": ""
            },
            "type": "mesh3d"
           }
          ],
          "parcoords": [
           {
            "line": {
             "colorbar": {
              "outlinewidth": 0,
              "ticks": ""
             }
            },
            "type": "parcoords"
           }
          ],
          "pie": [
           {
            "automargin": true,
            "type": "pie"
           }
          ],
          "scatter": [
           {
            "fillpattern": {
             "fillmode": "overlay",
             "size": 10,
             "solidity": 0.2
            },
            "type": "scatter"
           }
          ],
          "scatter3d": [
           {
            "line": {
             "colorbar": {
              "outlinewidth": 0,
              "ticks": ""
             }
            },
            "marker": {
             "colorbar": {
              "outlinewidth": 0,
              "ticks": ""
             }
            },
            "type": "scatter3d"
           }
          ],
          "scattercarpet": [
           {
            "marker": {
             "colorbar": {
              "outlinewidth": 0,
              "ticks": ""
             }
            },
            "type": "scattercarpet"
           }
          ],
          "scattergeo": [
           {
            "marker": {
             "colorbar": {
              "outlinewidth": 0,
              "ticks": ""
             }
            },
            "type": "scattergeo"
           }
          ],
          "scattergl": [
           {
            "marker": {
             "colorbar": {
              "outlinewidth": 0,
              "ticks": ""
             }
            },
            "type": "scattergl"
           }
          ],
          "scattermap": [
           {
            "marker": {
             "colorbar": {
              "outlinewidth": 0,
              "ticks": ""
             }
            },
            "type": "scattermap"
           }
          ],
          "scattermapbox": [
           {
            "marker": {
             "colorbar": {
              "outlinewidth": 0,
              "ticks": ""
             }
            },
            "type": "scattermapbox"
           }
          ],
          "scatterpolar": [
           {
            "marker": {
             "colorbar": {
              "outlinewidth": 0,
              "ticks": ""
             }
            },
            "type": "scatterpolar"
           }
          ],
          "scatterpolargl": [
           {
            "marker": {
             "colorbar": {
              "outlinewidth": 0,
              "ticks": ""
             }
            },
            "type": "scatterpolargl"
           }
          ],
          "scatterternary": [
           {
            "marker": {
             "colorbar": {
              "outlinewidth": 0,
              "ticks": ""
             }
            },
            "type": "scatterternary"
           }
          ],
          "surface": [
           {
            "colorbar": {
             "outlinewidth": 0,
             "ticks": ""
            },
            "colorscale": [
             [
              0,
              "#0d0887"
             ],
             [
              0.1111111111111111,
              "#46039f"
             ],
             [
              0.2222222222222222,
              "#7201a8"
             ],
             [
              0.3333333333333333,
              "#9c179e"
             ],
             [
              0.4444444444444444,
              "#bd3786"
             ],
             [
              0.5555555555555556,
              "#d8576b"
             ],
             [
              0.6666666666666666,
              "#ed7953"
             ],
             [
              0.7777777777777778,
              "#fb9f3a"
             ],
             [
              0.8888888888888888,
              "#fdca26"
             ],
             [
              1,
              "#f0f921"
             ]
            ],
            "type": "surface"
           }
          ],
          "table": [
           {
            "cells": {
             "fill": {
              "color": "#EBF0F8"
             },
             "line": {
              "color": "white"
             }
            },
            "header": {
             "fill": {
              "color": "#C8D4E3"
             },
             "line": {
              "color": "white"
             }
            },
            "type": "table"
           }
          ]
         },
         "layout": {
          "annotationdefaults": {
           "arrowcolor": "#2a3f5f",
           "arrowhead": 0,
           "arrowwidth": 1
          },
          "autotypenumbers": "strict",
          "coloraxis": {
           "colorbar": {
            "outlinewidth": 0,
            "ticks": ""
           }
          },
          "colorscale": {
           "diverging": [
            [
             0,
             "#8e0152"
            ],
            [
             0.1,
             "#c51b7d"
            ],
            [
             0.2,
             "#de77ae"
            ],
            [
             0.3,
             "#f1b6da"
            ],
            [
             0.4,
             "#fde0ef"
            ],
            [
             0.5,
             "#f7f7f7"
            ],
            [
             0.6,
             "#e6f5d0"
            ],
            [
             0.7,
             "#b8e186"
            ],
            [
             0.8,
             "#7fbc41"
            ],
            [
             0.9,
             "#4d9221"
            ],
            [
             1,
             "#276419"
            ]
           ],
           "sequential": [
            [
             0,
             "#0d0887"
            ],
            [
             0.1111111111111111,
             "#46039f"
            ],
            [
             0.2222222222222222,
             "#7201a8"
            ],
            [
             0.3333333333333333,
             "#9c179e"
            ],
            [
             0.4444444444444444,
             "#bd3786"
            ],
            [
             0.5555555555555556,
             "#d8576b"
            ],
            [
             0.6666666666666666,
             "#ed7953"
            ],
            [
             0.7777777777777778,
             "#fb9f3a"
            ],
            [
             0.8888888888888888,
             "#fdca26"
            ],
            [
             1,
             "#f0f921"
            ]
           ],
           "sequentialminus": [
            [
             0,
             "#0d0887"
            ],
            [
             0.1111111111111111,
             "#46039f"
            ],
            [
             0.2222222222222222,
             "#7201a8"
            ],
            [
             0.3333333333333333,
             "#9c179e"
            ],
            [
             0.4444444444444444,
             "#bd3786"
            ],
            [
             0.5555555555555556,
             "#d8576b"
            ],
            [
             0.6666666666666666,
             "#ed7953"
            ],
            [
             0.7777777777777778,
             "#fb9f3a"
            ],
            [
             0.8888888888888888,
             "#fdca26"
            ],
            [
             1,
             "#f0f921"
            ]
           ]
          },
          "colorway": [
           "#636efa",
           "#EF553B",
           "#00cc96",
           "#ab63fa",
           "#FFA15A",
           "#19d3f3",
           "#FF6692",
           "#B6E880",
           "#FF97FF",
           "#FECB52"
          ],
          "font": {
           "color": "#2a3f5f"
          },
          "geo": {
           "bgcolor": "white",
           "lakecolor": "white",
           "landcolor": "#E5ECF6",
           "showlakes": true,
           "showland": true,
           "subunitcolor": "white"
          },
          "hoverlabel": {
           "align": "left"
          },
          "hovermode": "closest",
          "mapbox": {
           "style": "light"
          },
          "paper_bgcolor": "white",
          "plot_bgcolor": "#E5ECF6",
          "polar": {
           "angularaxis": {
            "gridcolor": "white",
            "linecolor": "white",
            "ticks": ""
           },
           "bgcolor": "#E5ECF6",
           "radialaxis": {
            "gridcolor": "white",
            "linecolor": "white",
            "ticks": ""
           }
          },
          "scene": {
           "xaxis": {
            "backgroundcolor": "#E5ECF6",
            "gridcolor": "white",
            "gridwidth": 2,
            "linecolor": "white",
            "showbackground": true,
            "ticks": "",
            "zerolinecolor": "white"
           },
           "yaxis": {
            "backgroundcolor": "#E5ECF6",
            "gridcolor": "white",
            "gridwidth": 2,
            "linecolor": "white",
            "showbackground": true,
            "ticks": "",
            "zerolinecolor": "white"
           },
           "zaxis": {
            "backgroundcolor": "#E5ECF6",
            "gridcolor": "white",
            "gridwidth": 2,
            "linecolor": "white",
            "showbackground": true,
            "ticks": "",
            "zerolinecolor": "white"
           }
          },
          "shapedefaults": {
           "line": {
            "color": "#2a3f5f"
           }
          },
          "ternary": {
           "aaxis": {
            "gridcolor": "white",
            "linecolor": "white",
            "ticks": ""
           },
           "baxis": {
            "gridcolor": "white",
            "linecolor": "white",
            "ticks": ""
           },
           "bgcolor": "#E5ECF6",
           "caxis": {
            "gridcolor": "white",
            "linecolor": "white",
            "ticks": ""
           }
          },
          "title": {
           "x": 0.05
          },
          "xaxis": {
           "automargin": true,
           "gridcolor": "white",
           "linecolor": "white",
           "ticks": "",
           "title": {
            "standoff": 15
           },
           "zerolinecolor": "white",
           "zerolinewidth": 2
          },
          "yaxis": {
           "automargin": true,
           "gridcolor": "white",
           "linecolor": "white",
           "ticks": "",
           "title": {
            "standoff": 15
           },
           "zerolinecolor": "white",
           "zerolinewidth": 2
          }
         }
        },
        "title": {
         "text": "Tyre Degradation over Laps"
        },
        "width": 1000,
        "xaxis": {
         "anchor": "y",
         "domain": [
          0,
          1
         ],
         "title": {
          "text": "Lap Number"
         }
        },
        "yaxis": {
         "anchor": "x",
         "domain": [
          0,
          1
         ],
         "title": {
          "text": "Lap Time (seconds)"
         }
        }
       }
      }
     },
     "metadata": {},
     "output_type": "display_data"
    }
   ],
   "source": [
    "# Tyre Degradation (Line Plot)\n",
    "# Group lap data by LapNumber and Compound\n",
    "avg_lap_by_compound = laps.groupby(['LapNumber', 'Compound'], observed=True)['LapSeconds'].agg(['mean', 'std']).reset_index()\n",
    "avg_lap_by_compound.rename(columns={'mean': 'AvgLapTime', 'std': 'StdLapTime'}, inplace=True)\n",
    "\n",
    "fig = px.line(\n",
    "    avg_lap_by_compound,\n",
    "    x='LapNumber',\n",
    "    y='AvgLapTime',\n",
    "    color='Compound',\n",
    "    error_y='StdLapTime',\n",
    "    markers=True,\n",
    "    labels={'LapNumber': 'Lap Number', 'AvgLapTime': 'Lap Time (seconds)'},\n",
    "    title='Tyre Degradation over Laps'\n",
    ")\n",
    "\n",
    "fig.update_traces(hovertemplate=\n",
    "    'Lap %{x}<br>' +\n",
    "    'Avg Time: %{y:.2f}s<br>' +\n",
    "    'Compound: %{customdata[0]}',\n",
    "    customdata=avg_lap_by_compound[['Compound']]\n",
    ")\n",
    "\n",
    "fig.update_layout(\n",
    "    width=1000,\n",
    "    height=600,\n",
    "    hovermode='x unified'\n",
    ")\n",
    "\n",
    "fig.show()"
   ]
  },
  {
   "cell_type": "code",
   "execution_count": 7,
   "id": "d240bf39-0511-4cb5-b11f-9c3561aaae07",
   "metadata": {},
   "outputs": [
    {
     "data": {
      "application/vnd.plotly.v1+json": {
       "config": {
        "plotlyServerURL": "https://plot.ly"
       },
       "data": [
        {
         "customdata": [
          [
           "NOR",
           "McLaren",
           "INTERMEDIATE",
           1,
           "0",
           "No"
          ],
          [
           "NOR",
           "McLaren",
           "INTERMEDIATE",
           1,
           "0",
           "No"
          ],
          [
           "NOR",
           "McLaren",
           "INTERMEDIATE",
           1,
           "0",
           "No"
          ],
          [
           "NOR",
           "McLaren",
           "INTERMEDIATE",
           1,
           "0",
           "No"
          ],
          [
           "NOR",
           "McLaren",
           "INTERMEDIATE",
           1,
           "0",
           "No"
          ],
          [
           "NOR",
           "McLaren",
           "INTERMEDIATE",
           1,
           "0",
           "No"
          ],
          [
           "NOR",
           "McLaren",
           "INTERMEDIATE",
           1,
           "0",
           "No"
          ],
          [
           "NOR",
           "McLaren",
           "INTERMEDIATE",
           1,
           "0",
           "No"
          ],
          [
           "NOR",
           "McLaren",
           "INTERMEDIATE",
           1,
           "0",
           "No"
          ],
          [
           "NOR",
           "McLaren",
           "INTERMEDIATE",
           1,
           "0",
           "No"
          ],
          [
           "NOR",
           "McLaren",
           "INTERMEDIATE",
           1,
           "0",
           "No"
          ],
          [
           "NOR",
           "McLaren",
           "INTERMEDIATE",
           1,
           "0",
           "No"
          ],
          [
           "NOR",
           "McLaren",
           "INTERMEDIATE",
           1,
           "0",
           "No"
          ],
          [
           "NOR",
           "McLaren",
           "INTERMEDIATE",
           1,
           "0",
           "No"
          ],
          [
           "NOR",
           "McLaren",
           "INTERMEDIATE",
           1,
           "0",
           "No"
          ],
          [
           "NOR",
           "McLaren",
           "INTERMEDIATE",
           1,
           "0",
           "No"
          ],
          [
           "NOR",
           "McLaren",
           "INTERMEDIATE",
           1,
           "0",
           "No"
          ],
          [
           "NOR",
           "McLaren",
           "INTERMEDIATE",
           1,
           "0",
           "No"
          ],
          [
           "NOR",
           "McLaren",
           "INTERMEDIATE",
           1,
           "0",
           "No"
          ],
          [
           "NOR",
           "McLaren",
           "INTERMEDIATE",
           1,
           "0",
           "No"
          ],
          [
           "NOR",
           "McLaren",
           "INTERMEDIATE",
           1,
           "0",
           "No"
          ],
          [
           "NOR",
           "McLaren",
           "INTERMEDIATE",
           1,
           "0",
           "No"
          ],
          [
           "NOR",
           "McLaren",
           "INTERMEDIATE",
           1,
           "0",
           "No"
          ],
          [
           "NOR",
           "McLaren",
           "INTERMEDIATE",
           1,
           "0",
           "No"
          ],
          [
           "NOR",
           "McLaren",
           "INTERMEDIATE",
           1,
           "0",
           "No"
          ],
          [
           "NOR",
           "McLaren",
           "INTERMEDIATE",
           1,
           "0",
           "No"
          ],
          [
           "NOR",
           "McLaren",
           "INTERMEDIATE",
           1,
           "0",
           "No"
          ],
          [
           "NOR",
           "McLaren",
           "INTERMEDIATE",
           1,
           "0",
           "No"
          ],
          [
           "NOR",
           "McLaren",
           "INTERMEDIATE",
           1,
           "0",
           "No"
          ],
          [
           "NOR",
           "McLaren",
           "INTERMEDIATE",
           1,
           "0",
           "No"
          ],
          [
           "NOR",
           "McLaren",
           "INTERMEDIATE",
           1,
           "0",
           "Yes"
          ],
          [
           "NOR",
           "McLaren",
           "HARD",
           1,
           "0",
           "No"
          ],
          [
           "NOR",
           "McLaren",
           "HARD",
           1,
           "0",
           "No"
          ],
          [
           "NOR",
           "McLaren",
           "HARD",
           1,
           "0",
           "No"
          ],
          [
           "NOR",
           "McLaren",
           "HARD",
           1,
           "0",
           "No"
          ],
          [
           "NOR",
           "McLaren",
           "HARD",
           1,
           "0",
           "No"
          ],
          [
           "NOR",
           "McLaren",
           "HARD",
           1,
           "0",
           "No"
          ],
          [
           "NOR",
           "McLaren",
           "HARD",
           1,
           "0",
           "No"
          ],
          [
           "NOR",
           "McLaren",
           "HARD",
           1,
           "0",
           "No"
          ],
          [
           "NOR",
           "McLaren",
           "HARD",
           6,
           "-5.0",
           "Yes"
          ],
          [
           "NOR",
           "McLaren",
           "INTERMEDIATE",
           6,
           "-5.0",
           "No"
          ],
          [
           "NOR",
           "McLaren",
           "INTERMEDIATE",
           3,
           "-2.0",
           "No"
          ],
          [
           "NOR",
           "McLaren",
           "INTERMEDIATE",
           1,
           "0",
           "No"
          ],
          [
           "NOR",
           "McLaren",
           "INTERMEDIATE",
           1,
           "0",
           "No"
          ],
          [
           "NOR",
           "McLaren",
           "INTERMEDIATE",
           1,
           "0",
           "No"
          ],
          [
           "NOR",
           "McLaren",
           "INTERMEDIATE",
           1,
           "0",
           "No"
          ],
          [
           "NOR",
           "McLaren",
           "INTERMEDIATE",
           1,
           "0",
           "No"
          ],
          [
           "NOR",
           "McLaren",
           "INTERMEDIATE",
           1,
           "0",
           "No"
          ],
          [
           "NOR",
           "McLaren",
           "INTERMEDIATE",
           1,
           "0",
           "No"
          ],
          [
           "NOR",
           "McLaren",
           "INTERMEDIATE",
           1,
           "0",
           "No"
          ],
          [
           "NOR",
           "McLaren",
           "INTERMEDIATE",
           1,
           "0",
           "No"
          ],
          [
           "NOR",
           "McLaren",
           "INTERMEDIATE",
           1,
           "0",
           "No"
          ],
          [
           "NOR",
           "McLaren",
           "INTERMEDIATE",
           1,
           "0",
           "No"
          ]
         ],
         "hovertemplate": "Driver: %{customdata[0]}<br>Team: %{customdata[1]}<br>Lap: %{x}<br>Lap Time: %{y:.2f}s<br>Tyre: %{customdata[2]}<br>Position: %{customdata[3]}<br>Change: %{customdata[4]}<br>Pit Stop: %{customdata[5]}",
         "line": {
          "color": "gold"
         },
         "marker": {
          "color": "gold",
          "symbol": "circle"
         },
         "mode": "lines+markers",
         "name": "NOR (P1)",
         "type": "scatter",
         "x": {
          "bdata": "AAAAAAAA8D8AAAAAAAAUQAAAAAAAABhAAAAAAAAAHEAAAAAAAAAgQAAAAAAAACJAAAAAAAAAJEAAAAAAAAAmQAAAAAAAAChAAAAAAAAAKkAAAAAAAAAsQAAAAAAAAC5AAAAAAAAAMEAAAAAAAAAxQAAAAAAAADJAAAAAAAAAM0AAAAAAAAA0QAAAAAAAADVAAAAAAAAANkAAAAAAAAA3QAAAAAAAADhAAAAAAAAAOUAAAAAAAAA6QAAAAAAAADtAAAAAAAAAPEAAAAAAAAA9QAAAAAAAAD5AAAAAAAAAP0AAAAAAAABAQAAAAAAAgEBAAAAAAAAAQUAAAAAAAIBBQAAAAAAAAEJAAAAAAAAAQ0AAAAAAAIBDQAAAAAAAAERAAAAAAACAREAAAAAAAABFQAAAAAAAgEVAAAAAAAAARkAAAAAAAIBGQAAAAAAAAEdAAAAAAACAR0AAAAAAAABIQAAAAAAAgEhAAAAAAAAASUAAAAAAAIBJQAAAAAAAAEpAAAAAAACASkAAAAAAAABLQAAAAAAAgEtAAAAAAAAATEAAAAAAAIBMQA==",
          "dtype": "f8"
         },
         "y": {
          "bdata": "dZMYBFZGXUDb+X5qvPRhQKjGSzeJjWFA+n5qvHQjYUBvEoPAyhFYQEa28/3UqFdAuB6F61EIV0BqvHSTGAxXQG8Sg8DK8VZAMQisHFrUVkB7FK5H4bJWQFg5tMh2jlZAsHJoke18VkA3iUFg5ZBWQNNNYhBYiVZAJQaBlUOjVkA9CtejcK1WQOXQItv5jlZAMzMzMzOTVkBeukkMAntWQIcW2c73a1ZAWDm0yHZmVkAK16NwPUpWQAAAAAAAUFZAke18PzVGVkACK4cW2RZWQDVeukkMAlZAFK5H4XrsVUAzMzMzM/NVQEjhehSu31VAtvP91HiRXkDpJjEIrNxeQMdLN4lBHGFAcT0K16OgYUCR7Xw/NbZgQBBYObTI6mBARIts5/u9YEBeukkMAvNUQKabxCCwilRAIbByaJFlWkA1XrpJDBpYQD81XrpJ5FZAO99PjZduXECkcD0K1x9hQBfZzvdTH2JAcT0K16PMYUAEVg4tssVgQOkmMQisTFdAAiuHFtmeVkAIrBxaZFtWQBSuR+F6TFZAObTIdr7/VUDy0k1iEMhVQA==",
          "dtype": "f8"
         }
        },
        {
         "customdata": [
          [
           "VER",
           "Red Bull Racing",
           "INTERMEDIATE",
           5,
           "0",
           "No"
          ],
          [
           "VER",
           "Red Bull Racing",
           "INTERMEDIATE",
           2,
           "+3.0",
           "No"
          ],
          [
           "VER",
           "Red Bull Racing",
           "INTERMEDIATE",
           2,
           "+3.0",
           "No"
          ],
          [
           "VER",
           "Red Bull Racing",
           "INTERMEDIATE",
           2,
           "+3.0",
           "No"
          ],
          [
           "VER",
           "Red Bull Racing",
           "INTERMEDIATE",
           2,
           "+3.0",
           "No"
          ],
          [
           "VER",
           "Red Bull Racing",
           "INTERMEDIATE",
           2,
           "+3.0",
           "No"
          ],
          [
           "VER",
           "Red Bull Racing",
           "INTERMEDIATE",
           2,
           "+3.0",
           "No"
          ],
          [
           "VER",
           "Red Bull Racing",
           "INTERMEDIATE",
           2,
           "+3.0",
           "No"
          ],
          [
           "VER",
           "Red Bull Racing",
           "INTERMEDIATE",
           2,
           "+3.0",
           "No"
          ],
          [
           "VER",
           "Red Bull Racing",
           "INTERMEDIATE",
           2,
           "+3.0",
           "No"
          ],
          [
           "VER",
           "Red Bull Racing",
           "INTERMEDIATE",
           2,
           "+3.0",
           "No"
          ],
          [
           "VER",
           "Red Bull Racing",
           "INTERMEDIATE",
           2,
           "+3.0",
           "No"
          ],
          [
           "VER",
           "Red Bull Racing",
           "INTERMEDIATE",
           2,
           "+3.0",
           "No"
          ],
          [
           "VER",
           "Red Bull Racing",
           "INTERMEDIATE",
           3,
           "+2.0",
           "No"
          ],
          [
           "VER",
           "Red Bull Racing",
           "INTERMEDIATE",
           3,
           "+2.0",
           "No"
          ],
          [
           "VER",
           "Red Bull Racing",
           "INTERMEDIATE",
           3,
           "+2.0",
           "No"
          ],
          [
           "VER",
           "Red Bull Racing",
           "INTERMEDIATE",
           3,
           "+2.0",
           "No"
          ],
          [
           "VER",
           "Red Bull Racing",
           "INTERMEDIATE",
           3,
           "+2.0",
           "No"
          ],
          [
           "VER",
           "Red Bull Racing",
           "INTERMEDIATE",
           3,
           "+2.0",
           "No"
          ],
          [
           "VER",
           "Red Bull Racing",
           "INTERMEDIATE",
           3,
           "+2.0",
           "No"
          ],
          [
           "VER",
           "Red Bull Racing",
           "INTERMEDIATE",
           3,
           "+2.0",
           "No"
          ],
          [
           "VER",
           "Red Bull Racing",
           "INTERMEDIATE",
           3,
           "+2.0",
           "No"
          ],
          [
           "VER",
           "Red Bull Racing",
           "INTERMEDIATE",
           3,
           "+2.0",
           "No"
          ],
          [
           "VER",
           "Red Bull Racing",
           "INTERMEDIATE",
           3,
           "+2.0",
           "No"
          ],
          [
           "VER",
           "Red Bull Racing",
           "INTERMEDIATE",
           3,
           "+2.0",
           "No"
          ],
          [
           "VER",
           "Red Bull Racing",
           "INTERMEDIATE",
           3,
           "+2.0",
           "No"
          ],
          [
           "VER",
           "Red Bull Racing",
           "INTERMEDIATE",
           3,
           "+2.0",
           "No"
          ],
          [
           "VER",
           "Red Bull Racing",
           "INTERMEDIATE",
           3,
           "+2.0",
           "No"
          ],
          [
           "VER",
           "Red Bull Racing",
           "INTERMEDIATE",
           3,
           "+2.0",
           "No"
          ],
          [
           "VER",
           "Red Bull Racing",
           "INTERMEDIATE",
           3,
           "+2.0",
           "No"
          ],
          [
           "VER",
           "Red Bull Racing",
           "INTERMEDIATE",
           3,
           "+2.0",
           "Yes"
          ],
          [
           "VER",
           "Red Bull Racing",
           "MEDIUM",
           3,
           "+2.0",
           "No"
          ],
          [
           "VER",
           "Red Bull Racing",
           "MEDIUM",
           3,
           "+2.0",
           "No"
          ],
          [
           "VER",
           "Red Bull Racing",
           "MEDIUM",
           3,
           "+2.0",
           "No"
          ],
          [
           "VER",
           "Red Bull Racing",
           "MEDIUM",
           3,
           "+2.0",
           "No"
          ],
          [
           "VER",
           "Red Bull Racing",
           "MEDIUM",
           3,
           "+2.0",
           "No"
          ],
          [
           "VER",
           "Red Bull Racing",
           "MEDIUM",
           3,
           "+2.0",
           "No"
          ],
          [
           "VER",
           "Red Bull Racing",
           "MEDIUM",
           3,
           "+2.0",
           "No"
          ],
          [
           "VER",
           "Red Bull Racing",
           "MEDIUM",
           3,
           "+2.0",
           "No"
          ],
          [
           "VER",
           "Red Bull Racing",
           "MEDIUM",
           1,
           "+4.0",
           "No"
          ],
          [
           "VER",
           "Red Bull Racing",
           "MEDIUM",
           1,
           "+4.0",
           "No"
          ],
          [
           "VER",
           "Red Bull Racing",
           "MEDIUM",
           5,
           "0",
           "Yes"
          ],
          [
           "VER",
           "Red Bull Racing",
           "INTERMEDIATE",
           2,
           "+3.0",
           "No"
          ],
          [
           "VER",
           "Red Bull Racing",
           "INTERMEDIATE",
           2,
           "+3.0",
           "No"
          ],
          [
           "VER",
           "Red Bull Racing",
           "INTERMEDIATE",
           2,
           "+3.0",
           "No"
          ],
          [
           "VER",
           "Red Bull Racing",
           "INTERMEDIATE",
           2,
           "+3.0",
           "No"
          ],
          [
           "VER",
           "Red Bull Racing",
           "INTERMEDIATE",
           2,
           "+3.0",
           "No"
          ],
          [
           "VER",
           "Red Bull Racing",
           "INTERMEDIATE",
           2,
           "+3.0",
           "No"
          ],
          [
           "VER",
           "Red Bull Racing",
           "INTERMEDIATE",
           2,
           "+3.0",
           "No"
          ],
          [
           "VER",
           "Red Bull Racing",
           "INTERMEDIATE",
           2,
           "+3.0",
           "No"
          ],
          [
           "VER",
           "Red Bull Racing",
           "INTERMEDIATE",
           2,
           "+3.0",
           "No"
          ],
          [
           "VER",
           "Red Bull Racing",
           "INTERMEDIATE",
           2,
           "+3.0",
           "No"
          ],
          [
           "VER",
           "Red Bull Racing",
           "INTERMEDIATE",
           2,
           "+3.0",
           "No"
          ]
         ],
         "hovertemplate": "Driver: %{customdata[0]}<br>Team: %{customdata[1]}<br>Lap: %{x}<br>Lap Time: %{y:.2f}s<br>Tyre: %{customdata[2]}<br>Position: %{customdata[3]}<br>Change: %{customdata[4]}<br>Pit Stop: %{customdata[5]}",
         "line": {
          "color": "silver"
         },
         "marker": {
          "color": "silver",
          "symbol": "square"
         },
         "mode": "lines+markers",
         "name": "VER (P2)",
         "type": "scatter",
         "x": {
          "bdata": "AAAAAAAA8D8AAAAAAAAUQAAAAAAAABhAAAAAAAAAHEAAAAAAAAAgQAAAAAAAACJAAAAAAAAAJEAAAAAAAAAmQAAAAAAAAChAAAAAAAAAKkAAAAAAAAAsQAAAAAAAAC5AAAAAAAAAMEAAAAAAAAAxQAAAAAAAADJAAAAAAAAAM0AAAAAAAAA0QAAAAAAAADVAAAAAAAAANkAAAAAAAAA3QAAAAAAAADhAAAAAAAAAOUAAAAAAAAA6QAAAAAAAADtAAAAAAAAAPEAAAAAAAAA9QAAAAAAAAD5AAAAAAAAAP0AAAAAAAABAQAAAAAAAgEBAAAAAAAAAQUAAAAAAAIBBQAAAAAAAAEJAAAAAAAAAQ0AAAAAAAIBDQAAAAAAAAERAAAAAAACAREAAAAAAAABFQAAAAAAAgEVAAAAAAAAARkAAAAAAAIBGQAAAAAAAAEdAAAAAAACAR0AAAAAAAABIQAAAAAAAgEhAAAAAAAAASUAAAAAAAIBJQAAAAAAAAEpAAAAAAACASkAAAAAAAABLQAAAAAAAgEtAAAAAAAAATEAAAAAAAIBMQA==",
          "dtype": "f8"
         },
         "y": {
          "bdata": "DAIrhxbZXUBzaJHtfPNhQLByaJHtdGFA/Knx0k0OYUCF61G4HjVYQFyPwvUolFdAmpmZmZkpV0CiRbbz/RxXQOf7qfHS5VZA001iEFjRVkA3iUFg5ahWQKJFtvP9lFZA2c73U+OlVkAMAiuHFllXQIlBYOXQCldAarx0kxj8VkCDwMqhReZWQBfZzvdTy1ZAw/UoXI/CVkCWQ4ts56tWQDvfT42XvlZArkfhehS2VkCYbhKDwJJWQBBYObTIblZA/Knx0k1aVkCYbhKDwEJWQLpJDAIrD1ZA46WbxCAIVkBaZDvfTw1WQG3n+6nxAlZAQmDl0CITYECNl24SgyBfQEw3iUFgFV1AhetRuB49YUACK4cW2ZZgQA4tsp3vb2BA46WbxCCAYEA/NV66SVRVQHe+nxovxVRA0SLb+X6yVUAOLbKd7zdXQBBYObTIJlxAEoPAyqHNX0BEi2zn+5leQAaBlUOLHGJAH4XrUbjCYUDjpZvEILxgQJ7vp8ZLd1dA5dAi2/m2VkBmZmZmZkZWQN9PjZduIlZAbef7qfH6VUCamZmZmdlVQA==",
          "dtype": "f8"
         }
        },
        {
         "customdata": [
          [
           "RUS",
           "Mercedes",
           "INTERMEDIATE",
           7,
           "0",
           "No"
          ],
          [
           "RUS",
           "Mercedes",
           "INTERMEDIATE",
           4,
           "+3.0",
           "No"
          ],
          [
           "RUS",
           "Mercedes",
           "INTERMEDIATE",
           4,
           "+3.0",
           "No"
          ],
          [
           "RUS",
           "Mercedes",
           "INTERMEDIATE",
           4,
           "+3.0",
           "No"
          ],
          [
           "RUS",
           "Mercedes",
           "INTERMEDIATE",
           4,
           "+3.0",
           "No"
          ],
          [
           "RUS",
           "Mercedes",
           "INTERMEDIATE",
           4,
           "+3.0",
           "No"
          ],
          [
           "RUS",
           "Mercedes",
           "INTERMEDIATE",
           4,
           "+3.0",
           "No"
          ],
          [
           "RUS",
           "Mercedes",
           "INTERMEDIATE",
           4,
           "+3.0",
           "No"
          ],
          [
           "RUS",
           "Mercedes",
           "INTERMEDIATE",
           4,
           "+3.0",
           "No"
          ],
          [
           "RUS",
           "Mercedes",
           "INTERMEDIATE",
           4,
           "+3.0",
           "No"
          ],
          [
           "RUS",
           "Mercedes",
           "INTERMEDIATE",
           4,
           "+3.0",
           "No"
          ],
          [
           "RUS",
           "Mercedes",
           "INTERMEDIATE",
           4,
           "+3.0",
           "No"
          ],
          [
           "RUS",
           "Mercedes",
           "INTERMEDIATE",
           4,
           "+3.0",
           "No"
          ],
          [
           "RUS",
           "Mercedes",
           "INTERMEDIATE",
           4,
           "+3.0",
           "No"
          ],
          [
           "RUS",
           "Mercedes",
           "INTERMEDIATE",
           4,
           "+3.0",
           "No"
          ],
          [
           "RUS",
           "Mercedes",
           "INTERMEDIATE",
           4,
           "+3.0",
           "No"
          ],
          [
           "RUS",
           "Mercedes",
           "INTERMEDIATE",
           4,
           "+3.0",
           "No"
          ],
          [
           "RUS",
           "Mercedes",
           "INTERMEDIATE",
           4,
           "+3.0",
           "No"
          ],
          [
           "RUS",
           "Mercedes",
           "INTERMEDIATE",
           4,
           "+3.0",
           "No"
          ],
          [
           "RUS",
           "Mercedes",
           "INTERMEDIATE",
           4,
           "+3.0",
           "No"
          ],
          [
           "RUS",
           "Mercedes",
           "INTERMEDIATE",
           4,
           "+3.0",
           "No"
          ],
          [
           "RUS",
           "Mercedes",
           "INTERMEDIATE",
           4,
           "+3.0",
           "No"
          ],
          [
           "RUS",
           "Mercedes",
           "INTERMEDIATE",
           4,
           "+3.0",
           "No"
          ],
          [
           "RUS",
           "Mercedes",
           "INTERMEDIATE",
           4,
           "+3.0",
           "No"
          ],
          [
           "RUS",
           "Mercedes",
           "INTERMEDIATE",
           4,
           "+3.0",
           "No"
          ],
          [
           "RUS",
           "Mercedes",
           "INTERMEDIATE",
           4,
           "+3.0",
           "No"
          ],
          [
           "RUS",
           "Mercedes",
           "INTERMEDIATE",
           4,
           "+3.0",
           "No"
          ],
          [
           "RUS",
           "Mercedes",
           "INTERMEDIATE",
           4,
           "+3.0",
           "No"
          ],
          [
           "RUS",
           "Mercedes",
           "INTERMEDIATE",
           4,
           "+3.0",
           "No"
          ],
          [
           "RUS",
           "Mercedes",
           "INTERMEDIATE",
           4,
           "+3.0",
           "No"
          ],
          [
           "RUS",
           "Mercedes",
           "INTERMEDIATE",
           4,
           "+3.0",
           "Yes"
          ],
          [
           "RUS",
           "Mercedes",
           "HARD",
           4,
           "+3.0",
           "No"
          ],
          [
           "RUS",
           "Mercedes",
           "HARD",
           4,
           "+3.0",
           "No"
          ],
          [
           "RUS",
           "Mercedes",
           "HARD",
           4,
           "+3.0",
           "No"
          ],
          [
           "RUS",
           "Mercedes",
           "HARD",
           4,
           "+3.0",
           "No"
          ],
          [
           "RUS",
           "Mercedes",
           "HARD",
           4,
           "+3.0",
           "No"
          ],
          [
           "RUS",
           "Mercedes",
           "HARD",
           4,
           "+3.0",
           "No"
          ],
          [
           "RUS",
           "Mercedes",
           "HARD",
           4,
           "+3.0",
           "No"
          ],
          [
           "RUS",
           "Mercedes",
           "HARD",
           4,
           "+3.0",
           "No"
          ],
          [
           "RUS",
           "Mercedes",
           "HARD",
           8,
           "-1.0",
           "Yes"
          ],
          [
           "RUS",
           "Mercedes",
           "INTERMEDIATE",
           8,
           "-1.0",
           "No"
          ],
          [
           "RUS",
           "Mercedes",
           "INTERMEDIATE",
           6,
           "+1.0",
           "No"
          ],
          [
           "RUS",
           "Mercedes",
           "INTERMEDIATE",
           3,
           "+4.0",
           "No"
          ],
          [
           "RUS",
           "Mercedes",
           "INTERMEDIATE",
           3,
           "+4.0",
           "No"
          ],
          [
           "RUS",
           "Mercedes",
           "INTERMEDIATE",
           3,
           "+4.0",
           "No"
          ],
          [
           "RUS",
           "Mercedes",
           "INTERMEDIATE",
           3,
           "+4.0",
           "No"
          ],
          [
           "RUS",
           "Mercedes",
           "INTERMEDIATE",
           3,
           "+4.0",
           "No"
          ],
          [
           "RUS",
           "Mercedes",
           "INTERMEDIATE",
           3,
           "+4.0",
           "No"
          ],
          [
           "RUS",
           "Mercedes",
           "INTERMEDIATE",
           3,
           "+4.0",
           "No"
          ],
          [
           "RUS",
           "Mercedes",
           "INTERMEDIATE",
           3,
           "+4.0",
           "No"
          ],
          [
           "RUS",
           "Mercedes",
           "INTERMEDIATE",
           3,
           "+4.0",
           "No"
          ],
          [
           "RUS",
           "Mercedes",
           "INTERMEDIATE",
           3,
           "+4.0",
           "No"
          ],
          [
           "RUS",
           "Mercedes",
           "INTERMEDIATE",
           3,
           "+4.0",
           "No"
          ]
         ],
         "hovertemplate": "Driver: %{customdata[0]}<br>Team: %{customdata[1]}<br>Lap: %{x}<br>Lap Time: %{y:.2f}s<br>Tyre: %{customdata[2]}<br>Position: %{customdata[3]}<br>Change: %{customdata[4]}<br>Pit Stop: %{customdata[5]}",
         "line": {
          "color": "peru"
         },
         "marker": {
          "color": "peru",
          "symbol": "diamond"
         },
         "mode": "lines+markers",
         "name": "RUS (P3)",
         "type": "scatter",
         "x": {
          "bdata": "AAAAAAAA8D8AAAAAAAAUQAAAAAAAABhAAAAAAAAAHEAAAAAAAAAgQAAAAAAAACJAAAAAAAAAJEAAAAAAAAAmQAAAAAAAAChAAAAAAAAAKkAAAAAAAAAsQAAAAAAAAC5AAAAAAAAAMEAAAAAAAAAxQAAAAAAAADJAAAAAAAAAM0AAAAAAAAA0QAAAAAAAADVAAAAAAAAANkAAAAAAAAA3QAAAAAAAADhAAAAAAAAAOUAAAAAAAAA6QAAAAAAAADtAAAAAAAAAPEAAAAAAAAA9QAAAAAAAAD5AAAAAAAAAP0AAAAAAAABAQAAAAAAAgEBAAAAAAAAAQUAAAAAAAIBBQAAAAAAAAEJAAAAAAAAAQ0AAAAAAAIBDQAAAAAAAAERAAAAAAACAREAAAAAAAABFQAAAAAAAgEVAAAAAAAAARkAAAAAAAIBGQAAAAAAAAEdAAAAAAACAR0AAAAAAAABIQAAAAAAAgEhAAAAAAAAASUAAAAAAAIBJQAAAAAAAAEpAAAAAAACASkAAAAAAAABLQAAAAAAAgEtAAAAAAAAATEAAAAAAAIBMQA==",
          "dtype": "f8"
         },
         "y": {
          "bdata": "8KfGSzcpX0AQWDm0yLZhQOxRuB6Fb2FA2c73U+PVYEDb+X5qvHRYQB1aZDvft1dAIbByaJFlV0CR7Xw/NVZXQAisHFpkM1dAnu+nxksXV0AQWDm0yPZWQHE9Ctej+FZAnu+nxkvvVkCR7Xw/NeZWQI/C9Shc71ZAarx0kxgMV0Bcj8L1KNRWQOOlm8QgyFZAYOXQItvBVkBmZmZmZr5WQFCNl24Sq1ZArBxaZDufVkDJdr6fGodWQKwcWmQ7d1ZABoGVQ4tsVkCsHFpkO19WQNEi2/l+clZAtMh2vp9CVkDJdr6fGldWQAisHFpko1ZAf2q8dJPwYEAQWDm0yH5fQESLbOf7OVpAYhBYObRIYUAMAiuHFplgQLKd76fGa2BAAiuHFtlmYECe76fGS49VQFyPwvUoRFVArBxaZDuPWkCF61G4HhVYQEjhehSu91ZAarx0kxicXkDHSzeJQcheQPCnxks3BWJA9ihcj8LJYUBU46WbxKRgQEw3iUFglVdAF9nO91PLVkAK16NwPZpWQL6fGi/dhFZAkxgEVg5dVkBzaJHtfEdWQA==",
          "dtype": "f8"
         }
        },
        {
         "customdata": [
          [
           "VER"
          ],
          [
           "VER"
          ],
          [
           "NOR"
          ],
          [
           "NOR"
          ],
          [
           "RUS"
          ],
          [
           "RUS"
          ]
         ],
         "hovertemplate": "Pit Stop<br>Driver: %{customdata[0]}<br>Lap: %{x}<br>Lap Time: %{y:.2f}s",
         "marker": {
          "color": "black",
          "size": 10,
          "symbol": "x"
         },
         "mode": "markers",
         "name": "Pit Stop",
         "type": "scatter",
         "x": {
          "bdata": "AAAAAAAAQUAAAAAAAABHQAAAAAAAAEFAAAAAAAAARkAAAAAAAABBQAAAAAAAAEZA",
          "dtype": "f8"
         },
         "y": {
          "bdata": "QmDl0CITYEAQWDm0yCZcQLbz/dR4kV5AIbByaJFlWkB/arx0k/BgQKwcWmQ7j1pA",
          "dtype": "f8"
         }
        }
       ],
       "layout": {
        "height": 650,
        "hovermode": "closest",
        "legend": {
         "title": {
          "text": "Driver (Finish Position)"
         }
        },
        "template": {
         "data": {
          "bar": [
           {
            "error_x": {
             "color": "#2a3f5f"
            },
            "error_y": {
             "color": "#2a3f5f"
            },
            "marker": {
             "line": {
              "color": "#E5ECF6",
              "width": 0.5
             },
             "pattern": {
              "fillmode": "overlay",
              "size": 10,
              "solidity": 0.2
             }
            },
            "type": "bar"
           }
          ],
          "barpolar": [
           {
            "marker": {
             "line": {
              "color": "#E5ECF6",
              "width": 0.5
             },
             "pattern": {
              "fillmode": "overlay",
              "size": 10,
              "solidity": 0.2
             }
            },
            "type": "barpolar"
           }
          ],
          "carpet": [
           {
            "aaxis": {
             "endlinecolor": "#2a3f5f",
             "gridcolor": "white",
             "linecolor": "white",
             "minorgridcolor": "white",
             "startlinecolor": "#2a3f5f"
            },
            "baxis": {
             "endlinecolor": "#2a3f5f",
             "gridcolor": "white",
             "linecolor": "white",
             "minorgridcolor": "white",
             "startlinecolor": "#2a3f5f"
            },
            "type": "carpet"
           }
          ],
          "choropleth": [
           {
            "colorbar": {
             "outlinewidth": 0,
             "ticks": ""
            },
            "type": "choropleth"
           }
          ],
          "contour": [
           {
            "colorbar": {
             "outlinewidth": 0,
             "ticks": ""
            },
            "colorscale": [
             [
              0,
              "#0d0887"
             ],
             [
              0.1111111111111111,
              "#46039f"
             ],
             [
              0.2222222222222222,
              "#7201a8"
             ],
             [
              0.3333333333333333,
              "#9c179e"
             ],
             [
              0.4444444444444444,
              "#bd3786"
             ],
             [
              0.5555555555555556,
              "#d8576b"
             ],
             [
              0.6666666666666666,
              "#ed7953"
             ],
             [
              0.7777777777777778,
              "#fb9f3a"
             ],
             [
              0.8888888888888888,
              "#fdca26"
             ],
             [
              1,
              "#f0f921"
             ]
            ],
            "type": "contour"
           }
          ],
          "contourcarpet": [
           {
            "colorbar": {
             "outlinewidth": 0,
             "ticks": ""
            },
            "type": "contourcarpet"
           }
          ],
          "heatmap": [
           {
            "colorbar": {
             "outlinewidth": 0,
             "ticks": ""
            },
            "colorscale": [
             [
              0,
              "#0d0887"
             ],
             [
              0.1111111111111111,
              "#46039f"
             ],
             [
              0.2222222222222222,
              "#7201a8"
             ],
             [
              0.3333333333333333,
              "#9c179e"
             ],
             [
              0.4444444444444444,
              "#bd3786"
             ],
             [
              0.5555555555555556,
              "#d8576b"
             ],
             [
              0.6666666666666666,
              "#ed7953"
             ],
             [
              0.7777777777777778,
              "#fb9f3a"
             ],
             [
              0.8888888888888888,
              "#fdca26"
             ],
             [
              1,
              "#f0f921"
             ]
            ],
            "type": "heatmap"
           }
          ],
          "histogram": [
           {
            "marker": {
             "pattern": {
              "fillmode": "overlay",
              "size": 10,
              "solidity": 0.2
             }
            },
            "type": "histogram"
           }
          ],
          "histogram2d": [
           {
            "colorbar": {
             "outlinewidth": 0,
             "ticks": ""
            },
            "colorscale": [
             [
              0,
              "#0d0887"
             ],
             [
              0.1111111111111111,
              "#46039f"
             ],
             [
              0.2222222222222222,
              "#7201a8"
             ],
             [
              0.3333333333333333,
              "#9c179e"
             ],
             [
              0.4444444444444444,
              "#bd3786"
             ],
             [
              0.5555555555555556,
              "#d8576b"
             ],
             [
              0.6666666666666666,
              "#ed7953"
             ],
             [
              0.7777777777777778,
              "#fb9f3a"
             ],
             [
              0.8888888888888888,
              "#fdca26"
             ],
             [
              1,
              "#f0f921"
             ]
            ],
            "type": "histogram2d"
           }
          ],
          "histogram2dcontour": [
           {
            "colorbar": {
             "outlinewidth": 0,
             "ticks": ""
            },
            "colorscale": [
             [
              0,
              "#0d0887"
             ],
             [
              0.1111111111111111,
              "#46039f"
             ],
             [
              0.2222222222222222,
              "#7201a8"
             ],
             [
              0.3333333333333333,
              "#9c179e"
             ],
             [
              0.4444444444444444,
              "#bd3786"
             ],
             [
              0.5555555555555556,
              "#d8576b"
             ],
             [
              0.6666666666666666,
              "#ed7953"
             ],
             [
              0.7777777777777778,
              "#fb9f3a"
             ],
             [
              0.8888888888888888,
              "#fdca26"
             ],
             [
              1,
              "#f0f921"
             ]
            ],
            "type": "histogram2dcontour"
           }
          ],
          "mesh3d": [
           {
            "colorbar": {
             "outlinewidth": 0,
             "ticks": ""
            },
            "type": "mesh3d"
           }
          ],
          "parcoords": [
           {
            "line": {
             "colorbar": {
              "outlinewidth": 0,
              "ticks": ""
             }
            },
            "type": "parcoords"
           }
          ],
          "pie": [
           {
            "automargin": true,
            "type": "pie"
           }
          ],
          "scatter": [
           {
            "fillpattern": {
             "fillmode": "overlay",
             "size": 10,
             "solidity": 0.2
            },
            "type": "scatter"
           }
          ],
          "scatter3d": [
           {
            "line": {
             "colorbar": {
              "outlinewidth": 0,
              "ticks": ""
             }
            },
            "marker": {
             "colorbar": {
              "outlinewidth": 0,
              "ticks": ""
             }
            },
            "type": "scatter3d"
           }
          ],
          "scattercarpet": [
           {
            "marker": {
             "colorbar": {
              "outlinewidth": 0,
              "ticks": ""
             }
            },
            "type": "scattercarpet"
           }
          ],
          "scattergeo": [
           {
            "marker": {
             "colorbar": {
              "outlinewidth": 0,
              "ticks": ""
             }
            },
            "type": "scattergeo"
           }
          ],
          "scattergl": [
           {
            "marker": {
             "colorbar": {
              "outlinewidth": 0,
              "ticks": ""
             }
            },
            "type": "scattergl"
           }
          ],
          "scattermap": [
           {
            "marker": {
             "colorbar": {
              "outlinewidth": 0,
              "ticks": ""
             }
            },
            "type": "scattermap"
           }
          ],
          "scattermapbox": [
           {
            "marker": {
             "colorbar": {
              "outlinewidth": 0,
              "ticks": ""
             }
            },
            "type": "scattermapbox"
           }
          ],
          "scatterpolar": [
           {
            "marker": {
             "colorbar": {
              "outlinewidth": 0,
              "ticks": ""
             }
            },
            "type": "scatterpolar"
           }
          ],
          "scatterpolargl": [
           {
            "marker": {
             "colorbar": {
              "outlinewidth": 0,
              "ticks": ""
             }
            },
            "type": "scatterpolargl"
           }
          ],
          "scatterternary": [
           {
            "marker": {
             "colorbar": {
              "outlinewidth": 0,
              "ticks": ""
             }
            },
            "type": "scatterternary"
           }
          ],
          "surface": [
           {
            "colorbar": {
             "outlinewidth": 0,
             "ticks": ""
            },
            "colorscale": [
             [
              0,
              "#0d0887"
             ],
             [
              0.1111111111111111,
              "#46039f"
             ],
             [
              0.2222222222222222,
              "#7201a8"
             ],
             [
              0.3333333333333333,
              "#9c179e"
             ],
             [
              0.4444444444444444,
              "#bd3786"
             ],
             [
              0.5555555555555556,
              "#d8576b"
             ],
             [
              0.6666666666666666,
              "#ed7953"
             ],
             [
              0.7777777777777778,
              "#fb9f3a"
             ],
             [
              0.8888888888888888,
              "#fdca26"
             ],
             [
              1,
              "#f0f921"
             ]
            ],
            "type": "surface"
           }
          ],
          "table": [
           {
            "cells": {
             "fill": {
              "color": "#EBF0F8"
             },
             "line": {
              "color": "white"
             }
            },
            "header": {
             "fill": {
              "color": "#C8D4E3"
             },
             "line": {
              "color": "white"
             }
            },
            "type": "table"
           }
          ]
         },
         "layout": {
          "annotationdefaults": {
           "arrowcolor": "#2a3f5f",
           "arrowhead": 0,
           "arrowwidth": 1
          },
          "autotypenumbers": "strict",
          "coloraxis": {
           "colorbar": {
            "outlinewidth": 0,
            "ticks": ""
           }
          },
          "colorscale": {
           "diverging": [
            [
             0,
             "#8e0152"
            ],
            [
             0.1,
             "#c51b7d"
            ],
            [
             0.2,
             "#de77ae"
            ],
            [
             0.3,
             "#f1b6da"
            ],
            [
             0.4,
             "#fde0ef"
            ],
            [
             0.5,
             "#f7f7f7"
            ],
            [
             0.6,
             "#e6f5d0"
            ],
            [
             0.7,
             "#b8e186"
            ],
            [
             0.8,
             "#7fbc41"
            ],
            [
             0.9,
             "#4d9221"
            ],
            [
             1,
             "#276419"
            ]
           ],
           "sequential": [
            [
             0,
             "#0d0887"
            ],
            [
             0.1111111111111111,
             "#46039f"
            ],
            [
             0.2222222222222222,
             "#7201a8"
            ],
            [
             0.3333333333333333,
             "#9c179e"
            ],
            [
             0.4444444444444444,
             "#bd3786"
            ],
            [
             0.5555555555555556,
             "#d8576b"
            ],
            [
             0.6666666666666666,
             "#ed7953"
            ],
            [
             0.7777777777777778,
             "#fb9f3a"
            ],
            [
             0.8888888888888888,
             "#fdca26"
            ],
            [
             1,
             "#f0f921"
            ]
           ],
           "sequentialminus": [
            [
             0,
             "#0d0887"
            ],
            [
             0.1111111111111111,
             "#46039f"
            ],
            [
             0.2222222222222222,
             "#7201a8"
            ],
            [
             0.3333333333333333,
             "#9c179e"
            ],
            [
             0.4444444444444444,
             "#bd3786"
            ],
            [
             0.5555555555555556,
             "#d8576b"
            ],
            [
             0.6666666666666666,
             "#ed7953"
            ],
            [
             0.7777777777777778,
             "#fb9f3a"
            ],
            [
             0.8888888888888888,
             "#fdca26"
            ],
            [
             1,
             "#f0f921"
            ]
           ]
          },
          "colorway": [
           "#636efa",
           "#EF553B",
           "#00cc96",
           "#ab63fa",
           "#FFA15A",
           "#19d3f3",
           "#FF6692",
           "#B6E880",
           "#FF97FF",
           "#FECB52"
          ],
          "font": {
           "color": "#2a3f5f"
          },
          "geo": {
           "bgcolor": "white",
           "lakecolor": "white",
           "landcolor": "#E5ECF6",
           "showlakes": true,
           "showland": true,
           "subunitcolor": "white"
          },
          "hoverlabel": {
           "align": "left"
          },
          "hovermode": "closest",
          "mapbox": {
           "style": "light"
          },
          "paper_bgcolor": "white",
          "plot_bgcolor": "#E5ECF6",
          "polar": {
           "angularaxis": {
            "gridcolor": "white",
            "linecolor": "white",
            "ticks": ""
           },
           "bgcolor": "#E5ECF6",
           "radialaxis": {
            "gridcolor": "white",
            "linecolor": "white",
            "ticks": ""
           }
          },
          "scene": {
           "xaxis": {
            "backgroundcolor": "#E5ECF6",
            "gridcolor": "white",
            "gridwidth": 2,
            "linecolor": "white",
            "showbackground": true,
            "ticks": "",
            "zerolinecolor": "white"
           },
           "yaxis": {
            "backgroundcolor": "#E5ECF6",
            "gridcolor": "white",
            "gridwidth": 2,
            "linecolor": "white",
            "showbackground": true,
            "ticks": "",
            "zerolinecolor": "white"
           },
           "zaxis": {
            "backgroundcolor": "#E5ECF6",
            "gridcolor": "white",
            "gridwidth": 2,
            "linecolor": "white",
            "showbackground": true,
            "ticks": "",
            "zerolinecolor": "white"
           }
          },
          "shapedefaults": {
           "line": {
            "color": "#2a3f5f"
           }
          },
          "ternary": {
           "aaxis": {
            "gridcolor": "white",
            "linecolor": "white",
            "ticks": ""
           },
           "baxis": {
            "gridcolor": "white",
            "linecolor": "white",
            "ticks": ""
           },
           "bgcolor": "#E5ECF6",
           "caxis": {
            "gridcolor": "white",
            "linecolor": "white",
            "ticks": ""
           }
          },
          "title": {
           "x": 0.05
          },
          "xaxis": {
           "automargin": true,
           "gridcolor": "white",
           "linecolor": "white",
           "ticks": "",
           "title": {
            "standoff": 15
           },
           "zerolinecolor": "white",
           "zerolinewidth": 2
          },
          "yaxis": {
           "automargin": true,
           "gridcolor": "white",
           "linecolor": "white",
           "ticks": "",
           "title": {
            "standoff": 15
           },
           "zerolinecolor": "white",
           "zerolinewidth": 2
          }
         }
        },
        "title": {
         "text": "Top 3 Drivers – Race Pace Evolution with Pit Stop Strategy Overlay"
        },
        "width": 1200,
        "xaxis": {
         "title": {
          "text": "Lap Number"
         }
        },
        "yaxis": {
         "title": {
          "text": "Lap Time (s)"
         }
        }
       }
      }
     },
     "metadata": {},
     "output_type": "display_data"
    }
   ],
   "source": [
    "#Race Pace Evolution with Pit Stop Strategy Overlay for Podium Finishers\n",
    "\n",
    "# Prepare data\n",
    "finish_positions = laps.groupby('Driver', observed=True)['Position'].last()\n",
    "top3_finishers = finish_positions[finish_positions.between(1, 3)].sort_values()\n",
    "top3_laps = laps[laps['Driver'].isin(top3_finishers.index)].copy()\n",
    "top3_laps['FinishPosition'] = top3_laps['Driver'].map(finish_positions)\n",
    "top3_laps['PitStopText'] = np.where(top3_laps['PitInTime'].notnull(), 'Yes', 'No')\n",
    "\n",
    "# Calculate position changes\n",
    "start_positions = laps.groupby('Driver', observed=True)['Position'].first()\n",
    "top3_laps['StartPosition'] = top3_laps['Driver'].map(start_positions)\n",
    "\n",
    "# Ensure numeric types for subtraction\n",
    "top3_laps['StartPosition'] = pd.to_numeric(top3_laps['StartPosition'], errors='coerce')\n",
    "top3_laps['Position'] = pd.to_numeric(top3_laps['Position'], errors='coerce')\n",
    "\n",
    "# Now subtract safely\n",
    "top3_laps['PositionChange'] = top3_laps['StartPosition'] - top3_laps['Position']\n",
    "top3_laps['ChangeText'] = top3_laps['PositionChange'].apply(lambda x: f\"+{x}\" if x > 0 else (f\"{x}\" if x < 0 else \"0\"))\n",
    "\n",
    "# Define color/marker for podium positions\n",
    "podium_styles = {\n",
    "    1: dict(color='gold', symbol='circle'),\n",
    "    2: dict(color='silver', symbol='square'),\n",
    "    3: dict(color='peru', symbol='diamond')\n",
    "}\n",
    "\n",
    "# Create figure\n",
    "fig = go.Figure()\n",
    "\n",
    "# Race pace lines with podium styles\n",
    "for driver in top3_finishers.index:\n",
    "    driver_laps = top3_laps[top3_laps['Driver'] == driver]\n",
    "    pos = int(driver_laps['FinishPosition'].iloc[0])\n",
    "    style = podium_styles.get(pos, dict(color='blue', symbol='circle'))\n",
    "\n",
    "    fig.add_trace(go.Scatter(\n",
    "        x=driver_laps['LapNumber'],\n",
    "        y=driver_laps['LapSeconds'],\n",
    "        mode='lines+markers',\n",
    "        name=f\"{driver} (P{pos})\",\n",
    "        marker=dict(color=style['color'], symbol=style['symbol']),\n",
    "        line=dict(color=style['color']),\n",
    "        hovertemplate=(\n",
    "            \"Driver: %{customdata[0]}<br>\"\n",
    "            \"Team: %{customdata[1]}<br>\"\n",
    "            \"Lap: %{x}<br>\"\n",
    "            \"Lap Time: %{y:.2f}s<br>\"\n",
    "            \"Tyre: %{customdata[2]}<br>\"\n",
    "            \"Position: %{customdata[3]}<br>\"\n",
    "            \"Change: %{customdata[4]}<br>\"\n",
    "            \"Pit Stop: %{customdata[5]}\"\n",
    "        ),\n",
    "        customdata=np.stack([\n",
    "            driver_laps['Driver'],\n",
    "            driver_laps['Team'],\n",
    "            driver_laps['Compound'],\n",
    "            driver_laps['Position'],\n",
    "            driver_laps['ChangeText'],\n",
    "            driver_laps['PitStopText']\n",
    "        ], axis=-1)\n",
    "    ))\n",
    "\n",
    "# Pit stop markers\n",
    "pit_stops = top3_laps[top3_laps['PitInTime'].notnull()]\n",
    "fig.add_trace(go.Scatter(\n",
    "    x=pit_stops['LapNumber'],\n",
    "    y=pit_stops['LapSeconds'],\n",
    "    mode='markers',\n",
    "    name='Pit Stop',\n",
    "    marker=dict(symbol='x', size=10, color='black'),\n",
    "    hovertemplate=(\n",
    "        \"Pit Stop<br>\"\n",
    "        \"Driver: %{customdata[0]}<br>\"\n",
    "        \"Lap: %{x}<br>\"\n",
    "        \"Lap Time: %{y:.2f}s\"\n",
    "    ),\n",
    "    customdata=pit_stops[['Driver']]\n",
    "))\n",
    "\n",
    "# Layout adjustments\n",
    "fig.update_layout(\n",
    "    title='Top 3 Drivers – Race Pace Evolution with Pit Stop Strategy Overlay',\n",
    "    xaxis_title='Lap Number',\n",
    "    yaxis_title='Lap Time (s)',\n",
    "    legend_title='Driver (Finish Position)',\n",
    "    width=1200,\n",
    "    height=650,\n",
    "    hovermode='closest'\n",
    ")\n",
    "\n",
    "fig.show()"
   ]
  },
  {
   "cell_type": "code",
   "execution_count": null,
   "id": "6f5b6da1-4581-47e0-927c-e61b437e4598",
   "metadata": {},
   "outputs": [],
   "source": []
  }
 ],
 "metadata": {
  "kernelspec": {
   "display_name": "Python 3",
   "language": "python",
   "name": "python3"
  },
  "language_info": {
   "codemirror_mode": {
    "name": "ipython",
    "version": 3
   },
   "file_extension": ".py",
   "mimetype": "text/x-python",
   "name": "python",
   "nbconvert_exporter": "python",
   "pygments_lexer": "ipython3",
   "version": "3.13.2"
  }
 },
 "nbformat": 4,
 "nbformat_minor": 5
}
