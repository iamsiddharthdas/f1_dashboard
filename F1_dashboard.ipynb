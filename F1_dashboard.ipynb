{
 "cells": [
  {
   "cell_type": "code",
   "execution_count": null,
   "id": "9a04c878-d9ca-4b7e-ab68-b79396d89f23",
   "metadata": {},
   "outputs": [],
   "source": [
    "# F1 Telemetry Data Analysis\n",
    "\n",
    "import os\n",
    "import fastf1\n",
    "import fastf1.plotting\n",
    "import pandas as pd\n",
    "import numpy as np\n",
    "import plotly.express as px\n",
    "import plotly.graph_objects as go"
   ]
  },
  {
   "cell_type": "code",
   "execution_count": 16,
   "id": "13d1a6e5-df93-4513-9834-ec120a891dfd",
   "metadata": {},
   "outputs": [],
   "source": [
    "# Enable cache\n",
    "f1_cache = os.path.join(os.getcwd(), \"f1_cache\")\n",
    "\n",
    "if not os.path.exists(f1_cache):\n",
    "    os.makedirs(f1_cache, exist_ok=True)  # `exist_ok=True` prevents errors if it already exists\n",
    "\n",
    "fastf1.Cache.enable_cache('f1_cache')"
   ]
  },
  {
   "cell_type": "code",
   "execution_count": 17,
   "id": "0765bddb-01c5-45a0-94d4-22a25cfcaa80",
   "metadata": {},
   "outputs": [
    {
     "name": "stderr",
     "output_type": "stream",
     "text": [
      "core           INFO \tLoading data for Australian Grand Prix - Race [v3.3.6]\n",
      "req            INFO \tUsing cached data for session_info\n",
      "req            INFO \tUsing cached data for driver_info\n",
      "core        WARNING \tNo result data for this session available on Ergast! (This is expected for recent sessions)\n",
      "req            INFO \tUsing cached data for session_status_data\n",
      "req            INFO \tUsing cached data for lap_count\n",
      "req            INFO \tUsing cached data for track_status_data\n",
      "req            INFO \tUsing cached data for _extended_timing_data\n",
      "req            INFO \tUsing cached data for timing_app_data\n",
      "core           INFO \tProcessing timing data...\n",
      "core        WARNING \tCannot load lap times for first lap from Ergast. Timing data is not available for this session.\n",
      "req            INFO \tUsing cached data for car_data\n",
      "req            INFO \tUsing cached data for position_data\n",
      "req            INFO \tUsing cached data for weather_data\n",
      "req            INFO \tUsing cached data for race_control_messages\n",
      "core           INFO \tFinished loading data for 20 drivers: ['4', '81', '1', '63', '22', '23', '16', '44', '10', '55', '6', '14', '18', '7', '5', '12', '27', '30', '31', '87']\n"
     ]
    }
   ],
   "source": [
    "# Load Session Data\n",
    "try:\n",
    "    session = fastf1.get_session(2025, 'Melbourne', 'R')\n",
    "    session.load()\n",
    "except Exception as e:\n",
    "    print(\"Error loading session data:\", e)\n",
    "    exit()\n",
    "    \n",
    "# Get laps data\n",
    "laps = session.laps\n",
    "\n",
    "# Data Cleaning\n",
    "laps = laps[laps['LapTime'].notnull()].copy()  # Ensure a deep copy to avoid SettingWithCopyWarning\n",
    "laps.loc[:, 'LapSeconds'] = laps['LapTime'].dt.total_seconds()\n",
    "laps.loc[:, 'TyreLife'] = laps.groupby(['Driver', 'Compound'], observed=True).cumcount() + 1\n",
    "laps.loc[:, 'DriverTeam'] = laps['Driver'] + \" (\" + laps['Team'] + \")\"\n"
   ]
  },
  {
   "cell_type": "code",
   "execution_count": 18,
   "id": "623b2186-3de9-4ed7-9a7e-0252dbce16df",
   "metadata": {},
   "outputs": [
    {
     "data": {
      "application/vnd.plotly.v1+json": {
       "config": {
        "plotlyServerURL": "https://plot.ly"
       },
       "data": [
        {
         "alignmentgroup": "True",
         "box": {
          "visible": true
         },
         "customdata": [
          [
           "Red Bull Racing"
          ],
          [
           "Red Bull Racing"
          ],
          [
           "Red Bull Racing"
          ],
          [
           "Red Bull Racing"
          ],
          [
           "Red Bull Racing"
          ],
          [
           "Red Bull Racing"
          ],
          [
           "Red Bull Racing"
          ],
          [
           "Red Bull Racing"
          ],
          [
           "Red Bull Racing"
          ],
          [
           "Red Bull Racing"
          ],
          [
           "Red Bull Racing"
          ],
          [
           "Red Bull Racing"
          ],
          [
           "Red Bull Racing"
          ],
          [
           "Red Bull Racing"
          ],
          [
           "Red Bull Racing"
          ],
          [
           "Red Bull Racing"
          ],
          [
           "Red Bull Racing"
          ],
          [
           "Red Bull Racing"
          ],
          [
           "Red Bull Racing"
          ],
          [
           "Red Bull Racing"
          ],
          [
           "Red Bull Racing"
          ],
          [
           "Red Bull Racing"
          ],
          [
           "Red Bull Racing"
          ],
          [
           "Red Bull Racing"
          ],
          [
           "Red Bull Racing"
          ],
          [
           "Red Bull Racing"
          ],
          [
           "Red Bull Racing"
          ],
          [
           "Red Bull Racing"
          ],
          [
           "Red Bull Racing"
          ],
          [
           "Red Bull Racing"
          ],
          [
           "Red Bull Racing"
          ],
          [
           "Red Bull Racing"
          ],
          [
           "Red Bull Racing"
          ],
          [
           "Red Bull Racing"
          ],
          [
           "Red Bull Racing"
          ],
          [
           "Red Bull Racing"
          ],
          [
           "Red Bull Racing"
          ],
          [
           "Red Bull Racing"
          ],
          [
           "Red Bull Racing"
          ],
          [
           "Red Bull Racing"
          ],
          [
           "Red Bull Racing"
          ],
          [
           "Red Bull Racing"
          ],
          [
           "Red Bull Racing"
          ],
          [
           "Red Bull Racing"
          ],
          [
           "Red Bull Racing"
          ],
          [
           "Red Bull Racing"
          ],
          [
           "Red Bull Racing"
          ],
          [
           "Red Bull Racing"
          ],
          [
           "Red Bull Racing"
          ],
          [
           "Red Bull Racing"
          ],
          [
           "Red Bull Racing"
          ],
          [
           "Red Bull Racing"
          ],
          [
           "Red Bull Racing"
          ],
          [
           "Red Bull Racing"
          ],
          [
           "Red Bull Racing"
          ],
          [
           "Red Bull Racing"
          ],
          [
           "Red Bull Racing"
          ],
          [
           "Red Bull Racing"
          ],
          [
           "Red Bull Racing"
          ],
          [
           "Red Bull Racing"
          ],
          [
           "Red Bull Racing"
          ],
          [
           "Red Bull Racing"
          ],
          [
           "Red Bull Racing"
          ],
          [
           "Red Bull Racing"
          ],
          [
           "Red Bull Racing"
          ],
          [
           "Red Bull Racing"
          ],
          [
           "Red Bull Racing"
          ],
          [
           "Red Bull Racing"
          ],
          [
           "Red Bull Racing"
          ],
          [
           "Red Bull Racing"
          ],
          [
           "Red Bull Racing"
          ],
          [
           "Red Bull Racing"
          ],
          [
           "Red Bull Racing"
          ],
          [
           "Red Bull Racing"
          ],
          [
           "Red Bull Racing"
          ],
          [
           "Red Bull Racing"
          ],
          [
           "Red Bull Racing"
          ],
          [
           "Red Bull Racing"
          ],
          [
           "Red Bull Racing"
          ],
          [
           "Red Bull Racing"
          ],
          [
           "Red Bull Racing"
          ],
          [
           "Red Bull Racing"
          ],
          [
           "Red Bull Racing"
          ],
          [
           "Red Bull Racing"
          ],
          [
           "Red Bull Racing"
          ],
          [
           "Red Bull Racing"
          ],
          [
           "Red Bull Racing"
          ],
          [
           "Red Bull Racing"
          ],
          [
           "Red Bull Racing"
          ],
          [
           "Red Bull Racing"
          ],
          [
           "Red Bull Racing"
          ],
          [
           "Red Bull Racing"
          ],
          [
           "Red Bull Racing"
          ]
         ],
         "hovertemplate": "Team=%{customdata[0]}<br>Driver=%{x}<br>Speed Trap (km/h)=%{y}<extra></extra>",
         "legendgroup": "Red Bull Racing",
         "marker": {
          "color": "#636efa"
         },
         "name": "Red Bull Racing",
         "offsetgroup": "Red Bull Racing",
         "orientation": "v",
         "points": "all",
         "scalegroup": "True",
         "showlegend": true,
         "type": "violin",
         "x": [
          "VER",
          "VER",
          "VER",
          "VER",
          "VER",
          "VER",
          "VER",
          "VER",
          "VER",
          "VER",
          "VER",
          "VER",
          "VER",
          "VER",
          "VER",
          "VER",
          "VER",
          "VER",
          "VER",
          "VER",
          "VER",
          "VER",
          "VER",
          "VER",
          "VER",
          "VER",
          "VER",
          "VER",
          "VER",
          "VER",
          "VER",
          "VER",
          "VER",
          "VER",
          "VER",
          "VER",
          "VER",
          "VER",
          "VER",
          "VER",
          "VER",
          "VER",
          "VER",
          "VER",
          "VER",
          "VER",
          "VER",
          "VER",
          "VER",
          "VER",
          "VER",
          "VER",
          "LAW",
          "LAW",
          "LAW",
          "LAW",
          "LAW",
          "LAW",
          "LAW",
          "LAW",
          "LAW",
          "LAW",
          "LAW",
          "LAW",
          "LAW",
          "LAW",
          "LAW",
          "LAW",
          "LAW",
          "LAW",
          "LAW",
          "LAW",
          "LAW",
          "LAW",
          "LAW",
          "LAW",
          "LAW",
          "LAW",
          "LAW",
          "LAW",
          "LAW",
          "LAW",
          "LAW",
          "LAW",
          "LAW",
          "LAW",
          "LAW",
          "LAW",
          "LAW",
          "LAW",
          "LAW",
          "LAW",
          "LAW"
         ],
         "x0": " ",
         "xaxis": "x",
         "y": [
          194,
          127,
          208,
          245,
          258,
          263,
          272,
          274,
          281,
          282,
          287,
          297,
          285,
          271,
          273,
          275,
          272,
          279,
          276,
          275,
          278,
          286,
          283,
          286,
          289,
          292,
          288,
          287,
          288,
          null,
          177,
          247,
          248,
          201,
          245,
          200,
          282,
          297,
          298,
          277,
          266,
          224,
          192,
          181,
          127,
          135,
          244,
          273,
          null,
          284,
          280,
          293,
          148,
          185,
          196,
          230,
          235,
          276,
          269,
          261,
          276,
          258,
          null,
          262,
          266,
          272,
          260,
          283,
          267,
          274,
          267,
          279,
          285,
          279,
          276,
          277,
          null,
          286,
          276,
          235,
          277,
          155,
          213,
          228,
          173,
          220,
          266,
          295,
          296,
          295,
          305,
          289,
          263
         ],
         "y0": " ",
         "yaxis": "y"
        },
        {
         "alignmentgroup": "True",
         "box": {
          "visible": true
         },
         "customdata": [
          [
           "Alpine"
          ],
          [
           "Alpine"
          ],
          [
           "Alpine"
          ],
          [
           "Alpine"
          ],
          [
           "Alpine"
          ],
          [
           "Alpine"
          ],
          [
           "Alpine"
          ],
          [
           "Alpine"
          ],
          [
           "Alpine"
          ],
          [
           "Alpine"
          ],
          [
           "Alpine"
          ],
          [
           "Alpine"
          ],
          [
           "Alpine"
          ],
          [
           "Alpine"
          ],
          [
           "Alpine"
          ],
          [
           "Alpine"
          ],
          [
           "Alpine"
          ],
          [
           "Alpine"
          ],
          [
           "Alpine"
          ],
          [
           "Alpine"
          ],
          [
           "Alpine"
          ],
          [
           "Alpine"
          ],
          [
           "Alpine"
          ],
          [
           "Alpine"
          ],
          [
           "Alpine"
          ],
          [
           "Alpine"
          ],
          [
           "Alpine"
          ],
          [
           "Alpine"
          ],
          [
           "Alpine"
          ],
          [
           "Alpine"
          ],
          [
           "Alpine"
          ],
          [
           "Alpine"
          ],
          [
           "Alpine"
          ],
          [
           "Alpine"
          ],
          [
           "Alpine"
          ],
          [
           "Alpine"
          ],
          [
           "Alpine"
          ],
          [
           "Alpine"
          ],
          [
           "Alpine"
          ],
          [
           "Alpine"
          ],
          [
           "Alpine"
          ],
          [
           "Alpine"
          ],
          [
           "Alpine"
          ],
          [
           "Alpine"
          ],
          [
           "Alpine"
          ],
          [
           "Alpine"
          ],
          [
           "Alpine"
          ],
          [
           "Alpine"
          ],
          [
           "Alpine"
          ],
          [
           "Alpine"
          ],
          [
           "Alpine"
          ],
          [
           "Alpine"
          ],
          [
           "Alpine"
          ]
         ],
         "hovertemplate": "Team=%{customdata[0]}<br>Driver=%{x}<br>Speed Trap (km/h)=%{y}<extra></extra>",
         "legendgroup": "Alpine",
         "marker": {
          "color": "#EF553B"
         },
         "name": "Alpine",
         "offsetgroup": "Alpine",
         "orientation": "v",
         "points": "all",
         "scalegroup": "True",
         "showlegend": true,
         "type": "violin",
         "x": [
          "GAS",
          "GAS",
          "GAS",
          "GAS",
          "GAS",
          "GAS",
          "GAS",
          "GAS",
          "GAS",
          "GAS",
          "GAS",
          "GAS",
          "GAS",
          "GAS",
          "GAS",
          "GAS",
          "GAS",
          "GAS",
          "GAS",
          "GAS",
          "GAS",
          "GAS",
          "GAS",
          "GAS",
          "GAS",
          "GAS",
          "GAS",
          "GAS",
          "GAS",
          "GAS",
          "GAS",
          "GAS",
          "GAS",
          "GAS",
          "GAS",
          "GAS",
          "GAS",
          "GAS",
          "GAS",
          "GAS",
          "GAS",
          "GAS",
          "GAS",
          "GAS",
          "GAS",
          "GAS",
          "GAS",
          "GAS",
          "GAS",
          "GAS",
          "GAS",
          "GAS",
          "GAS"
         ],
         "x0": " ",
         "xaxis": "x",
         "y": [
          204,
          222,
          223,
          232,
          241,
          255,
          261,
          262,
          273,
          274,
          271,
          270,
          null,
          269,
          268,
          275,
          269,
          280,
          272,
          null,
          275,
          282,
          279,
          277,
          284,
          282,
          283,
          280,
          284,
          162,
          237,
          280,
          270,
          258,
          null,
          262,
          201,
          284,
          294,
          296,
          287,
          262,
          221,
          185,
          204,
          223,
          138,
          233,
          258,
          277,
          269,
          265,
          269
         ],
         "y0": " ",
         "yaxis": "y"
        },
        {
         "alignmentgroup": "True",
         "box": {
          "visible": true
         },
         "customdata": [
          [
           "Mercedes"
          ],
          [
           "Mercedes"
          ],
          [
           "Mercedes"
          ],
          [
           "Mercedes"
          ],
          [
           "Mercedes"
          ],
          [
           "Mercedes"
          ],
          [
           "Mercedes"
          ],
          [
           "Mercedes"
          ],
          [
           "Mercedes"
          ],
          [
           "Mercedes"
          ],
          [
           "Mercedes"
          ],
          [
           "Mercedes"
          ],
          [
           "Mercedes"
          ],
          [
           "Mercedes"
          ],
          [
           "Mercedes"
          ],
          [
           "Mercedes"
          ],
          [
           "Mercedes"
          ],
          [
           "Mercedes"
          ],
          [
           "Mercedes"
          ],
          [
           "Mercedes"
          ],
          [
           "Mercedes"
          ],
          [
           "Mercedes"
          ],
          [
           "Mercedes"
          ],
          [
           "Mercedes"
          ],
          [
           "Mercedes"
          ],
          [
           "Mercedes"
          ],
          [
           "Mercedes"
          ],
          [
           "Mercedes"
          ],
          [
           "Mercedes"
          ],
          [
           "Mercedes"
          ],
          [
           "Mercedes"
          ],
          [
           "Mercedes"
          ],
          [
           "Mercedes"
          ],
          [
           "Mercedes"
          ],
          [
           "Mercedes"
          ],
          [
           "Mercedes"
          ],
          [
           "Mercedes"
          ],
          [
           "Mercedes"
          ],
          [
           "Mercedes"
          ],
          [
           "Mercedes"
          ],
          [
           "Mercedes"
          ],
          [
           "Mercedes"
          ],
          [
           "Mercedes"
          ],
          [
           "Mercedes"
          ],
          [
           "Mercedes"
          ],
          [
           "Mercedes"
          ],
          [
           "Mercedes"
          ],
          [
           "Mercedes"
          ],
          [
           "Mercedes"
          ],
          [
           "Mercedes"
          ],
          [
           "Mercedes"
          ],
          [
           "Mercedes"
          ],
          [
           "Mercedes"
          ],
          [
           "Mercedes"
          ],
          [
           "Mercedes"
          ],
          [
           "Mercedes"
          ],
          [
           "Mercedes"
          ],
          [
           "Mercedes"
          ],
          [
           "Mercedes"
          ],
          [
           "Mercedes"
          ],
          [
           "Mercedes"
          ],
          [
           "Mercedes"
          ],
          [
           "Mercedes"
          ],
          [
           "Mercedes"
          ],
          [
           "Mercedes"
          ],
          [
           "Mercedes"
          ],
          [
           "Mercedes"
          ],
          [
           "Mercedes"
          ],
          [
           "Mercedes"
          ],
          [
           "Mercedes"
          ],
          [
           "Mercedes"
          ],
          [
           "Mercedes"
          ],
          [
           "Mercedes"
          ],
          [
           "Mercedes"
          ],
          [
           "Mercedes"
          ],
          [
           "Mercedes"
          ],
          [
           "Mercedes"
          ],
          [
           "Mercedes"
          ],
          [
           "Mercedes"
          ],
          [
           "Mercedes"
          ],
          [
           "Mercedes"
          ],
          [
           "Mercedes"
          ],
          [
           "Mercedes"
          ],
          [
           "Mercedes"
          ],
          [
           "Mercedes"
          ],
          [
           "Mercedes"
          ],
          [
           "Mercedes"
          ],
          [
           "Mercedes"
          ],
          [
           "Mercedes"
          ],
          [
           "Mercedes"
          ],
          [
           "Mercedes"
          ],
          [
           "Mercedes"
          ],
          [
           "Mercedes"
          ],
          [
           "Mercedes"
          ],
          [
           "Mercedes"
          ],
          [
           "Mercedes"
          ],
          [
           "Mercedes"
          ],
          [
           "Mercedes"
          ],
          [
           "Mercedes"
          ],
          [
           "Mercedes"
          ],
          [
           "Mercedes"
          ],
          [
           "Mercedes"
          ],
          [
           "Mercedes"
          ],
          [
           "Mercedes"
          ],
          [
           "Mercedes"
          ]
         ],
         "hovertemplate": "Team=%{customdata[0]}<br>Driver=%{x}<br>Speed Trap (km/h)=%{y}<extra></extra>",
         "legendgroup": "Mercedes",
         "marker": {
          "color": "#00cc96"
         },
         "name": "Mercedes",
         "offsetgroup": "Mercedes",
         "orientation": "v",
         "points": "all",
         "scalegroup": "True",
         "showlegend": true,
         "type": "violin",
         "x": [
          "ANT",
          "ANT",
          "ANT",
          "ANT",
          "ANT",
          "ANT",
          "ANT",
          "ANT",
          "ANT",
          "ANT",
          "ANT",
          "ANT",
          "ANT",
          "ANT",
          "ANT",
          "ANT",
          "ANT",
          "ANT",
          "ANT",
          "ANT",
          "ANT",
          "ANT",
          "ANT",
          "ANT",
          "ANT",
          "ANT",
          "ANT",
          "ANT",
          "ANT",
          "ANT",
          "ANT",
          "ANT",
          "ANT",
          "ANT",
          "ANT",
          "ANT",
          "ANT",
          "ANT",
          "ANT",
          "ANT",
          "ANT",
          "ANT",
          "ANT",
          "ANT",
          "ANT",
          "ANT",
          "ANT",
          "ANT",
          "ANT",
          "ANT",
          "ANT",
          "ANT",
          "ANT",
          "RUS",
          "RUS",
          "RUS",
          "RUS",
          "RUS",
          "RUS",
          "RUS",
          "RUS",
          "RUS",
          "RUS",
          "RUS",
          "RUS",
          "RUS",
          "RUS",
          "RUS",
          "RUS",
          "RUS",
          "RUS",
          "RUS",
          "RUS",
          "RUS",
          "RUS",
          "RUS",
          "RUS",
          "RUS",
          "RUS",
          "RUS",
          "RUS",
          "RUS",
          "RUS",
          "RUS",
          "RUS",
          "RUS",
          "RUS",
          "RUS",
          "RUS",
          "RUS",
          "RUS",
          "RUS",
          "RUS",
          "RUS",
          "RUS",
          "RUS",
          "RUS",
          "RUS",
          "RUS",
          "RUS",
          "RUS",
          "RUS",
          "RUS",
          "RUS",
          "RUS"
         ],
         "x0": " ",
         "xaxis": "x",
         "y": [
          187,
          201,
          204,
          240,
          258,
          271,
          264,
          270,
          261,
          268,
          290,
          294,
          277,
          291,
          283,
          289,
          284,
          290,
          287,
          293,
          299,
          292,
          293,
          296,
          297,
          288,
          289,
          291,
          290,
          175,
          263,
          277,
          272,
          250,
          256,
          267,
          208,
          295,
          297,
          292,
          223,
          288,
          260,
          199,
          115,
          171,
          148,
          253,
          280,
          289,
          286,
          293,
          291,
          185,
          114,
          234,
          251,
          269,
          276,
          281,
          278,
          286,
          284,
          281,
          288,
          284,
          279,
          277,
          281,
          276,
          277,
          288,
          279,
          291,
          286,
          283,
          287,
          292,
          284,
          290,
          292,
          283,
          121,
          159,
          255,
          231,
          209,
          239,
          156,
          289,
          298,
          304,
          224,
          292,
          276,
          163,
          128,
          120,
          162,
          242,
          272,
          284,
          292,
          278,
          289
         ],
         "y0": " ",
         "yaxis": "y"
        },
        {
         "alignmentgroup": "True",
         "box": {
          "visible": true
         },
         "customdata": [
          [
           "Aston Martin"
          ],
          [
           "Aston Martin"
          ],
          [
           "Aston Martin"
          ],
          [
           "Aston Martin"
          ],
          [
           "Aston Martin"
          ],
          [
           "Aston Martin"
          ],
          [
           "Aston Martin"
          ],
          [
           "Aston Martin"
          ],
          [
           "Aston Martin"
          ],
          [
           "Aston Martin"
          ],
          [
           "Aston Martin"
          ],
          [
           "Aston Martin"
          ],
          [
           "Aston Martin"
          ],
          [
           "Aston Martin"
          ],
          [
           "Aston Martin"
          ],
          [
           "Aston Martin"
          ],
          [
           "Aston Martin"
          ],
          [
           "Aston Martin"
          ],
          [
           "Aston Martin"
          ],
          [
           "Aston Martin"
          ],
          [
           "Aston Martin"
          ],
          [
           "Aston Martin"
          ],
          [
           "Aston Martin"
          ],
          [
           "Aston Martin"
          ],
          [
           "Aston Martin"
          ],
          [
           "Aston Martin"
          ],
          [
           "Aston Martin"
          ],
          [
           "Aston Martin"
          ],
          [
           "Aston Martin"
          ],
          [
           "Aston Martin"
          ],
          [
           "Aston Martin"
          ],
          [
           "Aston Martin"
          ],
          [
           "Aston Martin"
          ],
          [
           "Aston Martin"
          ],
          [
           "Aston Martin"
          ],
          [
           "Aston Martin"
          ],
          [
           "Aston Martin"
          ],
          [
           "Aston Martin"
          ],
          [
           "Aston Martin"
          ],
          [
           "Aston Martin"
          ],
          [
           "Aston Martin"
          ],
          [
           "Aston Martin"
          ],
          [
           "Aston Martin"
          ],
          [
           "Aston Martin"
          ],
          [
           "Aston Martin"
          ],
          [
           "Aston Martin"
          ],
          [
           "Aston Martin"
          ],
          [
           "Aston Martin"
          ],
          [
           "Aston Martin"
          ],
          [
           "Aston Martin"
          ],
          [
           "Aston Martin"
          ],
          [
           "Aston Martin"
          ],
          [
           "Aston Martin"
          ],
          [
           "Aston Martin"
          ],
          [
           "Aston Martin"
          ],
          [
           "Aston Martin"
          ],
          [
           "Aston Martin"
          ],
          [
           "Aston Martin"
          ],
          [
           "Aston Martin"
          ],
          [
           "Aston Martin"
          ],
          [
           "Aston Martin"
          ],
          [
           "Aston Martin"
          ],
          [
           "Aston Martin"
          ],
          [
           "Aston Martin"
          ],
          [
           "Aston Martin"
          ],
          [
           "Aston Martin"
          ],
          [
           "Aston Martin"
          ],
          [
           "Aston Martin"
          ],
          [
           "Aston Martin"
          ],
          [
           "Aston Martin"
          ],
          [
           "Aston Martin"
          ],
          [
           "Aston Martin"
          ],
          [
           "Aston Martin"
          ],
          [
           "Aston Martin"
          ],
          [
           "Aston Martin"
          ],
          [
           "Aston Martin"
          ],
          [
           "Aston Martin"
          ],
          [
           "Aston Martin"
          ],
          [
           "Aston Martin"
          ],
          [
           "Aston Martin"
          ],
          [
           "Aston Martin"
          ]
         ],
         "hovertemplate": "Team=%{customdata[0]}<br>Driver=%{x}<br>Speed Trap (km/h)=%{y}<extra></extra>",
         "legendgroup": "Aston Martin",
         "marker": {
          "color": "#ab63fa"
         },
         "name": "Aston Martin",
         "offsetgroup": "Aston Martin",
         "orientation": "v",
         "points": "all",
         "scalegroup": "True",
         "showlegend": true,
         "type": "violin",
         "x": [
          "ALO",
          "ALO",
          "ALO",
          "ALO",
          "ALO",
          "ALO",
          "ALO",
          "ALO",
          "ALO",
          "ALO",
          "ALO",
          "ALO",
          "ALO",
          "ALO",
          "ALO",
          "ALO",
          "ALO",
          "ALO",
          "ALO",
          "ALO",
          "ALO",
          "ALO",
          "ALO",
          "ALO",
          "ALO",
          "ALO",
          "ALO",
          "ALO",
          "STR",
          "STR",
          "STR",
          "STR",
          "STR",
          "STR",
          "STR",
          "STR",
          "STR",
          "STR",
          "STR",
          "STR",
          "STR",
          "STR",
          "STR",
          "STR",
          "STR",
          "STR",
          "STR",
          "STR",
          "STR",
          "STR",
          "STR",
          "STR",
          "STR",
          "STR",
          "STR",
          "STR",
          "STR",
          "STR",
          "STR",
          "STR",
          "STR",
          "STR",
          "STR",
          "STR",
          "STR",
          "STR",
          "STR",
          "STR",
          "STR",
          "STR",
          "STR",
          "STR",
          "STR",
          "STR",
          "STR",
          "STR",
          "STR",
          "STR",
          "STR",
          "STR",
          "STR"
         ],
         "x0": " ",
         "xaxis": "x",
         "y": [
          185,
          null,
          203,
          225,
          232,
          254,
          244,
          263,
          261,
          272,
          275,
          258,
          259,
          null,
          254,
          269,
          263,
          280,
          null,
          278,
          282,
          288,
          277,
          291,
          296,
          289,
          290,
          294,
          166,
          199,
          213,
          233,
          251,
          264,
          266,
          278,
          275,
          273,
          272,
          275,
          null,
          260,
          275,
          282,
          null,
          284,
          275,
          281,
          285,
          284,
          289,
          293,
          288,
          289,
          283,
          288,
          284,
          162,
          219,
          262,
          285,
          250,
          242,
          274,
          273,
          291,
          301,
          300,
          222,
          292,
          229,
          172,
          145,
          170,
          173,
          257,
          274,
          289,
          296,
          285,
          288
         ],
         "y0": " ",
         "yaxis": "y"
        },
        {
         "alignmentgroup": "True",
         "box": {
          "visible": true
         },
         "customdata": [
          [
           "Ferrari"
          ],
          [
           "Ferrari"
          ],
          [
           "Ferrari"
          ],
          [
           "Ferrari"
          ],
          [
           "Ferrari"
          ],
          [
           "Ferrari"
          ],
          [
           "Ferrari"
          ],
          [
           "Ferrari"
          ],
          [
           "Ferrari"
          ],
          [
           "Ferrari"
          ],
          [
           "Ferrari"
          ],
          [
           "Ferrari"
          ],
          [
           "Ferrari"
          ],
          [
           "Ferrari"
          ],
          [
           "Ferrari"
          ],
          [
           "Ferrari"
          ],
          [
           "Ferrari"
          ],
          [
           "Ferrari"
          ],
          [
           "Ferrari"
          ],
          [
           "Ferrari"
          ],
          [
           "Ferrari"
          ],
          [
           "Ferrari"
          ],
          [
           "Ferrari"
          ],
          [
           "Ferrari"
          ],
          [
           "Ferrari"
          ],
          [
           "Ferrari"
          ],
          [
           "Ferrari"
          ],
          [
           "Ferrari"
          ],
          [
           "Ferrari"
          ],
          [
           "Ferrari"
          ],
          [
           "Ferrari"
          ],
          [
           "Ferrari"
          ],
          [
           "Ferrari"
          ],
          [
           "Ferrari"
          ],
          [
           "Ferrari"
          ],
          [
           "Ferrari"
          ],
          [
           "Ferrari"
          ],
          [
           "Ferrari"
          ],
          [
           "Ferrari"
          ],
          [
           "Ferrari"
          ],
          [
           "Ferrari"
          ],
          [
           "Ferrari"
          ],
          [
           "Ferrari"
          ],
          [
           "Ferrari"
          ],
          [
           "Ferrari"
          ],
          [
           "Ferrari"
          ],
          [
           "Ferrari"
          ],
          [
           "Ferrari"
          ],
          [
           "Ferrari"
          ],
          [
           "Ferrari"
          ],
          [
           "Ferrari"
          ],
          [
           "Ferrari"
          ],
          [
           "Ferrari"
          ],
          [
           "Ferrari"
          ],
          [
           "Ferrari"
          ],
          [
           "Ferrari"
          ],
          [
           "Ferrari"
          ],
          [
           "Ferrari"
          ],
          [
           "Ferrari"
          ],
          [
           "Ferrari"
          ],
          [
           "Ferrari"
          ],
          [
           "Ferrari"
          ],
          [
           "Ferrari"
          ],
          [
           "Ferrari"
          ],
          [
           "Ferrari"
          ],
          [
           "Ferrari"
          ],
          [
           "Ferrari"
          ],
          [
           "Ferrari"
          ],
          [
           "Ferrari"
          ],
          [
           "Ferrari"
          ],
          [
           "Ferrari"
          ],
          [
           "Ferrari"
          ],
          [
           "Ferrari"
          ],
          [
           "Ferrari"
          ],
          [
           "Ferrari"
          ],
          [
           "Ferrari"
          ],
          [
           "Ferrari"
          ],
          [
           "Ferrari"
          ],
          [
           "Ferrari"
          ],
          [
           "Ferrari"
          ],
          [
           "Ferrari"
          ],
          [
           "Ferrari"
          ],
          [
           "Ferrari"
          ],
          [
           "Ferrari"
          ],
          [
           "Ferrari"
          ],
          [
           "Ferrari"
          ],
          [
           "Ferrari"
          ],
          [
           "Ferrari"
          ],
          [
           "Ferrari"
          ],
          [
           "Ferrari"
          ],
          [
           "Ferrari"
          ],
          [
           "Ferrari"
          ],
          [
           "Ferrari"
          ],
          [
           "Ferrari"
          ],
          [
           "Ferrari"
          ],
          [
           "Ferrari"
          ],
          [
           "Ferrari"
          ],
          [
           "Ferrari"
          ],
          [
           "Ferrari"
          ],
          [
           "Ferrari"
          ],
          [
           "Ferrari"
          ],
          [
           "Ferrari"
          ],
          [
           "Ferrari"
          ],
          [
           "Ferrari"
          ]
         ],
         "hovertemplate": "Team=%{customdata[0]}<br>Driver=%{x}<br>Speed Trap (km/h)=%{y}<extra></extra>",
         "legendgroup": "Ferrari",
         "marker": {
          "color": "#FFA15A"
         },
         "name": "Ferrari",
         "offsetgroup": "Ferrari",
         "orientation": "v",
         "points": "all",
         "scalegroup": "True",
         "showlegend": true,
         "type": "violin",
         "x": [
          "LEC",
          "LEC",
          "LEC",
          "LEC",
          "LEC",
          "LEC",
          "LEC",
          "LEC",
          "LEC",
          "LEC",
          "LEC",
          "LEC",
          "LEC",
          "LEC",
          "LEC",
          "LEC",
          "LEC",
          "LEC",
          "LEC",
          "LEC",
          "LEC",
          "LEC",
          "LEC",
          "LEC",
          "LEC",
          "LEC",
          "LEC",
          "LEC",
          "LEC",
          "LEC",
          "LEC",
          "LEC",
          "LEC",
          "LEC",
          "LEC",
          "LEC",
          "LEC",
          "LEC",
          "LEC",
          "LEC",
          "LEC",
          "LEC",
          "LEC",
          "LEC",
          "LEC",
          "LEC",
          "LEC",
          "LEC",
          "LEC",
          "LEC",
          "LEC",
          "LEC",
          "HAM",
          "HAM",
          "HAM",
          "HAM",
          "HAM",
          "HAM",
          "HAM",
          "HAM",
          "HAM",
          "HAM",
          "HAM",
          "HAM",
          "HAM",
          "HAM",
          "HAM",
          "HAM",
          "HAM",
          "HAM",
          "HAM",
          "HAM",
          "HAM",
          "HAM",
          "HAM",
          "HAM",
          "HAM",
          "HAM",
          "HAM",
          "HAM",
          "HAM",
          "HAM",
          "HAM",
          "HAM",
          "HAM",
          "HAM",
          "HAM",
          "HAM",
          "HAM",
          "HAM",
          "HAM",
          "HAM",
          "HAM",
          "HAM",
          "HAM",
          "HAM",
          "HAM",
          "HAM",
          "HAM",
          "HAM",
          "HAM",
          "HAM",
          "HAM",
          "HAM"
         ],
         "x0": " ",
         "xaxis": "x",
         "y": [
          197,
          159,
          230,
          243,
          263,
          260,
          263,
          268,
          274,
          279,
          285,
          288,
          286,
          282,
          285,
          284,
          null,
          285,
          290,
          287,
          null,
          288,
          291,
          288,
          291,
          293,
          292,
          293,
          287,
          197,
          180,
          265,
          269,
          241,
          251,
          225,
          238,
          286,
          295,
          291,
          280,
          256,
          208,
          168,
          188,
          218,
          239,
          261,
          272,
          285,
          277,
          290,
          181,
          196,
          212,
          230,
          240,
          246,
          258,
          266,
          258,
          268,
          270,
          269,
          272,
          267,
          273,
          272,
          281,
          null,
          289,
          283,
          284,
          286,
          296,
          293,
          297,
          291,
          295,
          289,
          292,
          142,
          249,
          268,
          269,
          249,
          241,
          238,
          241,
          268,
          293,
          312,
          268,
          276,
          190,
          182,
          225,
          178,
          239,
          269,
          272,
          277,
          280,
          283
         ],
         "y0": " ",
         "yaxis": "y"
        },
        {
         "alignmentgroup": "True",
         "box": {
          "visible": true
         },
         "customdata": [
          [
           "Racing Bulls"
          ],
          [
           "Racing Bulls"
          ],
          [
           "Racing Bulls"
          ],
          [
           "Racing Bulls"
          ],
          [
           "Racing Bulls"
          ],
          [
           "Racing Bulls"
          ],
          [
           "Racing Bulls"
          ],
          [
           "Racing Bulls"
          ],
          [
           "Racing Bulls"
          ],
          [
           "Racing Bulls"
          ],
          [
           "Racing Bulls"
          ],
          [
           "Racing Bulls"
          ],
          [
           "Racing Bulls"
          ],
          [
           "Racing Bulls"
          ],
          [
           "Racing Bulls"
          ],
          [
           "Racing Bulls"
          ],
          [
           "Racing Bulls"
          ],
          [
           "Racing Bulls"
          ],
          [
           "Racing Bulls"
          ],
          [
           "Racing Bulls"
          ],
          [
           "Racing Bulls"
          ],
          [
           "Racing Bulls"
          ],
          [
           "Racing Bulls"
          ],
          [
           "Racing Bulls"
          ],
          [
           "Racing Bulls"
          ],
          [
           "Racing Bulls"
          ],
          [
           "Racing Bulls"
          ],
          [
           "Racing Bulls"
          ],
          [
           "Racing Bulls"
          ],
          [
           "Racing Bulls"
          ],
          [
           "Racing Bulls"
          ],
          [
           "Racing Bulls"
          ],
          [
           "Racing Bulls"
          ],
          [
           "Racing Bulls"
          ],
          [
           "Racing Bulls"
          ],
          [
           "Racing Bulls"
          ],
          [
           "Racing Bulls"
          ],
          [
           "Racing Bulls"
          ],
          [
           "Racing Bulls"
          ],
          [
           "Racing Bulls"
          ],
          [
           "Racing Bulls"
          ],
          [
           "Racing Bulls"
          ],
          [
           "Racing Bulls"
          ],
          [
           "Racing Bulls"
          ],
          [
           "Racing Bulls"
          ],
          [
           "Racing Bulls"
          ],
          [
           "Racing Bulls"
          ],
          [
           "Racing Bulls"
          ],
          [
           "Racing Bulls"
          ],
          [
           "Racing Bulls"
          ],
          [
           "Racing Bulls"
          ],
          [
           "Racing Bulls"
          ]
         ],
         "hovertemplate": "Team=%{customdata[0]}<br>Driver=%{x}<br>Speed Trap (km/h)=%{y}<extra></extra>",
         "legendgroup": "Racing Bulls",
         "marker": {
          "color": "#19d3f3"
         },
         "name": "Racing Bulls",
         "offsetgroup": "Racing Bulls",
         "orientation": "v",
         "points": "all",
         "scalegroup": "True",
         "showlegend": true,
         "type": "violin",
         "x": [
          "TSU",
          "TSU",
          "TSU",
          "TSU",
          "TSU",
          "TSU",
          "TSU",
          "TSU",
          "TSU",
          "TSU",
          "TSU",
          "TSU",
          "TSU",
          "TSU",
          "TSU",
          "TSU",
          "TSU",
          "TSU",
          "TSU",
          "TSU",
          "TSU",
          "TSU",
          "TSU",
          "TSU",
          "TSU",
          "TSU",
          "TSU",
          "TSU",
          "TSU",
          "TSU",
          "TSU",
          "TSU",
          "TSU",
          "TSU",
          "TSU",
          "TSU",
          "TSU",
          "TSU",
          "TSU",
          "TSU",
          "TSU",
          "TSU",
          "TSU",
          "TSU",
          "TSU",
          "TSU",
          "TSU",
          "TSU",
          "TSU",
          "TSU",
          "TSU",
          "TSU"
         ],
         "x0": " ",
         "xaxis": "x",
         "y": [
          187,
          149,
          214,
          227,
          254,
          253,
          257,
          263,
          262,
          278,
          260,
          271,
          279,
          259,
          243,
          256,
          266,
          267,
          273,
          272,
          278,
          274,
          280,
          277,
          284,
          282,
          283,
          281,
          null,
          119,
          213,
          249,
          271,
          212,
          238,
          242,
          257,
          273,
          304,
          299,
          270,
          256,
          183,
          165,
          187,
          211,
          225,
          255,
          258,
          261,
          272,
          282
         ],
         "y0": " ",
         "yaxis": "y"
        },
        {
         "alignmentgroup": "True",
         "box": {
          "visible": true
         },
         "customdata": [
          [
           "Williams"
          ],
          [
           "Williams"
          ],
          [
           "Williams"
          ],
          [
           "Williams"
          ],
          [
           "Williams"
          ],
          [
           "Williams"
          ],
          [
           "Williams"
          ],
          [
           "Williams"
          ],
          [
           "Williams"
          ],
          [
           "Williams"
          ],
          [
           "Williams"
          ],
          [
           "Williams"
          ],
          [
           "Williams"
          ],
          [
           "Williams"
          ],
          [
           "Williams"
          ],
          [
           "Williams"
          ],
          [
           "Williams"
          ],
          [
           "Williams"
          ],
          [
           "Williams"
          ],
          [
           "Williams"
          ],
          [
           "Williams"
          ],
          [
           "Williams"
          ],
          [
           "Williams"
          ],
          [
           "Williams"
          ],
          [
           "Williams"
          ],
          [
           "Williams"
          ],
          [
           "Williams"
          ],
          [
           "Williams"
          ],
          [
           "Williams"
          ],
          [
           "Williams"
          ],
          [
           "Williams"
          ],
          [
           "Williams"
          ],
          [
           "Williams"
          ],
          [
           "Williams"
          ],
          [
           "Williams"
          ],
          [
           "Williams"
          ],
          [
           "Williams"
          ],
          [
           "Williams"
          ],
          [
           "Williams"
          ],
          [
           "Williams"
          ],
          [
           "Williams"
          ],
          [
           "Williams"
          ],
          [
           "Williams"
          ],
          [
           "Williams"
          ],
          [
           "Williams"
          ],
          [
           "Williams"
          ],
          [
           "Williams"
          ],
          [
           "Williams"
          ],
          [
           "Williams"
          ],
          [
           "Williams"
          ],
          [
           "Williams"
          ],
          [
           "Williams"
          ],
          [
           "Williams"
          ]
         ],
         "hovertemplate": "Team=%{customdata[0]}<br>Driver=%{x}<br>Speed Trap (km/h)=%{y}<extra></extra>",
         "legendgroup": "Williams",
         "marker": {
          "color": "#FF6692"
         },
         "name": "Williams",
         "offsetgroup": "Williams",
         "orientation": "v",
         "points": "all",
         "scalegroup": "True",
         "showlegend": true,
         "type": "violin",
         "x": [
          "ALB",
          "ALB",
          "ALB",
          "ALB",
          "ALB",
          "ALB",
          "ALB",
          "ALB",
          "ALB",
          "ALB",
          "ALB",
          "ALB",
          "ALB",
          "ALB",
          "ALB",
          "ALB",
          "ALB",
          "ALB",
          "ALB",
          "ALB",
          "ALB",
          "ALB",
          "ALB",
          "ALB",
          "ALB",
          "ALB",
          "ALB",
          "ALB",
          "ALB",
          "ALB",
          "ALB",
          "ALB",
          "ALB",
          "ALB",
          "ALB",
          "ALB",
          "ALB",
          "ALB",
          "ALB",
          "ALB",
          "ALB",
          "ALB",
          "ALB",
          "ALB",
          "ALB",
          "ALB",
          "ALB",
          "ALB",
          "ALB",
          "ALB",
          "ALB",
          "ALB",
          "ALB"
         ],
         "x0": " ",
         "xaxis": "x",
         "y": [
          190,
          213,
          229,
          null,
          234,
          null,
          252,
          255,
          256,
          257,
          259,
          267,
          259,
          252,
          255,
          259,
          272,
          278,
          279,
          281,
          272,
          null,
          275,
          283,
          280,
          278,
          291,
          290,
          280,
          116,
          217,
          227,
          250,
          193,
          218,
          197,
          196,
          268,
          287,
          290,
          219,
          272,
          245,
          198,
          129,
          137,
          147,
          240,
          260,
          261,
          270,
          267,
          264
         ],
         "y0": " ",
         "yaxis": "y"
        },
        {
         "alignmentgroup": "True",
         "box": {
          "visible": true
         },
         "customdata": [
          [
           "Kick Sauber"
          ],
          [
           "Kick Sauber"
          ],
          [
           "Kick Sauber"
          ],
          [
           "Kick Sauber"
          ],
          [
           "Kick Sauber"
          ],
          [
           "Kick Sauber"
          ],
          [
           "Kick Sauber"
          ],
          [
           "Kick Sauber"
          ],
          [
           "Kick Sauber"
          ],
          [
           "Kick Sauber"
          ],
          [
           "Kick Sauber"
          ],
          [
           "Kick Sauber"
          ],
          [
           "Kick Sauber"
          ],
          [
           "Kick Sauber"
          ],
          [
           "Kick Sauber"
          ],
          [
           "Kick Sauber"
          ],
          [
           "Kick Sauber"
          ],
          [
           "Kick Sauber"
          ],
          [
           "Kick Sauber"
          ],
          [
           "Kick Sauber"
          ],
          [
           "Kick Sauber"
          ],
          [
           "Kick Sauber"
          ],
          [
           "Kick Sauber"
          ],
          [
           "Kick Sauber"
          ],
          [
           "Kick Sauber"
          ],
          [
           "Kick Sauber"
          ],
          [
           "Kick Sauber"
          ],
          [
           "Kick Sauber"
          ],
          [
           "Kick Sauber"
          ],
          [
           "Kick Sauber"
          ],
          [
           "Kick Sauber"
          ],
          [
           "Kick Sauber"
          ],
          [
           "Kick Sauber"
          ],
          [
           "Kick Sauber"
          ],
          [
           "Kick Sauber"
          ],
          [
           "Kick Sauber"
          ],
          [
           "Kick Sauber"
          ],
          [
           "Kick Sauber"
          ],
          [
           "Kick Sauber"
          ],
          [
           "Kick Sauber"
          ],
          [
           "Kick Sauber"
          ],
          [
           "Kick Sauber"
          ],
          [
           "Kick Sauber"
          ],
          [
           "Kick Sauber"
          ],
          [
           "Kick Sauber"
          ],
          [
           "Kick Sauber"
          ],
          [
           "Kick Sauber"
          ],
          [
           "Kick Sauber"
          ],
          [
           "Kick Sauber"
          ],
          [
           "Kick Sauber"
          ],
          [
           "Kick Sauber"
          ],
          [
           "Kick Sauber"
          ],
          [
           "Kick Sauber"
          ],
          [
           "Kick Sauber"
          ],
          [
           "Kick Sauber"
          ],
          [
           "Kick Sauber"
          ],
          [
           "Kick Sauber"
          ],
          [
           "Kick Sauber"
          ],
          [
           "Kick Sauber"
          ],
          [
           "Kick Sauber"
          ],
          [
           "Kick Sauber"
          ],
          [
           "Kick Sauber"
          ],
          [
           "Kick Sauber"
          ],
          [
           "Kick Sauber"
          ],
          [
           "Kick Sauber"
          ],
          [
           "Kick Sauber"
          ],
          [
           "Kick Sauber"
          ],
          [
           "Kick Sauber"
          ],
          [
           "Kick Sauber"
          ],
          [
           "Kick Sauber"
          ],
          [
           "Kick Sauber"
          ],
          [
           "Kick Sauber"
          ],
          [
           "Kick Sauber"
          ],
          [
           "Kick Sauber"
          ],
          [
           "Kick Sauber"
          ],
          [
           "Kick Sauber"
          ],
          [
           "Kick Sauber"
          ],
          [
           "Kick Sauber"
          ],
          [
           "Kick Sauber"
          ],
          [
           "Kick Sauber"
          ],
          [
           "Kick Sauber"
          ],
          [
           "Kick Sauber"
          ],
          [
           "Kick Sauber"
          ],
          [
           "Kick Sauber"
          ],
          [
           "Kick Sauber"
          ],
          [
           "Kick Sauber"
          ],
          [
           "Kick Sauber"
          ],
          [
           "Kick Sauber"
          ],
          [
           "Kick Sauber"
          ],
          [
           "Kick Sauber"
          ],
          [
           "Kick Sauber"
          ],
          [
           "Kick Sauber"
          ],
          [
           "Kick Sauber"
          ]
         ],
         "hovertemplate": "Team=%{customdata[0]}<br>Driver=%{x}<br>Speed Trap (km/h)=%{y}<extra></extra>",
         "legendgroup": "Kick Sauber",
         "marker": {
          "color": "#B6E880"
         },
         "name": "Kick Sauber",
         "offsetgroup": "Kick Sauber",
         "orientation": "v",
         "points": "all",
         "scalegroup": "True",
         "showlegend": true,
         "type": "violin",
         "x": [
          "HUL",
          "HUL",
          "HUL",
          "HUL",
          "HUL",
          "HUL",
          "HUL",
          "HUL",
          "HUL",
          "HUL",
          "HUL",
          "HUL",
          "HUL",
          "HUL",
          "HUL",
          "HUL",
          "HUL",
          "HUL",
          "HUL",
          "HUL",
          "HUL",
          "HUL",
          "HUL",
          "HUL",
          "HUL",
          "HUL",
          "HUL",
          "HUL",
          "HUL",
          "HUL",
          "HUL",
          "HUL",
          "HUL",
          "HUL",
          "HUL",
          "HUL",
          "HUL",
          "HUL",
          "HUL",
          "HUL",
          "HUL",
          "HUL",
          "HUL",
          "HUL",
          "HUL",
          "HUL",
          "HUL",
          "HUL",
          "HUL",
          "HUL",
          "HUL",
          "HUL",
          "HUL",
          "BOR",
          "BOR",
          "BOR",
          "BOR",
          "BOR",
          "BOR",
          "BOR",
          "BOR",
          "BOR",
          "BOR",
          "BOR",
          "BOR",
          "BOR",
          "BOR",
          "BOR",
          "BOR",
          "BOR",
          "BOR",
          "BOR",
          "BOR",
          "BOR",
          "BOR",
          "BOR",
          "BOR",
          "BOR",
          "BOR",
          "BOR",
          "BOR",
          "BOR",
          "BOR",
          "BOR",
          "BOR",
          "BOR",
          "BOR",
          "BOR",
          "BOR",
          "BOR",
          "BOR",
          "BOR",
          "BOR"
         ],
         "x0": " ",
         "xaxis": "x",
         "y": [
          180,
          202,
          null,
          230,
          242,
          259,
          265,
          268,
          274,
          279,
          266,
          272,
          277,
          272,
          284,
          278,
          285,
          282,
          289,
          288,
          289,
          291,
          null,
          289,
          290,
          289,
          290,
          289,
          291,
          160,
          229,
          276,
          284,
          242,
          257,
          273,
          262,
          277,
          296,
          293,
          211,
          294,
          252,
          167,
          140,
          130,
          175,
          236,
          275,
          284,
          291,
          289,
          290,
          158,
          177,
          203,
          242,
          264,
          274,
          281,
          270,
          261,
          281,
          283,
          null,
          284,
          287,
          281,
          288,
          null,
          289,
          291,
          290,
          289,
          291,
          292,
          290,
          291,
          null,
          292,
          291,
          290,
          159,
          200,
          195,
          187,
          175,
          241,
          288,
          295,
          294,
          265,
          209
         ],
         "y0": " ",
         "yaxis": "y"
        },
        {
         "alignmentgroup": "True",
         "box": {
          "visible": true
         },
         "customdata": [
          [
           "Haas F1 Team"
          ],
          [
           "Haas F1 Team"
          ],
          [
           "Haas F1 Team"
          ],
          [
           "Haas F1 Team"
          ],
          [
           "Haas F1 Team"
          ],
          [
           "Haas F1 Team"
          ],
          [
           "Haas F1 Team"
          ],
          [
           "Haas F1 Team"
          ],
          [
           "Haas F1 Team"
          ],
          [
           "Haas F1 Team"
          ],
          [
           "Haas F1 Team"
          ],
          [
           "Haas F1 Team"
          ],
          [
           "Haas F1 Team"
          ],
          [
           "Haas F1 Team"
          ],
          [
           "Haas F1 Team"
          ],
          [
           "Haas F1 Team"
          ],
          [
           "Haas F1 Team"
          ],
          [
           "Haas F1 Team"
          ],
          [
           "Haas F1 Team"
          ],
          [
           "Haas F1 Team"
          ],
          [
           "Haas F1 Team"
          ],
          [
           "Haas F1 Team"
          ],
          [
           "Haas F1 Team"
          ],
          [
           "Haas F1 Team"
          ],
          [
           "Haas F1 Team"
          ],
          [
           "Haas F1 Team"
          ],
          [
           "Haas F1 Team"
          ],
          [
           "Haas F1 Team"
          ],
          [
           "Haas F1 Team"
          ],
          [
           "Haas F1 Team"
          ],
          [
           "Haas F1 Team"
          ],
          [
           "Haas F1 Team"
          ],
          [
           "Haas F1 Team"
          ],
          [
           "Haas F1 Team"
          ],
          [
           "Haas F1 Team"
          ],
          [
           "Haas F1 Team"
          ],
          [
           "Haas F1 Team"
          ],
          [
           "Haas F1 Team"
          ],
          [
           "Haas F1 Team"
          ],
          [
           "Haas F1 Team"
          ],
          [
           "Haas F1 Team"
          ],
          [
           "Haas F1 Team"
          ],
          [
           "Haas F1 Team"
          ],
          [
           "Haas F1 Team"
          ],
          [
           "Haas F1 Team"
          ],
          [
           "Haas F1 Team"
          ],
          [
           "Haas F1 Team"
          ],
          [
           "Haas F1 Team"
          ],
          [
           "Haas F1 Team"
          ],
          [
           "Haas F1 Team"
          ],
          [
           "Haas F1 Team"
          ],
          [
           "Haas F1 Team"
          ],
          [
           "Haas F1 Team"
          ],
          [
           "Haas F1 Team"
          ],
          [
           "Haas F1 Team"
          ],
          [
           "Haas F1 Team"
          ],
          [
           "Haas F1 Team"
          ],
          [
           "Haas F1 Team"
          ],
          [
           "Haas F1 Team"
          ],
          [
           "Haas F1 Team"
          ],
          [
           "Haas F1 Team"
          ],
          [
           "Haas F1 Team"
          ],
          [
           "Haas F1 Team"
          ],
          [
           "Haas F1 Team"
          ],
          [
           "Haas F1 Team"
          ],
          [
           "Haas F1 Team"
          ],
          [
           "Haas F1 Team"
          ],
          [
           "Haas F1 Team"
          ],
          [
           "Haas F1 Team"
          ],
          [
           "Haas F1 Team"
          ],
          [
           "Haas F1 Team"
          ],
          [
           "Haas F1 Team"
          ],
          [
           "Haas F1 Team"
          ],
          [
           "Haas F1 Team"
          ],
          [
           "Haas F1 Team"
          ],
          [
           "Haas F1 Team"
          ],
          [
           "Haas F1 Team"
          ],
          [
           "Haas F1 Team"
          ],
          [
           "Haas F1 Team"
          ],
          [
           "Haas F1 Team"
          ],
          [
           "Haas F1 Team"
          ],
          [
           "Haas F1 Team"
          ],
          [
           "Haas F1 Team"
          ],
          [
           "Haas F1 Team"
          ],
          [
           "Haas F1 Team"
          ],
          [
           "Haas F1 Team"
          ],
          [
           "Haas F1 Team"
          ],
          [
           "Haas F1 Team"
          ],
          [
           "Haas F1 Team"
          ],
          [
           "Haas F1 Team"
          ],
          [
           "Haas F1 Team"
          ],
          [
           "Haas F1 Team"
          ],
          [
           "Haas F1 Team"
          ],
          [
           "Haas F1 Team"
          ],
          [
           "Haas F1 Team"
          ],
          [
           "Haas F1 Team"
          ],
          [
           "Haas F1 Team"
          ],
          [
           "Haas F1 Team"
          ],
          [
           "Haas F1 Team"
          ],
          [
           "Haas F1 Team"
          ],
          [
           "Haas F1 Team"
          ],
          [
           "Haas F1 Team"
          ],
          [
           "Haas F1 Team"
          ],
          [
           "Haas F1 Team"
          ]
         ],
         "hovertemplate": "Team=%{customdata[0]}<br>Driver=%{x}<br>Speed Trap (km/h)=%{y}<extra></extra>",
         "legendgroup": "Haas F1 Team",
         "marker": {
          "color": "#FF97FF"
         },
         "name": "Haas F1 Team",
         "offsetgroup": "Haas F1 Team",
         "orientation": "v",
         "points": "all",
         "scalegroup": "True",
         "showlegend": true,
         "type": "violin",
         "x": [
          "OCO",
          "OCO",
          "OCO",
          "OCO",
          "OCO",
          "OCO",
          "OCO",
          "OCO",
          "OCO",
          "OCO",
          "OCO",
          "OCO",
          "OCO",
          "OCO",
          "OCO",
          "OCO",
          "OCO",
          "OCO",
          "OCO",
          "OCO",
          "OCO",
          "OCO",
          "OCO",
          "OCO",
          "OCO",
          "OCO",
          "OCO",
          "OCO",
          "OCO",
          "OCO",
          "OCO",
          "OCO",
          "OCO",
          "OCO",
          "OCO",
          "OCO",
          "OCO",
          "OCO",
          "OCO",
          "OCO",
          "OCO",
          "OCO",
          "OCO",
          "OCO",
          "OCO",
          "OCO",
          "OCO",
          "OCO",
          "OCO",
          "OCO",
          "OCO",
          "OCO",
          "BEA",
          "BEA",
          "BEA",
          "BEA",
          "BEA",
          "BEA",
          "BEA",
          "BEA",
          "BEA",
          "BEA",
          "BEA",
          "BEA",
          "BEA",
          "BEA",
          "BEA",
          "BEA",
          "BEA",
          "BEA",
          "BEA",
          "BEA",
          "BEA",
          "BEA",
          "BEA",
          "BEA",
          "BEA",
          "BEA",
          "BEA",
          "BEA",
          "BEA",
          "BEA",
          "BEA",
          "BEA",
          "BEA",
          "BEA",
          "BEA",
          "BEA",
          "BEA",
          "BEA",
          "BEA",
          "BEA",
          "BEA",
          "BEA",
          "BEA",
          "BEA",
          "BEA",
          "BEA",
          "BEA",
          "BEA",
          "BEA",
          "BEA",
          "BEA",
          "BEA"
         ],
         "x0": " ",
         "xaxis": "x",
         "y": [
          184,
          163,
          191,
          217,
          229,
          246,
          243,
          237,
          261,
          262,
          260,
          254,
          268,
          263,
          273,
          256,
          267,
          270,
          276,
          272,
          279,
          278,
          280,
          283,
          277,
          279,
          277,
          279,
          null,
          214,
          187,
          170,
          201,
          169,
          180,
          269,
          283,
          292,
          291,
          276,
          227,
          190,
          216,
          258,
          256,
          190,
          223,
          250,
          269,
          null,
          281,
          278,
          179,
          161,
          154,
          218,
          223,
          253,
          250,
          263,
          271,
          270,
          281,
          276,
          263,
          267,
          259,
          265,
          263,
          271,
          273,
          272,
          null,
          283,
          285,
          282,
          278,
          277,
          282,
          279,
          207,
          195,
          202,
          247,
          205,
          207,
          176,
          282,
          284,
          287,
          278,
          219,
          248,
          215,
          115,
          193,
          258,
          271,
          274,
          287,
          289,
          287,
          290,
          282
         ],
         "y0": " ",
         "yaxis": "y"
        },
        {
         "alignmentgroup": "True",
         "box": {
          "visible": true
         },
         "customdata": [
          [
           "McLaren"
          ],
          [
           "McLaren"
          ],
          [
           "McLaren"
          ],
          [
           "McLaren"
          ],
          [
           "McLaren"
          ],
          [
           "McLaren"
          ],
          [
           "McLaren"
          ],
          [
           "McLaren"
          ],
          [
           "McLaren"
          ],
          [
           "McLaren"
          ],
          [
           "McLaren"
          ],
          [
           "McLaren"
          ],
          [
           "McLaren"
          ],
          [
           "McLaren"
          ],
          [
           "McLaren"
          ],
          [
           "McLaren"
          ],
          [
           "McLaren"
          ],
          [
           "McLaren"
          ],
          [
           "McLaren"
          ],
          [
           "McLaren"
          ],
          [
           "McLaren"
          ],
          [
           "McLaren"
          ],
          [
           "McLaren"
          ],
          [
           "McLaren"
          ],
          [
           "McLaren"
          ],
          [
           "McLaren"
          ],
          [
           "McLaren"
          ],
          [
           "McLaren"
          ],
          [
           "McLaren"
          ],
          [
           "McLaren"
          ],
          [
           "McLaren"
          ],
          [
           "McLaren"
          ],
          [
           "McLaren"
          ],
          [
           "McLaren"
          ],
          [
           "McLaren"
          ],
          [
           "McLaren"
          ],
          [
           "McLaren"
          ],
          [
           "McLaren"
          ],
          [
           "McLaren"
          ],
          [
           "McLaren"
          ],
          [
           "McLaren"
          ],
          [
           "McLaren"
          ],
          [
           "McLaren"
          ],
          [
           "McLaren"
          ],
          [
           "McLaren"
          ],
          [
           "McLaren"
          ],
          [
           "McLaren"
          ],
          [
           "McLaren"
          ],
          [
           "McLaren"
          ],
          [
           "McLaren"
          ],
          [
           "McLaren"
          ],
          [
           "McLaren"
          ],
          [
           "McLaren"
          ],
          [
           "McLaren"
          ],
          [
           "McLaren"
          ],
          [
           "McLaren"
          ],
          [
           "McLaren"
          ],
          [
           "McLaren"
          ],
          [
           "McLaren"
          ],
          [
           "McLaren"
          ],
          [
           "McLaren"
          ],
          [
           "McLaren"
          ],
          [
           "McLaren"
          ],
          [
           "McLaren"
          ],
          [
           "McLaren"
          ],
          [
           "McLaren"
          ],
          [
           "McLaren"
          ],
          [
           "McLaren"
          ],
          [
           "McLaren"
          ],
          [
           "McLaren"
          ],
          [
           "McLaren"
          ],
          [
           "McLaren"
          ],
          [
           "McLaren"
          ],
          [
           "McLaren"
          ],
          [
           "McLaren"
          ],
          [
           "McLaren"
          ],
          [
           "McLaren"
          ],
          [
           "McLaren"
          ],
          [
           "McLaren"
          ],
          [
           "McLaren"
          ],
          [
           "McLaren"
          ],
          [
           "McLaren"
          ],
          [
           "McLaren"
          ],
          [
           "McLaren"
          ],
          [
           "McLaren"
          ],
          [
           "McLaren"
          ],
          [
           "McLaren"
          ],
          [
           "McLaren"
          ],
          [
           "McLaren"
          ],
          [
           "McLaren"
          ],
          [
           "McLaren"
          ],
          [
           "McLaren"
          ],
          [
           "McLaren"
          ],
          [
           "McLaren"
          ],
          [
           "McLaren"
          ],
          [
           "McLaren"
          ],
          [
           "McLaren"
          ],
          [
           "McLaren"
          ],
          [
           "McLaren"
          ],
          [
           "McLaren"
          ],
          [
           "McLaren"
          ],
          [
           "McLaren"
          ],
          [
           "McLaren"
          ]
         ],
         "hovertemplate": "Team=%{customdata[0]}<br>Driver=%{x}<br>Speed Trap (km/h)=%{y}<extra></extra>",
         "legendgroup": "McLaren",
         "marker": {
          "color": "#FECB52"
         },
         "name": "McLaren",
         "offsetgroup": "McLaren",
         "orientation": "v",
         "points": "all",
         "scalegroup": "True",
         "showlegend": true,
         "type": "violin",
         "x": [
          "NOR",
          "NOR",
          "NOR",
          "NOR",
          "NOR",
          "NOR",
          "NOR",
          "NOR",
          "NOR",
          "NOR",
          "NOR",
          "NOR",
          "NOR",
          "NOR",
          "NOR",
          "NOR",
          "NOR",
          "NOR",
          "NOR",
          "NOR",
          "NOR",
          "NOR",
          "NOR",
          "NOR",
          "NOR",
          "NOR",
          "NOR",
          "NOR",
          "NOR",
          "NOR",
          "NOR",
          "NOR",
          "NOR",
          "NOR",
          "NOR",
          "NOR",
          "NOR",
          "NOR",
          "NOR",
          "NOR",
          "NOR",
          "NOR",
          "NOR",
          "NOR",
          "NOR",
          "NOR",
          "NOR",
          "NOR",
          "NOR",
          "NOR",
          "NOR",
          "NOR",
          "PIA",
          "PIA",
          "PIA",
          "PIA",
          "PIA",
          "PIA",
          "PIA",
          "PIA",
          "PIA",
          "PIA",
          "PIA",
          "PIA",
          "PIA",
          "PIA",
          "PIA",
          "PIA",
          "PIA",
          "PIA",
          "PIA",
          "PIA",
          "PIA",
          "PIA",
          "PIA",
          "PIA",
          "PIA",
          "PIA",
          "PIA",
          "PIA",
          "PIA",
          "PIA",
          "PIA",
          "PIA",
          "PIA",
          "PIA",
          "PIA",
          "PIA",
          "PIA",
          "PIA",
          "PIA",
          "PIA",
          "PIA",
          "PIA",
          "PIA",
          "PIA",
          "PIA",
          "PIA",
          "PIA",
          "PIA",
          "PIA",
          "PIA",
          "PIA"
         ],
         "x0": " ",
         "xaxis": "x",
         "y": [
          186,
          180,
          218,
          276,
          281,
          280,
          278,
          284,
          279,
          282,
          281,
          null,
          284,
          283,
          null,
          289,
          287,
          283,
          288,
          287,
          283,
          289,
          291,
          290,
          291,
          292,
          295,
          null,
          291,
          294,
          179,
          184,
          186,
          224,
          151,
          211,
          298,
          300,
          305,
          223,
          292,
          228,
          224,
          147,
          128,
          193,
          268,
          290,
          289,
          295,
          293,
          300,
          189,
          132,
          231,
          257,
          273,
          280,
          271,
          274,
          null,
          273,
          278,
          279,
          283,
          281,
          284,
          286,
          null,
          280,
          282,
          286,
          290,
          293,
          287,
          289,
          292,
          294,
          296,
          293,
          290,
          294,
          170,
          191,
          246,
          195,
          243,
          219,
          296,
          304,
          216,
          263,
          177,
          150,
          205,
          266,
          185,
          243,
          272,
          285,
          260,
          295,
          296
         ],
         "y0": " ",
         "yaxis": "y"
        }
       ],
       "layout": {
        "height": 700,
        "legend": {
         "title": {
          "text": "Team"
         },
         "tracegroupgap": 0
        },
        "template": {
         "data": {
          "bar": [
           {
            "error_x": {
             "color": "#2a3f5f"
            },
            "error_y": {
             "color": "#2a3f5f"
            },
            "marker": {
             "line": {
              "color": "#E5ECF6",
              "width": 0.5
             },
             "pattern": {
              "fillmode": "overlay",
              "size": 10,
              "solidity": 0.2
             }
            },
            "type": "bar"
           }
          ],
          "barpolar": [
           {
            "marker": {
             "line": {
              "color": "#E5ECF6",
              "width": 0.5
             },
             "pattern": {
              "fillmode": "overlay",
              "size": 10,
              "solidity": 0.2
             }
            },
            "type": "barpolar"
           }
          ],
          "carpet": [
           {
            "aaxis": {
             "endlinecolor": "#2a3f5f",
             "gridcolor": "white",
             "linecolor": "white",
             "minorgridcolor": "white",
             "startlinecolor": "#2a3f5f"
            },
            "baxis": {
             "endlinecolor": "#2a3f5f",
             "gridcolor": "white",
             "linecolor": "white",
             "minorgridcolor": "white",
             "startlinecolor": "#2a3f5f"
            },
            "type": "carpet"
           }
          ],
          "choropleth": [
           {
            "colorbar": {
             "outlinewidth": 0,
             "ticks": ""
            },
            "type": "choropleth"
           }
          ],
          "contour": [
           {
            "colorbar": {
             "outlinewidth": 0,
             "ticks": ""
            },
            "colorscale": [
             [
              0,
              "#0d0887"
             ],
             [
              0.1111111111111111,
              "#46039f"
             ],
             [
              0.2222222222222222,
              "#7201a8"
             ],
             [
              0.3333333333333333,
              "#9c179e"
             ],
             [
              0.4444444444444444,
              "#bd3786"
             ],
             [
              0.5555555555555556,
              "#d8576b"
             ],
             [
              0.6666666666666666,
              "#ed7953"
             ],
             [
              0.7777777777777778,
              "#fb9f3a"
             ],
             [
              0.8888888888888888,
              "#fdca26"
             ],
             [
              1,
              "#f0f921"
             ]
            ],
            "type": "contour"
           }
          ],
          "contourcarpet": [
           {
            "colorbar": {
             "outlinewidth": 0,
             "ticks": ""
            },
            "type": "contourcarpet"
           }
          ],
          "heatmap": [
           {
            "colorbar": {
             "outlinewidth": 0,
             "ticks": ""
            },
            "colorscale": [
             [
              0,
              "#0d0887"
             ],
             [
              0.1111111111111111,
              "#46039f"
             ],
             [
              0.2222222222222222,
              "#7201a8"
             ],
             [
              0.3333333333333333,
              "#9c179e"
             ],
             [
              0.4444444444444444,
              "#bd3786"
             ],
             [
              0.5555555555555556,
              "#d8576b"
             ],
             [
              0.6666666666666666,
              "#ed7953"
             ],
             [
              0.7777777777777778,
              "#fb9f3a"
             ],
             [
              0.8888888888888888,
              "#fdca26"
             ],
             [
              1,
              "#f0f921"
             ]
            ],
            "type": "heatmap"
           }
          ],
          "heatmapgl": [
           {
            "colorbar": {
             "outlinewidth": 0,
             "ticks": ""
            },
            "colorscale": [
             [
              0,
              "#0d0887"
             ],
             [
              0.1111111111111111,
              "#46039f"
             ],
             [
              0.2222222222222222,
              "#7201a8"
             ],
             [
              0.3333333333333333,
              "#9c179e"
             ],
             [
              0.4444444444444444,
              "#bd3786"
             ],
             [
              0.5555555555555556,
              "#d8576b"
             ],
             [
              0.6666666666666666,
              "#ed7953"
             ],
             [
              0.7777777777777778,
              "#fb9f3a"
             ],
             [
              0.8888888888888888,
              "#fdca26"
             ],
             [
              1,
              "#f0f921"
             ]
            ],
            "type": "heatmapgl"
           }
          ],
          "histogram": [
           {
            "marker": {
             "pattern": {
              "fillmode": "overlay",
              "size": 10,
              "solidity": 0.2
             }
            },
            "type": "histogram"
           }
          ],
          "histogram2d": [
           {
            "colorbar": {
             "outlinewidth": 0,
             "ticks": ""
            },
            "colorscale": [
             [
              0,
              "#0d0887"
             ],
             [
              0.1111111111111111,
              "#46039f"
             ],
             [
              0.2222222222222222,
              "#7201a8"
             ],
             [
              0.3333333333333333,
              "#9c179e"
             ],
             [
              0.4444444444444444,
              "#bd3786"
             ],
             [
              0.5555555555555556,
              "#d8576b"
             ],
             [
              0.6666666666666666,
              "#ed7953"
             ],
             [
              0.7777777777777778,
              "#fb9f3a"
             ],
             [
              0.8888888888888888,
              "#fdca26"
             ],
             [
              1,
              "#f0f921"
             ]
            ],
            "type": "histogram2d"
           }
          ],
          "histogram2dcontour": [
           {
            "colorbar": {
             "outlinewidth": 0,
             "ticks": ""
            },
            "colorscale": [
             [
              0,
              "#0d0887"
             ],
             [
              0.1111111111111111,
              "#46039f"
             ],
             [
              0.2222222222222222,
              "#7201a8"
             ],
             [
              0.3333333333333333,
              "#9c179e"
             ],
             [
              0.4444444444444444,
              "#bd3786"
             ],
             [
              0.5555555555555556,
              "#d8576b"
             ],
             [
              0.6666666666666666,
              "#ed7953"
             ],
             [
              0.7777777777777778,
              "#fb9f3a"
             ],
             [
              0.8888888888888888,
              "#fdca26"
             ],
             [
              1,
              "#f0f921"
             ]
            ],
            "type": "histogram2dcontour"
           }
          ],
          "mesh3d": [
           {
            "colorbar": {
             "outlinewidth": 0,
             "ticks": ""
            },
            "type": "mesh3d"
           }
          ],
          "parcoords": [
           {
            "line": {
             "colorbar": {
              "outlinewidth": 0,
              "ticks": ""
             }
            },
            "type": "parcoords"
           }
          ],
          "pie": [
           {
            "automargin": true,
            "type": "pie"
           }
          ],
          "scatter": [
           {
            "fillpattern": {
             "fillmode": "overlay",
             "size": 10,
             "solidity": 0.2
            },
            "type": "scatter"
           }
          ],
          "scatter3d": [
           {
            "line": {
             "colorbar": {
              "outlinewidth": 0,
              "ticks": ""
             }
            },
            "marker": {
             "colorbar": {
              "outlinewidth": 0,
              "ticks": ""
             }
            },
            "type": "scatter3d"
           }
          ],
          "scattercarpet": [
           {
            "marker": {
             "colorbar": {
              "outlinewidth": 0,
              "ticks": ""
             }
            },
            "type": "scattercarpet"
           }
          ],
          "scattergeo": [
           {
            "marker": {
             "colorbar": {
              "outlinewidth": 0,
              "ticks": ""
             }
            },
            "type": "scattergeo"
           }
          ],
          "scattergl": [
           {
            "marker": {
             "colorbar": {
              "outlinewidth": 0,
              "ticks": ""
             }
            },
            "type": "scattergl"
           }
          ],
          "scattermapbox": [
           {
            "marker": {
             "colorbar": {
              "outlinewidth": 0,
              "ticks": ""
             }
            },
            "type": "scattermapbox"
           }
          ],
          "scatterpolar": [
           {
            "marker": {
             "colorbar": {
              "outlinewidth": 0,
              "ticks": ""
             }
            },
            "type": "scatterpolar"
           }
          ],
          "scatterpolargl": [
           {
            "marker": {
             "colorbar": {
              "outlinewidth": 0,
              "ticks": ""
             }
            },
            "type": "scatterpolargl"
           }
          ],
          "scatterternary": [
           {
            "marker": {
             "colorbar": {
              "outlinewidth": 0,
              "ticks": ""
             }
            },
            "type": "scatterternary"
           }
          ],
          "surface": [
           {
            "colorbar": {
             "outlinewidth": 0,
             "ticks": ""
            },
            "colorscale": [
             [
              0,
              "#0d0887"
             ],
             [
              0.1111111111111111,
              "#46039f"
             ],
             [
              0.2222222222222222,
              "#7201a8"
             ],
             [
              0.3333333333333333,
              "#9c179e"
             ],
             [
              0.4444444444444444,
              "#bd3786"
             ],
             [
              0.5555555555555556,
              "#d8576b"
             ],
             [
              0.6666666666666666,
              "#ed7953"
             ],
             [
              0.7777777777777778,
              "#fb9f3a"
             ],
             [
              0.8888888888888888,
              "#fdca26"
             ],
             [
              1,
              "#f0f921"
             ]
            ],
            "type": "surface"
           }
          ],
          "table": [
           {
            "cells": {
             "fill": {
              "color": "#EBF0F8"
             },
             "line": {
              "color": "white"
             }
            },
            "header": {
             "fill": {
              "color": "#C8D4E3"
             },
             "line": {
              "color": "white"
             }
            },
            "type": "table"
           }
          ]
         },
         "layout": {
          "annotationdefaults": {
           "arrowcolor": "#2a3f5f",
           "arrowhead": 0,
           "arrowwidth": 1
          },
          "autotypenumbers": "strict",
          "coloraxis": {
           "colorbar": {
            "outlinewidth": 0,
            "ticks": ""
           }
          },
          "colorscale": {
           "diverging": [
            [
             0,
             "#8e0152"
            ],
            [
             0.1,
             "#c51b7d"
            ],
            [
             0.2,
             "#de77ae"
            ],
            [
             0.3,
             "#f1b6da"
            ],
            [
             0.4,
             "#fde0ef"
            ],
            [
             0.5,
             "#f7f7f7"
            ],
            [
             0.6,
             "#e6f5d0"
            ],
            [
             0.7,
             "#b8e186"
            ],
            [
             0.8,
             "#7fbc41"
            ],
            [
             0.9,
             "#4d9221"
            ],
            [
             1,
             "#276419"
            ]
           ],
           "sequential": [
            [
             0,
             "#0d0887"
            ],
            [
             0.1111111111111111,
             "#46039f"
            ],
            [
             0.2222222222222222,
             "#7201a8"
            ],
            [
             0.3333333333333333,
             "#9c179e"
            ],
            [
             0.4444444444444444,
             "#bd3786"
            ],
            [
             0.5555555555555556,
             "#d8576b"
            ],
            [
             0.6666666666666666,
             "#ed7953"
            ],
            [
             0.7777777777777778,
             "#fb9f3a"
            ],
            [
             0.8888888888888888,
             "#fdca26"
            ],
            [
             1,
             "#f0f921"
            ]
           ],
           "sequentialminus": [
            [
             0,
             "#0d0887"
            ],
            [
             0.1111111111111111,
             "#46039f"
            ],
            [
             0.2222222222222222,
             "#7201a8"
            ],
            [
             0.3333333333333333,
             "#9c179e"
            ],
            [
             0.4444444444444444,
             "#bd3786"
            ],
            [
             0.5555555555555556,
             "#d8576b"
            ],
            [
             0.6666666666666666,
             "#ed7953"
            ],
            [
             0.7777777777777778,
             "#fb9f3a"
            ],
            [
             0.8888888888888888,
             "#fdca26"
            ],
            [
             1,
             "#f0f921"
            ]
           ]
          },
          "colorway": [
           "#636efa",
           "#EF553B",
           "#00cc96",
           "#ab63fa",
           "#FFA15A",
           "#19d3f3",
           "#FF6692",
           "#B6E880",
           "#FF97FF",
           "#FECB52"
          ],
          "font": {
           "color": "#2a3f5f"
          },
          "geo": {
           "bgcolor": "white",
           "lakecolor": "white",
           "landcolor": "#E5ECF6",
           "showlakes": true,
           "showland": true,
           "subunitcolor": "white"
          },
          "hoverlabel": {
           "align": "left"
          },
          "hovermode": "closest",
          "mapbox": {
           "style": "light"
          },
          "paper_bgcolor": "white",
          "plot_bgcolor": "#E5ECF6",
          "polar": {
           "angularaxis": {
            "gridcolor": "white",
            "linecolor": "white",
            "ticks": ""
           },
           "bgcolor": "#E5ECF6",
           "radialaxis": {
            "gridcolor": "white",
            "linecolor": "white",
            "ticks": ""
           }
          },
          "scene": {
           "xaxis": {
            "backgroundcolor": "#E5ECF6",
            "gridcolor": "white",
            "gridwidth": 2,
            "linecolor": "white",
            "showbackground": true,
            "ticks": "",
            "zerolinecolor": "white"
           },
           "yaxis": {
            "backgroundcolor": "#E5ECF6",
            "gridcolor": "white",
            "gridwidth": 2,
            "linecolor": "white",
            "showbackground": true,
            "ticks": "",
            "zerolinecolor": "white"
           },
           "zaxis": {
            "backgroundcolor": "#E5ECF6",
            "gridcolor": "white",
            "gridwidth": 2,
            "linecolor": "white",
            "showbackground": true,
            "ticks": "",
            "zerolinecolor": "white"
           }
          },
          "shapedefaults": {
           "line": {
            "color": "#2a3f5f"
           }
          },
          "ternary": {
           "aaxis": {
            "gridcolor": "white",
            "linecolor": "white",
            "ticks": ""
           },
           "baxis": {
            "gridcolor": "white",
            "linecolor": "white",
            "ticks": ""
           },
           "bgcolor": "#E5ECF6",
           "caxis": {
            "gridcolor": "white",
            "linecolor": "white",
            "ticks": ""
           }
          },
          "title": {
           "x": 0.05
          },
          "xaxis": {
           "automargin": true,
           "gridcolor": "white",
           "linecolor": "white",
           "ticks": "",
           "title": {
            "standoff": 15
           },
           "zerolinecolor": "white",
           "zerolinewidth": 2
          },
          "yaxis": {
           "automargin": true,
           "gridcolor": "white",
           "linecolor": "white",
           "ticks": "",
           "title": {
            "standoff": 15
           },
           "zerolinecolor": "white",
           "zerolinewidth": 2
          }
         }
        },
        "title": {
         "text": "Speed Trap Distribution – Sorted by Performance, Grouped by Team"
        },
        "violinmode": "group",
        "width": 1300,
        "xaxis": {
         "anchor": "y",
         "categoryarray": [
          "ALO",
          "ANT",
          "LEC",
          "HUL",
          "NOR",
          "HAM",
          "STR",
          "BOR",
          "PIA",
          "GAS",
          "LAW",
          "VER",
          "RUS",
          "TSU",
          "BEA",
          "OCO",
          "ALB"
         ],
         "categoryorder": "array",
         "domain": [
          0,
          1
         ],
         "title": {
          "text": "Driver (Sorted by Avg Speed Trap)"
         }
        },
        "yaxis": {
         "anchor": "x",
         "domain": [
          0,
          1
         ],
         "title": {
          "text": "Speed Trap (km/h)"
         }
        }
       }
      }
     },
     "metadata": {},
     "output_type": "display_data"
    }
   ],
   "source": [
    "# Speed Trap Boxplot by Driver and Constructor\n",
    "\n",
    "# Group by Driver to get the average speed for sorting\n",
    "driver_avg_speed = laps.groupby(['Driver', 'Team'])['SpeedST'].mean().reset_index()\n",
    "driver_avg_speed = driver_avg_speed.sort_values(by='SpeedST', ascending=False)\n",
    "\n",
    "# Preserve sorting and mapping\n",
    "driver_avg_speed['DriverTeam'] = driver_avg_speed['Driver'] + \" (\" + driver_avg_speed['Team'] + \")\"\n",
    "driver_order = driver_avg_speed['Driver'].tolist()\n",
    "team_color_map = {team: px.colors.qualitative.Set3[i % 12] for i, team in enumerate(driver_avg_speed['Team'].unique())}\n",
    "\n",
    "# Prepare main df\n",
    "laps['DriverTeam'] = laps['Driver'] + \" (\" + laps['Team'] + \")\"\n",
    "laps['Driver'] = pd.Categorical(laps['Driver'], categories=driver_order, ordered=True)\n",
    "\n",
    "# Create color mapping per row based on Team\n",
    "laps['TeamColor'] = laps['Team'].map(team_color_map)\n",
    "\n",
    "fig = px.violin(\n",
    "    laps,\n",
    "    x='Driver',\n",
    "    y='SpeedST',\n",
    "    color='Team',\n",
    "    box=True,\n",
    "    points='all',\n",
    "    category_orders={'Driver': driver_order},\n",
    "    hover_data={'Team': True, 'Driver': True, 'SpeedST': True},\n",
    "    labels={'SpeedST': 'Speed Trap (km/h)', 'Driver': 'Driver'},\n",
    "    title='Speed Trap Distribution – Sorted by Performance, Grouped by Team'\n",
    ")\n",
    "\n",
    "fig.update_layout(\n",
    "    xaxis_title=\"Driver (Sorted by Avg Speed Trap)\",\n",
    "    yaxis_title=\"Speed Trap (km/h)\",\n",
    "    width=1300,\n",
    "    height=700,\n",
    "    violinmode='group'\n",
    ")\n",
    "\n",
    "fig.show()"
   ]
  },
  {
   "cell_type": "code",
   "execution_count": 19,
   "id": "d9b1d4db-3f59-40a1-9147-18cbfb5be31e",
   "metadata": {},
   "outputs": [
    {
     "data": {
      "application/vnd.plotly.v1+json": {
       "config": {
        "plotlyServerURL": "https://plot.ly"
       },
       "data": [
        {
         "hovertemplate": "Driver (Position)=DNF - ALO<br>Avg Lap Time (s)=%{x}<br>Speed Trap (km/h)=%{y}<br>Driver=%{text}<extra></extra>",
         "legendgroup": "DNF - ALO",
         "marker": {
          "color": "#636efa",
          "symbol": "circle"
         },
         "mode": "markers+text",
         "name": "DNF - ALO",
         "orientation": "v",
         "showlegend": true,
         "text": [
          "ALO"
         ],
         "textposition": "top center",
         "type": "scatter",
         "x": [
          97.13664285714286
         ],
         "xaxis": "x",
         "y": [
          263.28
         ],
         "yaxis": "y"
        },
        {
         "hovertemplate": "Driver (Position)=DNF - ANT<br>Avg Lap Time (s)=%{x}<br>Speed Trap (km/h)=%{y}<br>Driver=%{text}<extra></extra>",
         "legendgroup": "DNF - ANT",
         "marker": {
          "color": "#EF553B",
          "symbol": "circle"
         },
         "mode": "markers+text",
         "name": "DNF - ANT",
         "orientation": "v",
         "showlegend": true,
         "text": [
          "ANT"
         ],
         "textposition": "top center",
         "type": "scatter",
         "x": [
          103.86667924528302
         ],
         "xaxis": "x",
         "y": [
          261.9811320754717
         ],
         "yaxis": "y"
        },
        {
         "hovertemplate": "Driver (Position)=DNF - LEC<br>Avg Lap Time (s)=%{x}<br>Speed Trap (km/h)=%{y}<br>Driver=%{text}<extra></extra>",
         "legendgroup": "DNF - LEC",
         "marker": {
          "color": "#00cc96",
          "symbol": "circle"
         },
         "mode": "markers+text",
         "name": "DNF - LEC",
         "orientation": "v",
         "showlegend": true,
         "text": [
          "LEC"
         ],
         "textposition": "top center",
         "type": "scatter",
         "x": [
          103.46148076923077
         ],
         "xaxis": "x",
         "y": [
          260.22
         ],
         "yaxis": "y"
        },
        {
         "hovertemplate": "Driver (Position)=DNF - HUL<br>Avg Lap Time (s)=%{x}<br>Speed Trap (km/h)=%{y}<br>Driver=%{text}<extra></extra>",
         "legendgroup": "DNF - HUL",
         "marker": {
          "color": "#ab63fa",
          "symbol": "circle"
         },
         "mode": "markers+text",
         "name": "DNF - HUL",
         "orientation": "v",
         "showlegend": true,
         "text": [
          "HUL"
         ],
         "textposition": "top center",
         "type": "scatter",
         "x": [
          104.05184905660377
         ],
         "xaxis": "x",
         "y": [
          258.6862745098039
         ],
         "yaxis": "y"
        },
        {
         "hovertemplate": "Driver (Position)=DNF - NOR<br>Avg Lap Time (s)=%{x}<br>Speed Trap (km/h)=%{y}<br>Driver=%{text}<extra></extra>",
         "legendgroup": "DNF - NOR",
         "marker": {
          "color": "#FFA15A",
          "symbol": "circle"
         },
         "mode": "markers+text",
         "name": "DNF - NOR",
         "orientation": "v",
         "showlegend": true,
         "text": [
          "NOR"
         ],
         "textposition": "top center",
         "type": "scatter",
         "x": [
          103.16540384615384
         ],
         "xaxis": "x",
         "y": [
          258.16326530612247
         ],
         "yaxis": "y"
        },
        {
         "hovertemplate": "Driver (Position)=DNF - HAM<br>Avg Lap Time (s)=%{x}<br>Speed Trap (km/h)=%{y}<br>Driver=%{text}<extra></extra>",
         "legendgroup": "DNF - HAM",
         "marker": {
          "color": "#19d3f3",
          "symbol": "circle"
         },
         "mode": "markers+text",
         "name": "DNF - HAM",
         "orientation": "v",
         "showlegend": true,
         "text": [
          "HAM"
         ],
         "textposition": "top center",
         "type": "scatter",
         "x": [
          103.41111538461539
         ],
         "xaxis": "x",
         "y": [
          258.0980392156863
         ],
         "yaxis": "y"
        },
        {
         "hovertemplate": "Driver (Position)=DNF - STR<br>Avg Lap Time (s)=%{x}<br>Speed Trap (km/h)=%{y}<br>Driver=%{text}<extra></extra>",
         "legendgroup": "DNF - STR",
         "marker": {
          "color": "#FF6692",
          "symbol": "circle"
         },
         "mode": "markers+text",
         "name": "DNF - STR",
         "orientation": "v",
         "showlegend": true,
         "text": [
          "STR"
         ],
         "textposition": "top center",
         "type": "scatter",
         "x": [
          104.07437735849057
         ],
         "xaxis": "x",
         "y": [
          257.96078431372547
         ],
         "yaxis": "y"
        },
        {
         "hovertemplate": "Driver (Position)=DNF - BOR<br>Avg Lap Time (s)=%{x}<br>Speed Trap (km/h)=%{y}<br>Driver=%{text}<extra></extra>",
         "legendgroup": "DNF - BOR",
         "marker": {
          "color": "#B6E880",
          "symbol": "circle"
         },
         "mode": "markers+text",
         "name": "DNF - BOR",
         "orientation": "v",
         "showlegend": true,
         "text": [
          "BOR"
         ],
         "textposition": "top center",
         "type": "scatter",
         "x": [
          101.62044999999999
         ],
         "xaxis": "x",
         "y": [
          257.7837837837838
         ],
         "yaxis": "y"
        },
        {
         "hovertemplate": "Driver (Position)=DNF - PIA<br>Avg Lap Time (s)=%{x}<br>Speed Trap (km/h)=%{y}<br>Driver=%{text}<extra></extra>",
         "legendgroup": "DNF - PIA",
         "marker": {
          "color": "#FF97FF",
          "symbol": "circle"
         },
         "mode": "markers+text",
         "name": "DNF - PIA",
         "orientation": "v",
         "showlegend": true,
         "text": [
          "PIA"
         ],
         "textposition": "top center",
         "type": "scatter",
         "x": [
          101.71735294117647
         ],
         "xaxis": "x",
         "y": [
          257.42857142857144
         ],
         "yaxis": "y"
        },
        {
         "hovertemplate": "Driver (Position)=DNF - GAS<br>Avg Lap Time (s)=%{x}<br>Speed Trap (km/h)=%{y}<br>Driver=%{text}<extra></extra>",
         "legendgroup": "DNF - GAS",
         "marker": {
          "color": "#FECB52",
          "symbol": "circle"
         },
         "mode": "markers+text",
         "name": "DNF - GAS",
         "orientation": "v",
         "showlegend": true,
         "text": [
          "GAS"
         ],
         "textposition": "top center",
         "type": "scatter",
         "x": [
          104.33741509433962
         ],
         "xaxis": "x",
         "y": [
          255.64
         ],
         "yaxis": "y"
        },
        {
         "hovertemplate": "Driver (Position)=DNF - LAW<br>Avg Lap Time (s)=%{x}<br>Speed Trap (km/h)=%{y}<br>Driver=%{text}<extra></extra>",
         "legendgroup": "DNF - LAW",
         "marker": {
          "color": "#636efa",
          "symbol": "circle"
         },
         "mode": "markers+text",
         "name": "DNF - LAW",
         "orientation": "v",
         "showlegend": true,
         "text": [
          "LAW"
         ],
         "textposition": "top center",
         "type": "scatter",
         "x": [
          100.60514634146341
         ],
         "xaxis": "x",
         "y": [
          255.2051282051282
         ],
         "yaxis": "y"
        },
        {
         "hovertemplate": "Driver (Position)=DNF - VER<br>Avg Lap Time (s)=%{x}<br>Speed Trap (km/h)=%{y}<br>Driver=%{text}<extra></extra>",
         "legendgroup": "DNF - VER",
         "marker": {
          "color": "#EF553B",
          "symbol": "circle"
         },
         "mode": "markers+text",
         "name": "DNF - VER",
         "orientation": "v",
         "showlegend": true,
         "text": [
          "VER"
         ],
         "textposition": "top center",
         "type": "scatter",
         "x": [
          103.03248076923077
         ],
         "xaxis": "x",
         "y": [
          254.84
         ],
         "yaxis": "y"
        },
        {
         "hovertemplate": "Driver (Position)=DNF - RUS<br>Avg Lap Time (s)=%{x}<br>Speed Trap (km/h)=%{y}<br>Driver=%{text}<extra></extra>",
         "legendgroup": "DNF - RUS",
         "marker": {
          "color": "#00cc96",
          "symbol": "circle"
         },
         "mode": "markers+text",
         "name": "DNF - RUS",
         "orientation": "v",
         "showlegend": true,
         "text": [
          "RUS"
         ],
         "textposition": "top center",
         "type": "scatter",
         "x": [
          103.28330769230769
         ],
         "xaxis": "x",
         "y": [
          252.67307692307693
         ],
         "yaxis": "y"
        },
        {
         "hovertemplate": "Driver (Position)=DNF - TSU<br>Avg Lap Time (s)=%{x}<br>Speed Trap (km/h)=%{y}<br>Driver=%{text}<extra></extra>",
         "legendgroup": "DNF - TSU",
         "marker": {
          "color": "#ab63fa",
          "symbol": "circle"
         },
         "mode": "markers+text",
         "name": "DNF - TSU",
         "orientation": "v",
         "showlegend": true,
         "text": [
          "TSU"
         ],
         "textposition": "top center",
         "type": "scatter",
         "x": [
          103.57475
         ],
         "xaxis": "x",
         "y": [
          249.62745098039215
         ],
         "yaxis": "y"
        },
        {
         "hovertemplate": "Driver (Position)=DNF - BEA<br>Avg Lap Time (s)=%{x}<br>Speed Trap (km/h)=%{y}<br>Driver=%{text}<extra></extra>",
         "legendgroup": "DNF - BEA",
         "marker": {
          "color": "#FFA15A",
          "symbol": "circle"
         },
         "mode": "markers+text",
         "name": "DNF - BEA",
         "orientation": "v",
         "showlegend": true,
         "text": [
          "BEA"
         ],
         "textposition": "top center",
         "type": "scatter",
         "x": [
          102.99425
         ],
         "xaxis": "x",
         "y": [
          248.94117647058823
         ],
         "yaxis": "y"
        },
        {
         "hovertemplate": "Driver (Position)=DNF - OCO<br>Avg Lap Time (s)=%{x}<br>Speed Trap (km/h)=%{y}<br>Driver=%{text}<extra></extra>",
         "legendgroup": "DNF - OCO",
         "marker": {
          "color": "#19d3f3",
          "symbol": "circle"
         },
         "mode": "markers+text",
         "name": "DNF - OCO",
         "orientation": "v",
         "showlegend": true,
         "text": [
          "OCO"
         ],
         "textposition": "top center",
         "type": "scatter",
         "x": [
          103.04253846153846
         ],
         "xaxis": "x",
         "y": [
          245.88
         ],
         "yaxis": "y"
        },
        {
         "hovertemplate": "Driver (Position)=DNF - ALB<br>Avg Lap Time (s)=%{x}<br>Speed Trap (km/h)=%{y}<br>Driver=%{text}<extra></extra>",
         "legendgroup": "DNF - ALB",
         "marker": {
          "color": "#FF6692",
          "symbol": "circle"
         },
         "mode": "markers+text",
         "name": "DNF - ALB",
         "orientation": "v",
         "showlegend": true,
         "text": [
          "ALB"
         ],
         "textposition": "top center",
         "type": "scatter",
         "x": [
          104.15309433962264
         ],
         "xaxis": "x",
         "y": [
          243.28
         ],
         "yaxis": "y"
        }
       ],
       "layout": {
        "coloraxis": {
         "showscale": false
        },
        "legend": {
         "title": {
          "text": "Driver (Position)"
         },
         "tracegroupgap": 0
        },
        "showlegend": false,
        "template": {
         "data": {
          "bar": [
           {
            "error_x": {
             "color": "#2a3f5f"
            },
            "error_y": {
             "color": "#2a3f5f"
            },
            "marker": {
             "line": {
              "color": "#E5ECF6",
              "width": 0.5
             },
             "pattern": {
              "fillmode": "overlay",
              "size": 10,
              "solidity": 0.2
             }
            },
            "type": "bar"
           }
          ],
          "barpolar": [
           {
            "marker": {
             "line": {
              "color": "#E5ECF6",
              "width": 0.5
             },
             "pattern": {
              "fillmode": "overlay",
              "size": 10,
              "solidity": 0.2
             }
            },
            "type": "barpolar"
           }
          ],
          "carpet": [
           {
            "aaxis": {
             "endlinecolor": "#2a3f5f",
             "gridcolor": "white",
             "linecolor": "white",
             "minorgridcolor": "white",
             "startlinecolor": "#2a3f5f"
            },
            "baxis": {
             "endlinecolor": "#2a3f5f",
             "gridcolor": "white",
             "linecolor": "white",
             "minorgridcolor": "white",
             "startlinecolor": "#2a3f5f"
            },
            "type": "carpet"
           }
          ],
          "choropleth": [
           {
            "colorbar": {
             "outlinewidth": 0,
             "ticks": ""
            },
            "type": "choropleth"
           }
          ],
          "contour": [
           {
            "colorbar": {
             "outlinewidth": 0,
             "ticks": ""
            },
            "colorscale": [
             [
              0,
              "#0d0887"
             ],
             [
              0.1111111111111111,
              "#46039f"
             ],
             [
              0.2222222222222222,
              "#7201a8"
             ],
             [
              0.3333333333333333,
              "#9c179e"
             ],
             [
              0.4444444444444444,
              "#bd3786"
             ],
             [
              0.5555555555555556,
              "#d8576b"
             ],
             [
              0.6666666666666666,
              "#ed7953"
             ],
             [
              0.7777777777777778,
              "#fb9f3a"
             ],
             [
              0.8888888888888888,
              "#fdca26"
             ],
             [
              1,
              "#f0f921"
             ]
            ],
            "type": "contour"
           }
          ],
          "contourcarpet": [
           {
            "colorbar": {
             "outlinewidth": 0,
             "ticks": ""
            },
            "type": "contourcarpet"
           }
          ],
          "heatmap": [
           {
            "colorbar": {
             "outlinewidth": 0,
             "ticks": ""
            },
            "colorscale": [
             [
              0,
              "#0d0887"
             ],
             [
              0.1111111111111111,
              "#46039f"
             ],
             [
              0.2222222222222222,
              "#7201a8"
             ],
             [
              0.3333333333333333,
              "#9c179e"
             ],
             [
              0.4444444444444444,
              "#bd3786"
             ],
             [
              0.5555555555555556,
              "#d8576b"
             ],
             [
              0.6666666666666666,
              "#ed7953"
             ],
             [
              0.7777777777777778,
              "#fb9f3a"
             ],
             [
              0.8888888888888888,
              "#fdca26"
             ],
             [
              1,
              "#f0f921"
             ]
            ],
            "type": "heatmap"
           }
          ],
          "heatmapgl": [
           {
            "colorbar": {
             "outlinewidth": 0,
             "ticks": ""
            },
            "colorscale": [
             [
              0,
              "#0d0887"
             ],
             [
              0.1111111111111111,
              "#46039f"
             ],
             [
              0.2222222222222222,
              "#7201a8"
             ],
             [
              0.3333333333333333,
              "#9c179e"
             ],
             [
              0.4444444444444444,
              "#bd3786"
             ],
             [
              0.5555555555555556,
              "#d8576b"
             ],
             [
              0.6666666666666666,
              "#ed7953"
             ],
             [
              0.7777777777777778,
              "#fb9f3a"
             ],
             [
              0.8888888888888888,
              "#fdca26"
             ],
             [
              1,
              "#f0f921"
             ]
            ],
            "type": "heatmapgl"
           }
          ],
          "histogram": [
           {
            "marker": {
             "pattern": {
              "fillmode": "overlay",
              "size": 10,
              "solidity": 0.2
             }
            },
            "type": "histogram"
           }
          ],
          "histogram2d": [
           {
            "colorbar": {
             "outlinewidth": 0,
             "ticks": ""
            },
            "colorscale": [
             [
              0,
              "#0d0887"
             ],
             [
              0.1111111111111111,
              "#46039f"
             ],
             [
              0.2222222222222222,
              "#7201a8"
             ],
             [
              0.3333333333333333,
              "#9c179e"
             ],
             [
              0.4444444444444444,
              "#bd3786"
             ],
             [
              0.5555555555555556,
              "#d8576b"
             ],
             [
              0.6666666666666666,
              "#ed7953"
             ],
             [
              0.7777777777777778,
              "#fb9f3a"
             ],
             [
              0.8888888888888888,
              "#fdca26"
             ],
             [
              1,
              "#f0f921"
             ]
            ],
            "type": "histogram2d"
           }
          ],
          "histogram2dcontour": [
           {
            "colorbar": {
             "outlinewidth": 0,
             "ticks": ""
            },
            "colorscale": [
             [
              0,
              "#0d0887"
             ],
             [
              0.1111111111111111,
              "#46039f"
             ],
             [
              0.2222222222222222,
              "#7201a8"
             ],
             [
              0.3333333333333333,
              "#9c179e"
             ],
             [
              0.4444444444444444,
              "#bd3786"
             ],
             [
              0.5555555555555556,
              "#d8576b"
             ],
             [
              0.6666666666666666,
              "#ed7953"
             ],
             [
              0.7777777777777778,
              "#fb9f3a"
             ],
             [
              0.8888888888888888,
              "#fdca26"
             ],
             [
              1,
              "#f0f921"
             ]
            ],
            "type": "histogram2dcontour"
           }
          ],
          "mesh3d": [
           {
            "colorbar": {
             "outlinewidth": 0,
             "ticks": ""
            },
            "type": "mesh3d"
           }
          ],
          "parcoords": [
           {
            "line": {
             "colorbar": {
              "outlinewidth": 0,
              "ticks": ""
             }
            },
            "type": "parcoords"
           }
          ],
          "pie": [
           {
            "automargin": true,
            "type": "pie"
           }
          ],
          "scatter": [
           {
            "fillpattern": {
             "fillmode": "overlay",
             "size": 10,
             "solidity": 0.2
            },
            "type": "scatter"
           }
          ],
          "scatter3d": [
           {
            "line": {
             "colorbar": {
              "outlinewidth": 0,
              "ticks": ""
             }
            },
            "marker": {
             "colorbar": {
              "outlinewidth": 0,
              "ticks": ""
             }
            },
            "type": "scatter3d"
           }
          ],
          "scattercarpet": [
           {
            "marker": {
             "colorbar": {
              "outlinewidth": 0,
              "ticks": ""
             }
            },
            "type": "scattercarpet"
           }
          ],
          "scattergeo": [
           {
            "marker": {
             "colorbar": {
              "outlinewidth": 0,
              "ticks": ""
             }
            },
            "type": "scattergeo"
           }
          ],
          "scattergl": [
           {
            "marker": {
             "colorbar": {
              "outlinewidth": 0,
              "ticks": ""
             }
            },
            "type": "scattergl"
           }
          ],
          "scattermapbox": [
           {
            "marker": {
             "colorbar": {
              "outlinewidth": 0,
              "ticks": ""
             }
            },
            "type": "scattermapbox"
           }
          ],
          "scatterpolar": [
           {
            "marker": {
             "colorbar": {
              "outlinewidth": 0,
              "ticks": ""
             }
            },
            "type": "scatterpolar"
           }
          ],
          "scatterpolargl": [
           {
            "marker": {
             "colorbar": {
              "outlinewidth": 0,
              "ticks": ""
             }
            },
            "type": "scatterpolargl"
           }
          ],
          "scatterternary": [
           {
            "marker": {
             "colorbar": {
              "outlinewidth": 0,
              "ticks": ""
             }
            },
            "type": "scatterternary"
           }
          ],
          "surface": [
           {
            "colorbar": {
             "outlinewidth": 0,
             "ticks": ""
            },
            "colorscale": [
             [
              0,
              "#0d0887"
             ],
             [
              0.1111111111111111,
              "#46039f"
             ],
             [
              0.2222222222222222,
              "#7201a8"
             ],
             [
              0.3333333333333333,
              "#9c179e"
             ],
             [
              0.4444444444444444,
              "#bd3786"
             ],
             [
              0.5555555555555556,
              "#d8576b"
             ],
             [
              0.6666666666666666,
              "#ed7953"
             ],
             [
              0.7777777777777778,
              "#fb9f3a"
             ],
             [
              0.8888888888888888,
              "#fdca26"
             ],
             [
              1,
              "#f0f921"
             ]
            ],
            "type": "surface"
           }
          ],
          "table": [
           {
            "cells": {
             "fill": {
              "color": "#EBF0F8"
             },
             "line": {
              "color": "white"
             }
            },
            "header": {
             "fill": {
              "color": "#C8D4E3"
             },
             "line": {
              "color": "white"
             }
            },
            "type": "table"
           }
          ]
         },
         "layout": {
          "annotationdefaults": {
           "arrowcolor": "#2a3f5f",
           "arrowhead": 0,
           "arrowwidth": 1
          },
          "autotypenumbers": "strict",
          "coloraxis": {
           "colorbar": {
            "outlinewidth": 0,
            "ticks": ""
           }
          },
          "colorscale": {
           "diverging": [
            [
             0,
             "#8e0152"
            ],
            [
             0.1,
             "#c51b7d"
            ],
            [
             0.2,
             "#de77ae"
            ],
            [
             0.3,
             "#f1b6da"
            ],
            [
             0.4,
             "#fde0ef"
            ],
            [
             0.5,
             "#f7f7f7"
            ],
            [
             0.6,
             "#e6f5d0"
            ],
            [
             0.7,
             "#b8e186"
            ],
            [
             0.8,
             "#7fbc41"
            ],
            [
             0.9,
             "#4d9221"
            ],
            [
             1,
             "#276419"
            ]
           ],
           "sequential": [
            [
             0,
             "#0d0887"
            ],
            [
             0.1111111111111111,
             "#46039f"
            ],
            [
             0.2222222222222222,
             "#7201a8"
            ],
            [
             0.3333333333333333,
             "#9c179e"
            ],
            [
             0.4444444444444444,
             "#bd3786"
            ],
            [
             0.5555555555555556,
             "#d8576b"
            ],
            [
             0.6666666666666666,
             "#ed7953"
            ],
            [
             0.7777777777777778,
             "#fb9f3a"
            ],
            [
             0.8888888888888888,
             "#fdca26"
            ],
            [
             1,
             "#f0f921"
            ]
           ],
           "sequentialminus": [
            [
             0,
             "#0d0887"
            ],
            [
             0.1111111111111111,
             "#46039f"
            ],
            [
             0.2222222222222222,
             "#7201a8"
            ],
            [
             0.3333333333333333,
             "#9c179e"
            ],
            [
             0.4444444444444444,
             "#bd3786"
            ],
            [
             0.5555555555555556,
             "#d8576b"
            ],
            [
             0.6666666666666666,
             "#ed7953"
            ],
            [
             0.7777777777777778,
             "#fb9f3a"
            ],
            [
             0.8888888888888888,
             "#fdca26"
            ],
            [
             1,
             "#f0f921"
            ]
           ]
          },
          "colorway": [
           "#636efa",
           "#EF553B",
           "#00cc96",
           "#ab63fa",
           "#FFA15A",
           "#19d3f3",
           "#FF6692",
           "#B6E880",
           "#FF97FF",
           "#FECB52"
          ],
          "font": {
           "color": "#2a3f5f"
          },
          "geo": {
           "bgcolor": "white",
           "lakecolor": "white",
           "landcolor": "#E5ECF6",
           "showlakes": true,
           "showland": true,
           "subunitcolor": "white"
          },
          "hoverlabel": {
           "align": "left"
          },
          "hovermode": "closest",
          "mapbox": {
           "style": "light"
          },
          "paper_bgcolor": "white",
          "plot_bgcolor": "#E5ECF6",
          "polar": {
           "angularaxis": {
            "gridcolor": "white",
            "linecolor": "white",
            "ticks": ""
           },
           "bgcolor": "#E5ECF6",
           "radialaxis": {
            "gridcolor": "white",
            "linecolor": "white",
            "ticks": ""
           }
          },
          "scene": {
           "xaxis": {
            "backgroundcolor": "#E5ECF6",
            "gridcolor": "white",
            "gridwidth": 2,
            "linecolor": "white",
            "showbackground": true,
            "ticks": "",
            "zerolinecolor": "white"
           },
           "yaxis": {
            "backgroundcolor": "#E5ECF6",
            "gridcolor": "white",
            "gridwidth": 2,
            "linecolor": "white",
            "showbackground": true,
            "ticks": "",
            "zerolinecolor": "white"
           },
           "zaxis": {
            "backgroundcolor": "#E5ECF6",
            "gridcolor": "white",
            "gridwidth": 2,
            "linecolor": "white",
            "showbackground": true,
            "ticks": "",
            "zerolinecolor": "white"
           }
          },
          "shapedefaults": {
           "line": {
            "color": "#2a3f5f"
           }
          },
          "ternary": {
           "aaxis": {
            "gridcolor": "white",
            "linecolor": "white",
            "ticks": ""
           },
           "baxis": {
            "gridcolor": "white",
            "linecolor": "white",
            "ticks": ""
           },
           "bgcolor": "#E5ECF6",
           "caxis": {
            "gridcolor": "white",
            "linecolor": "white",
            "ticks": ""
           }
          },
          "title": {
           "x": 0.05
          },
          "xaxis": {
           "automargin": true,
           "gridcolor": "white",
           "linecolor": "white",
           "ticks": "",
           "title": {
            "standoff": 15
           },
           "zerolinecolor": "white",
           "zerolinewidth": 2
          },
          "yaxis": {
           "automargin": true,
           "gridcolor": "white",
           "linecolor": "white",
           "ticks": "",
           "title": {
            "standoff": 15
           },
           "zerolinecolor": "white",
           "zerolinewidth": 2
          }
         }
        },
        "title": {
         "text": "Drag vs Downforce Analysis"
        },
        "xaxis": {
         "anchor": "y",
         "domain": [
          0,
          1
         ],
         "title": {
          "text": "Avg Lap Time (s)"
         }
        },
        "yaxis": {
         "anchor": "x",
         "domain": [
          0,
          1
         ],
         "title": {
          "text": "Speed Trap (km/h)"
         }
        }
       }
      }
     },
     "metadata": {},
     "output_type": "display_data"
    }
   ],
   "source": [
    "# Drag vs Downforce (Scatter Plot)\n",
    "speed_trap = laps.groupby('Driver', observed=False)['SpeedST'].mean().reset_index()\n",
    "avg_speed = laps.groupby('Driver', observed=False)['LapSeconds'].mean().reset_index()\n",
    "race_positions = session.results[['Abbreviation', 'Position', 'Status']].rename(columns={'Abbreviation': 'Driver'})\n",
    "merged_df = pd.merge(speed_trap, avg_speed, on='Driver')\n",
    "merged_df = pd.merge(merged_df, race_positions, on='Driver', how='left')\n",
    "\n",
    "# Mark drivers who did not finish (DNF)\n",
    "merged_df['Race Position'] = merged_df.apply(lambda x: 'DNF' if x['Status'] != 'Finished' else str(int(x['Position'])), axis=1)\n",
    "\n",
    "# Sort drivers by position (DNF last)\n",
    "merged_df = merged_df.sort_values(by='Race Position', key=lambda x: pd.to_numeric(x, errors='coerce'))\n",
    "\n",
    "# Append position to driver name\n",
    "merged_df['Driver Label'] = merged_df['Race Position'] + \" - \" + merged_df['Driver']\n",
    "\n",
    "# Plot\n",
    "fig = px.scatter(\n",
    "    merged_df, \n",
    "    x='LapSeconds', \n",
    "    y='SpeedST', \n",
    "    text='Driver', \n",
    "    color='Driver Label',\n",
    "    labels={'LapSeconds': 'Avg Lap Time (s)', 'SpeedST': 'Speed Trap (km/h)', 'Driver Label': 'Driver (Position)'},\n",
    "    title='Drag vs Downforce Analysis'\n",
    ")\n",
    "\n",
    "fig.update_traces(textposition='top center')\n",
    "fig.update_layout(coloraxis_showscale=False, showlegend=False)  # Hide legend and color scale\n",
    "fig.show()\n"
   ]
  },
  {
   "cell_type": "code",
   "execution_count": 20,
   "id": "2c3813a5-cc94-4830-bcf5-e6ddbecb9160",
   "metadata": {},
   "outputs": [
    {
     "data": {
      "application/vnd.plotly.v1+json": {
       "config": {
        "plotlyServerURL": "https://plot.ly"
       },
       "data": [
        {
         "customdata": [
          [
           "INTERMEDIATE"
          ],
          [
           "MEDIUM"
          ],
          [
           "INTERMEDIATE"
          ],
          [
           "MEDIUM"
          ],
          [
           "INTERMEDIATE"
          ],
          [
           "MEDIUM"
          ],
          [
           "INTERMEDIATE"
          ],
          [
           "MEDIUM"
          ],
          [
           "INTERMEDIATE"
          ],
          [
           "MEDIUM"
          ],
          [
           "INTERMEDIATE"
          ],
          [
           "MEDIUM"
          ],
          [
           "INTERMEDIATE"
          ],
          [
           "MEDIUM"
          ],
          [
           "INTERMEDIATE"
          ],
          [
           "MEDIUM"
          ],
          [
           "INTERMEDIATE"
          ],
          [
           "MEDIUM"
          ],
          [
           "INTERMEDIATE"
          ],
          [
           "MEDIUM"
          ],
          [
           "INTERMEDIATE"
          ],
          [
           "MEDIUM"
          ],
          [
           "INTERMEDIATE"
          ],
          [
           "MEDIUM"
          ],
          [
           "INTERMEDIATE"
          ],
          [
           "MEDIUM"
          ],
          [
           "INTERMEDIATE"
          ],
          [
           "MEDIUM"
          ],
          [
           "INTERMEDIATE"
          ],
          [
           "MEDIUM"
          ],
          [
           "INTERMEDIATE"
          ],
          [
           "MEDIUM"
          ],
          [
           "INTERMEDIATE"
          ],
          [
           "MEDIUM"
          ],
          [
           "INTERMEDIATE"
          ],
          [
           "MEDIUM"
          ],
          [
           "INTERMEDIATE"
          ],
          [
           "MEDIUM"
          ],
          [
           "INTERMEDIATE"
          ],
          [
           "MEDIUM"
          ],
          [
           "INTERMEDIATE"
          ],
          [
           "MEDIUM"
          ],
          [
           "INTERMEDIATE"
          ],
          [
           "MEDIUM"
          ],
          [
           "INTERMEDIATE"
          ],
          [
           "MEDIUM"
          ],
          [
           "INTERMEDIATE"
          ],
          [
           "MEDIUM"
          ],
          [
           "INTERMEDIATE"
          ],
          [
           "MEDIUM"
          ],
          [
           "INTERMEDIATE"
          ],
          [
           "MEDIUM"
          ],
          [
           "INTERMEDIATE"
          ],
          [
           "MEDIUM"
          ],
          [
           "INTERMEDIATE"
          ],
          [
           "MEDIUM"
          ],
          [
           "INTERMEDIATE"
          ],
          [
           "MEDIUM"
          ],
          [
           "HARD"
          ],
          [
           "INTERMEDIATE"
          ],
          [
           "MEDIUM"
          ],
          [
           "HARD"
          ],
          [
           "INTERMEDIATE"
          ],
          [
           "MEDIUM"
          ],
          [
           "HARD"
          ],
          [
           "MEDIUM"
          ],
          [
           "HARD"
          ],
          [
           "INTERMEDIATE"
          ],
          [
           "MEDIUM"
          ],
          [
           "HARD"
          ],
          [
           "INTERMEDIATE"
          ],
          [
           "MEDIUM"
          ],
          [
           "HARD"
          ],
          [
           "INTERMEDIATE"
          ],
          [
           "MEDIUM"
          ],
          [
           "HARD"
          ],
          [
           "MEDIUM"
          ],
          [
           "HARD"
          ],
          [
           "MEDIUM"
          ],
          [
           "HARD"
          ],
          [
           "MEDIUM"
          ],
          [
           "HARD"
          ],
          [
           "MEDIUM"
          ],
          [
           "HARD"
          ],
          [
           "MEDIUM"
          ],
          [
           "HARD"
          ],
          [
           "INTERMEDIATE"
          ],
          [
           "MEDIUM"
          ],
          [
           "HARD"
          ],
          [
           "INTERMEDIATE"
          ],
          [
           "MEDIUM"
          ],
          [
           "INTERMEDIATE"
          ],
          [
           "INTERMEDIATE"
          ],
          [
           "INTERMEDIATE"
          ],
          [
           "INTERMEDIATE"
          ],
          [
           "INTERMEDIATE"
          ],
          [
           "INTERMEDIATE"
          ],
          [
           "INTERMEDIATE"
          ],
          [
           "INTERMEDIATE"
          ],
          [
           "INTERMEDIATE"
          ],
          [
           "INTERMEDIATE"
          ],
          [
           "INTERMEDIATE"
          ]
         ],
         "error_y": {
          "array": [
           4.0385807738197705,
           0.8138976594142516,
           5.310812365443952,
           1.14771310916639,
           1.2018348274122117,
           1.3715253760477275,
           1.1628666672126637,
           1.2273168295106196,
           1.0319478022975144,
           1.240926351369738,
           1.1364860127352445,
           1.7658682526491842,
           1.320456872594086,
           1.4500430863877647,
           1.43151370766685,
           1.1419247827785368,
           1.0586245658535254,
           1.2105461380637037,
           1.0518898095468792,
           0.9778428786047851,
           0.9345738422760748,
           0.9343133307408178,
           0.8446584996034665,
           0.8830195489396142,
           1.287058688120576,
           1.0509844002285726,
           1.2394788574619744,
           1.4130309469869553,
           14.543027367659167,
           6.016325977427313,
           null,
           null,
           null,
           null,
           1.8412738419667822,
           12.876291318737707,
           4.3187962043311865,
           10.550420774901474,
           17.250082852643843,
           12.736707068569547,
           10.140639600956325,
           1.6941458300295753,
           1.285536489538146,
           1.5364755677620376,
           1.0958167033097992,
           1.266181090896974,
           1.5527114125842019
          ]
         },
         "hovertemplate": "Lap %{x}<br>Avg Time: %{y:.2f}s<br>Compound: %{customdata[0]}",
         "legendgroup": "INTERMEDIATE",
         "line": {
          "color": "#636efa",
          "dash": "solid"
         },
         "marker": {
          "symbol": "circle"
         },
         "mode": "lines+markers",
         "name": "INTERMEDIATE",
         "orientation": "v",
         "showlegend": true,
         "type": "scatter",
         "x": [
          5,
          6,
          7,
          8,
          9,
          10,
          11,
          12,
          13,
          14,
          15,
          16,
          17,
          18,
          19,
          20,
          21,
          22,
          23,
          24,
          25,
          26,
          27,
          28,
          29,
          30,
          31,
          32,
          33,
          34,
          35,
          37,
          38,
          39,
          45,
          46,
          47,
          48,
          49,
          50,
          51,
          52,
          53,
          54,
          55,
          56,
          57
         ],
         "xaxis": "x",
         "y": [
          140.26733333333334,
          140.1954,
          128.98713333333333,
          98.37866666666667,
          95.94533333333334,
          94.55,
          94.1568,
          93.5322,
          92.94413333333334,
          92.60126666666666,
          92.2098,
          92.5834,
          92.84026666666666,
          92.79033333333334,
          92.71106666666667,
          92.22506666666666,
          91.8256,
          91.96866666666666,
          91.7218,
          91.40613333333334,
          91.09246666666667,
          90.8966,
          90.57546666666667,
          90.28733333333334,
          90.01973333333333,
          89.79693333333333,
          89.64646666666665,
          89.8608,
          106.87235714285714,
          127.97833333333334,
          132.165,
          140.137,
          132.933,
          124.201,
          97.2791111111111,
          98.38787500000001,
          123.47336363636363,
          120.44928571428571,
          135.77450000000002,
          134.6477857142857,
          128.49285714285716,
          95.68035714285715,
          92.13328571428572,
          91.26435714285715,
          90.51335714285713,
          89.82035714285713,
          90.0895
         ],
         "yaxis": "y"
        },
        {
         "customdata": [
          [
           "INTERMEDIATE"
          ],
          [
           "MEDIUM"
          ],
          [
           "INTERMEDIATE"
          ],
          [
           "MEDIUM"
          ],
          [
           "INTERMEDIATE"
          ],
          [
           "MEDIUM"
          ],
          [
           "INTERMEDIATE"
          ],
          [
           "MEDIUM"
          ],
          [
           "INTERMEDIATE"
          ],
          [
           "MEDIUM"
          ],
          [
           "INTERMEDIATE"
          ],
          [
           "MEDIUM"
          ],
          [
           "INTERMEDIATE"
          ],
          [
           "MEDIUM"
          ],
          [
           "INTERMEDIATE"
          ],
          [
           "MEDIUM"
          ],
          [
           "INTERMEDIATE"
          ],
          [
           "MEDIUM"
          ],
          [
           "INTERMEDIATE"
          ],
          [
           "MEDIUM"
          ],
          [
           "INTERMEDIATE"
          ],
          [
           "MEDIUM"
          ],
          [
           "INTERMEDIATE"
          ],
          [
           "MEDIUM"
          ],
          [
           "INTERMEDIATE"
          ],
          [
           "MEDIUM"
          ],
          [
           "INTERMEDIATE"
          ],
          [
           "MEDIUM"
          ],
          [
           "INTERMEDIATE"
          ],
          [
           "MEDIUM"
          ],
          [
           "INTERMEDIATE"
          ],
          [
           "MEDIUM"
          ],
          [
           "INTERMEDIATE"
          ],
          [
           "MEDIUM"
          ],
          [
           "INTERMEDIATE"
          ],
          [
           "MEDIUM"
          ],
          [
           "INTERMEDIATE"
          ],
          [
           "MEDIUM"
          ],
          [
           "INTERMEDIATE"
          ],
          [
           "MEDIUM"
          ],
          [
           "INTERMEDIATE"
          ],
          [
           "MEDIUM"
          ],
          [
           "INTERMEDIATE"
          ],
          [
           "MEDIUM"
          ],
          [
           "INTERMEDIATE"
          ],
          [
           "MEDIUM"
          ],
          [
           "INTERMEDIATE"
          ],
          [
           "MEDIUM"
          ],
          [
           "INTERMEDIATE"
          ],
          [
           "MEDIUM"
          ],
          [
           "INTERMEDIATE"
          ],
          [
           "MEDIUM"
          ],
          [
           "INTERMEDIATE"
          ],
          [
           "MEDIUM"
          ],
          [
           "INTERMEDIATE"
          ],
          [
           "MEDIUM"
          ],
          [
           "INTERMEDIATE"
          ],
          [
           "MEDIUM"
          ],
          [
           "HARD"
          ],
          [
           "INTERMEDIATE"
          ],
          [
           "MEDIUM"
          ],
          [
           "HARD"
          ],
          [
           "INTERMEDIATE"
          ],
          [
           "MEDIUM"
          ],
          [
           "HARD"
          ],
          [
           "MEDIUM"
          ],
          [
           "HARD"
          ],
          [
           "INTERMEDIATE"
          ],
          [
           "MEDIUM"
          ],
          [
           "HARD"
          ],
          [
           "INTERMEDIATE"
          ],
          [
           "MEDIUM"
          ],
          [
           "HARD"
          ],
          [
           "INTERMEDIATE"
          ],
          [
           "MEDIUM"
          ],
          [
           "HARD"
          ],
          [
           "MEDIUM"
          ],
          [
           "HARD"
          ],
          [
           "MEDIUM"
          ],
          [
           "HARD"
          ],
          [
           "MEDIUM"
          ],
          [
           "HARD"
          ],
          [
           "MEDIUM"
          ],
          [
           "HARD"
          ],
          [
           "MEDIUM"
          ],
          [
           "HARD"
          ],
          [
           "INTERMEDIATE"
          ],
          [
           "MEDIUM"
          ],
          [
           "HARD"
          ],
          [
           "INTERMEDIATE"
          ],
          [
           "MEDIUM"
          ],
          [
           "INTERMEDIATE"
          ],
          [
           "INTERMEDIATE"
          ],
          [
           "INTERMEDIATE"
          ],
          [
           "INTERMEDIATE"
          ],
          [
           "INTERMEDIATE"
          ],
          [
           "INTERMEDIATE"
          ],
          [
           "INTERMEDIATE"
          ],
          [
           "INTERMEDIATE"
          ],
          [
           "INTERMEDIATE"
          ],
          [
           "INTERMEDIATE"
          ],
          [
           "INTERMEDIATE"
          ]
         ],
         "error_y": {
          "array": [
           9.124505904431206,
           0.7771103525240083,
           0.9015611460128521,
           1.2650140315427296,
           1.3442099910356293,
           0.5557859300126273,
           0.5381082604829596,
           0.4384062043356476,
           0.09404520189780266,
           0.26162950903902576,
           0.1364716087690122,
           0.5062884553295739,
           0.16192745289172383,
           0.44901280605346633,
           0.11242997820865526,
           0.5416437943888891,
           0.3309259735953017,
           0.6052834046956859,
           0.26587214972614526,
           0.47588286373854777,
           0.26728636328851,
           0.8145870119268984,
           0.7785245660863882,
           2.6516504294495533,
           0.04384062043356928,
           0.16334166645408862,
           0.573463599542295,
           1.039446968344224,
           9.318253162476323,
           12.296542192828035,
           14.15074672941326,
           8.100098121833664,
           7.998568157280812,
           3.198223033409109,
           11.343587298977505,
           18.182512072534347,
           21.139486201351783,
           1.3544108300026891,
           2.839956057884398,
           13.62074143605469,
           2.0791971206854525,
           19.59958456192376
          ]
         },
         "hovertemplate": "Lap %{x}<br>Avg Time: %{y:.2f}s<br>Compound: %{customdata[0]}",
         "legendgroup": "MEDIUM",
         "line": {
          "color": "#EF553B",
          "dash": "solid"
         },
         "marker": {
          "symbol": "circle"
         },
         "mode": "lines+markers",
         "name": "MEDIUM",
         "orientation": "v",
         "showlegend": true,
         "type": "scatter",
         "x": [
          5,
          6,
          7,
          8,
          9,
          10,
          11,
          12,
          13,
          14,
          15,
          16,
          17,
          18,
          19,
          20,
          21,
          22,
          23,
          24,
          25,
          26,
          27,
          28,
          29,
          30,
          31,
          32,
          33,
          34,
          35,
          36,
          37,
          38,
          39,
          40,
          41,
          42,
          43,
          44,
          45,
          46
         ],
         "xaxis": "x",
         "y": [
          131.864,
          141.5255,
          122.8295,
          101.15950000000001,
          97.61349999999999,
          96.018,
          95.0355,
          94.69200000000001,
          94.31649999999999,
          93.917,
          93.7885,
          93.753,
          94.64150000000001,
          94.20949999999999,
          93.9855,
          93.711,
          93.584,
          93.162,
          93.154,
          92.7055,
          92.424,
          92.001,
          91.9565,
          92.63,
          91.298,
          91.2615,
          90.8515,
          90.565,
          123.737,
          131.3845,
          117.92999999999999,
          104.42825,
          132.73316666666668,
          136.5477142857143,
          125.15485714285715,
          115.566875,
          107.9075,
          86.287125,
          85.47987499999999,
          100.315125,
          95.74,
          113.6965
         ],
         "yaxis": "y"
        },
        {
         "customdata": [
          [
           "INTERMEDIATE"
          ],
          [
           "MEDIUM"
          ],
          [
           "INTERMEDIATE"
          ],
          [
           "MEDIUM"
          ],
          [
           "INTERMEDIATE"
          ],
          [
           "MEDIUM"
          ],
          [
           "INTERMEDIATE"
          ],
          [
           "MEDIUM"
          ],
          [
           "INTERMEDIATE"
          ],
          [
           "MEDIUM"
          ],
          [
           "INTERMEDIATE"
          ],
          [
           "MEDIUM"
          ],
          [
           "INTERMEDIATE"
          ],
          [
           "MEDIUM"
          ],
          [
           "INTERMEDIATE"
          ],
          [
           "MEDIUM"
          ],
          [
           "INTERMEDIATE"
          ],
          [
           "MEDIUM"
          ],
          [
           "INTERMEDIATE"
          ],
          [
           "MEDIUM"
          ],
          [
           "INTERMEDIATE"
          ],
          [
           "MEDIUM"
          ],
          [
           "INTERMEDIATE"
          ],
          [
           "MEDIUM"
          ],
          [
           "INTERMEDIATE"
          ],
          [
           "MEDIUM"
          ],
          [
           "INTERMEDIATE"
          ],
          [
           "MEDIUM"
          ],
          [
           "INTERMEDIATE"
          ],
          [
           "MEDIUM"
          ],
          [
           "INTERMEDIATE"
          ],
          [
           "MEDIUM"
          ],
          [
           "INTERMEDIATE"
          ],
          [
           "MEDIUM"
          ],
          [
           "INTERMEDIATE"
          ],
          [
           "MEDIUM"
          ],
          [
           "INTERMEDIATE"
          ],
          [
           "MEDIUM"
          ],
          [
           "INTERMEDIATE"
          ],
          [
           "MEDIUM"
          ],
          [
           "INTERMEDIATE"
          ],
          [
           "MEDIUM"
          ],
          [
           "INTERMEDIATE"
          ],
          [
           "MEDIUM"
          ],
          [
           "INTERMEDIATE"
          ],
          [
           "MEDIUM"
          ],
          [
           "INTERMEDIATE"
          ],
          [
           "MEDIUM"
          ],
          [
           "INTERMEDIATE"
          ],
          [
           "MEDIUM"
          ],
          [
           "INTERMEDIATE"
          ],
          [
           "MEDIUM"
          ],
          [
           "INTERMEDIATE"
          ],
          [
           "MEDIUM"
          ],
          [
           "INTERMEDIATE"
          ],
          [
           "MEDIUM"
          ],
          [
           "INTERMEDIATE"
          ],
          [
           "MEDIUM"
          ],
          [
           "HARD"
          ],
          [
           "INTERMEDIATE"
          ],
          [
           "MEDIUM"
          ],
          [
           "HARD"
          ],
          [
           "INTERMEDIATE"
          ],
          [
           "MEDIUM"
          ],
          [
           "HARD"
          ],
          [
           "MEDIUM"
          ],
          [
           "HARD"
          ],
          [
           "INTERMEDIATE"
          ],
          [
           "MEDIUM"
          ],
          [
           "HARD"
          ],
          [
           "INTERMEDIATE"
          ],
          [
           "MEDIUM"
          ],
          [
           "HARD"
          ],
          [
           "INTERMEDIATE"
          ],
          [
           "MEDIUM"
          ],
          [
           "HARD"
          ],
          [
           "MEDIUM"
          ],
          [
           "HARD"
          ],
          [
           "MEDIUM"
          ],
          [
           "HARD"
          ],
          [
           "MEDIUM"
          ],
          [
           "HARD"
          ],
          [
           "MEDIUM"
          ],
          [
           "HARD"
          ],
          [
           "MEDIUM"
          ],
          [
           "HARD"
          ],
          [
           "INTERMEDIATE"
          ],
          [
           "MEDIUM"
          ],
          [
           "HARD"
          ],
          [
           "INTERMEDIATE"
          ],
          [
           "MEDIUM"
          ],
          [
           "INTERMEDIATE"
          ],
          [
           "INTERMEDIATE"
          ],
          [
           "INTERMEDIATE"
          ],
          [
           "INTERMEDIATE"
          ],
          [
           "INTERMEDIATE"
          ],
          [
           "INTERMEDIATE"
          ],
          [
           "INTERMEDIATE"
          ],
          [
           "INTERMEDIATE"
          ],
          [
           "INTERMEDIATE"
          ],
          [
           "INTERMEDIATE"
          ],
          [
           "INTERMEDIATE"
          ]
         ],
         "error_y": {
          "array": [
           10.079484258466138,
           10.900795197074904,
           14.910792207922997,
           9.412157919414659,
           0.8991372749951694,
           0.9613934455480919,
           1.8628538781741708,
           3.669291170843303,
           1.5068903410666643,
           1.1640770408967134,
           8.381625098136656,
           1.0041540386481174,
           11.257788785251448
          ]
         },
         "hovertemplate": "Lap %{x}<br>Avg Time: %{y:.2f}s<br>Compound: %{customdata[0]}",
         "legendgroup": "HARD",
         "line": {
          "color": "#00cc96",
          "dash": "solid"
         },
         "marker": {
          "symbol": "circle"
         },
         "mode": "lines+markers",
         "name": "HARD",
         "orientation": "v",
         "showlegend": true,
         "type": "scatter",
         "x": [
          34,
          35,
          36,
          37,
          38,
          39,
          40,
          41,
          42,
          43,
          44,
          45,
          46
         ],
         "xaxis": "x",
         "y": [
          139.88075,
          114.89325,
          110.120375,
          131.4238,
          139.400125,
          132.35425,
          131.638,
          128.853625,
          86.46325,
          84.42775,
          99.85542857142856,
          92.42766666666667,
          103.07066666666667
         ],
         "yaxis": "y"
        }
       ],
       "layout": {
        "height": 600,
        "hovermode": "x unified",
        "legend": {
         "title": {
          "text": "Compound"
         },
         "tracegroupgap": 0
        },
        "template": {
         "data": {
          "bar": [
           {
            "error_x": {
             "color": "#2a3f5f"
            },
            "error_y": {
             "color": "#2a3f5f"
            },
            "marker": {
             "line": {
              "color": "#E5ECF6",
              "width": 0.5
             },
             "pattern": {
              "fillmode": "overlay",
              "size": 10,
              "solidity": 0.2
             }
            },
            "type": "bar"
           }
          ],
          "barpolar": [
           {
            "marker": {
             "line": {
              "color": "#E5ECF6",
              "width": 0.5
             },
             "pattern": {
              "fillmode": "overlay",
              "size": 10,
              "solidity": 0.2
             }
            },
            "type": "barpolar"
           }
          ],
          "carpet": [
           {
            "aaxis": {
             "endlinecolor": "#2a3f5f",
             "gridcolor": "white",
             "linecolor": "white",
             "minorgridcolor": "white",
             "startlinecolor": "#2a3f5f"
            },
            "baxis": {
             "endlinecolor": "#2a3f5f",
             "gridcolor": "white",
             "linecolor": "white",
             "minorgridcolor": "white",
             "startlinecolor": "#2a3f5f"
            },
            "type": "carpet"
           }
          ],
          "choropleth": [
           {
            "colorbar": {
             "outlinewidth": 0,
             "ticks": ""
            },
            "type": "choropleth"
           }
          ],
          "contour": [
           {
            "colorbar": {
             "outlinewidth": 0,
             "ticks": ""
            },
            "colorscale": [
             [
              0,
              "#0d0887"
             ],
             [
              0.1111111111111111,
              "#46039f"
             ],
             [
              0.2222222222222222,
              "#7201a8"
             ],
             [
              0.3333333333333333,
              "#9c179e"
             ],
             [
              0.4444444444444444,
              "#bd3786"
             ],
             [
              0.5555555555555556,
              "#d8576b"
             ],
             [
              0.6666666666666666,
              "#ed7953"
             ],
             [
              0.7777777777777778,
              "#fb9f3a"
             ],
             [
              0.8888888888888888,
              "#fdca26"
             ],
             [
              1,
              "#f0f921"
             ]
            ],
            "type": "contour"
           }
          ],
          "contourcarpet": [
           {
            "colorbar": {
             "outlinewidth": 0,
             "ticks": ""
            },
            "type": "contourcarpet"
           }
          ],
          "heatmap": [
           {
            "colorbar": {
             "outlinewidth": 0,
             "ticks": ""
            },
            "colorscale": [
             [
              0,
              "#0d0887"
             ],
             [
              0.1111111111111111,
              "#46039f"
             ],
             [
              0.2222222222222222,
              "#7201a8"
             ],
             [
              0.3333333333333333,
              "#9c179e"
             ],
             [
              0.4444444444444444,
              "#bd3786"
             ],
             [
              0.5555555555555556,
              "#d8576b"
             ],
             [
              0.6666666666666666,
              "#ed7953"
             ],
             [
              0.7777777777777778,
              "#fb9f3a"
             ],
             [
              0.8888888888888888,
              "#fdca26"
             ],
             [
              1,
              "#f0f921"
             ]
            ],
            "type": "heatmap"
           }
          ],
          "heatmapgl": [
           {
            "colorbar": {
             "outlinewidth": 0,
             "ticks": ""
            },
            "colorscale": [
             [
              0,
              "#0d0887"
             ],
             [
              0.1111111111111111,
              "#46039f"
             ],
             [
              0.2222222222222222,
              "#7201a8"
             ],
             [
              0.3333333333333333,
              "#9c179e"
             ],
             [
              0.4444444444444444,
              "#bd3786"
             ],
             [
              0.5555555555555556,
              "#d8576b"
             ],
             [
              0.6666666666666666,
              "#ed7953"
             ],
             [
              0.7777777777777778,
              "#fb9f3a"
             ],
             [
              0.8888888888888888,
              "#fdca26"
             ],
             [
              1,
              "#f0f921"
             ]
            ],
            "type": "heatmapgl"
           }
          ],
          "histogram": [
           {
            "marker": {
             "pattern": {
              "fillmode": "overlay",
              "size": 10,
              "solidity": 0.2
             }
            },
            "type": "histogram"
           }
          ],
          "histogram2d": [
           {
            "colorbar": {
             "outlinewidth": 0,
             "ticks": ""
            },
            "colorscale": [
             [
              0,
              "#0d0887"
             ],
             [
              0.1111111111111111,
              "#46039f"
             ],
             [
              0.2222222222222222,
              "#7201a8"
             ],
             [
              0.3333333333333333,
              "#9c179e"
             ],
             [
              0.4444444444444444,
              "#bd3786"
             ],
             [
              0.5555555555555556,
              "#d8576b"
             ],
             [
              0.6666666666666666,
              "#ed7953"
             ],
             [
              0.7777777777777778,
              "#fb9f3a"
             ],
             [
              0.8888888888888888,
              "#fdca26"
             ],
             [
              1,
              "#f0f921"
             ]
            ],
            "type": "histogram2d"
           }
          ],
          "histogram2dcontour": [
           {
            "colorbar": {
             "outlinewidth": 0,
             "ticks": ""
            },
            "colorscale": [
             [
              0,
              "#0d0887"
             ],
             [
              0.1111111111111111,
              "#46039f"
             ],
             [
              0.2222222222222222,
              "#7201a8"
             ],
             [
              0.3333333333333333,
              "#9c179e"
             ],
             [
              0.4444444444444444,
              "#bd3786"
             ],
             [
              0.5555555555555556,
              "#d8576b"
             ],
             [
              0.6666666666666666,
              "#ed7953"
             ],
             [
              0.7777777777777778,
              "#fb9f3a"
             ],
             [
              0.8888888888888888,
              "#fdca26"
             ],
             [
              1,
              "#f0f921"
             ]
            ],
            "type": "histogram2dcontour"
           }
          ],
          "mesh3d": [
           {
            "colorbar": {
             "outlinewidth": 0,
             "ticks": ""
            },
            "type": "mesh3d"
           }
          ],
          "parcoords": [
           {
            "line": {
             "colorbar": {
              "outlinewidth": 0,
              "ticks": ""
             }
            },
            "type": "parcoords"
           }
          ],
          "pie": [
           {
            "automargin": true,
            "type": "pie"
           }
          ],
          "scatter": [
           {
            "fillpattern": {
             "fillmode": "overlay",
             "size": 10,
             "solidity": 0.2
            },
            "type": "scatter"
           }
          ],
          "scatter3d": [
           {
            "line": {
             "colorbar": {
              "outlinewidth": 0,
              "ticks": ""
             }
            },
            "marker": {
             "colorbar": {
              "outlinewidth": 0,
              "ticks": ""
             }
            },
            "type": "scatter3d"
           }
          ],
          "scattercarpet": [
           {
            "marker": {
             "colorbar": {
              "outlinewidth": 0,
              "ticks": ""
             }
            },
            "type": "scattercarpet"
           }
          ],
          "scattergeo": [
           {
            "marker": {
             "colorbar": {
              "outlinewidth": 0,
              "ticks": ""
             }
            },
            "type": "scattergeo"
           }
          ],
          "scattergl": [
           {
            "marker": {
             "colorbar": {
              "outlinewidth": 0,
              "ticks": ""
             }
            },
            "type": "scattergl"
           }
          ],
          "scattermapbox": [
           {
            "marker": {
             "colorbar": {
              "outlinewidth": 0,
              "ticks": ""
             }
            },
            "type": "scattermapbox"
           }
          ],
          "scatterpolar": [
           {
            "marker": {
             "colorbar": {
              "outlinewidth": 0,
              "ticks": ""
             }
            },
            "type": "scatterpolar"
           }
          ],
          "scatterpolargl": [
           {
            "marker": {
             "colorbar": {
              "outlinewidth": 0,
              "ticks": ""
             }
            },
            "type": "scatterpolargl"
           }
          ],
          "scatterternary": [
           {
            "marker": {
             "colorbar": {
              "outlinewidth": 0,
              "ticks": ""
             }
            },
            "type": "scatterternary"
           }
          ],
          "surface": [
           {
            "colorbar": {
             "outlinewidth": 0,
             "ticks": ""
            },
            "colorscale": [
             [
              0,
              "#0d0887"
             ],
             [
              0.1111111111111111,
              "#46039f"
             ],
             [
              0.2222222222222222,
              "#7201a8"
             ],
             [
              0.3333333333333333,
              "#9c179e"
             ],
             [
              0.4444444444444444,
              "#bd3786"
             ],
             [
              0.5555555555555556,
              "#d8576b"
             ],
             [
              0.6666666666666666,
              "#ed7953"
             ],
             [
              0.7777777777777778,
              "#fb9f3a"
             ],
             [
              0.8888888888888888,
              "#fdca26"
             ],
             [
              1,
              "#f0f921"
             ]
            ],
            "type": "surface"
           }
          ],
          "table": [
           {
            "cells": {
             "fill": {
              "color": "#EBF0F8"
             },
             "line": {
              "color": "white"
             }
            },
            "header": {
             "fill": {
              "color": "#C8D4E3"
             },
             "line": {
              "color": "white"
             }
            },
            "type": "table"
           }
          ]
         },
         "layout": {
          "annotationdefaults": {
           "arrowcolor": "#2a3f5f",
           "arrowhead": 0,
           "arrowwidth": 1
          },
          "autotypenumbers": "strict",
          "coloraxis": {
           "colorbar": {
            "outlinewidth": 0,
            "ticks": ""
           }
          },
          "colorscale": {
           "diverging": [
            [
             0,
             "#8e0152"
            ],
            [
             0.1,
             "#c51b7d"
            ],
            [
             0.2,
             "#de77ae"
            ],
            [
             0.3,
             "#f1b6da"
            ],
            [
             0.4,
             "#fde0ef"
            ],
            [
             0.5,
             "#f7f7f7"
            ],
            [
             0.6,
             "#e6f5d0"
            ],
            [
             0.7,
             "#b8e186"
            ],
            [
             0.8,
             "#7fbc41"
            ],
            [
             0.9,
             "#4d9221"
            ],
            [
             1,
             "#276419"
            ]
           ],
           "sequential": [
            [
             0,
             "#0d0887"
            ],
            [
             0.1111111111111111,
             "#46039f"
            ],
            [
             0.2222222222222222,
             "#7201a8"
            ],
            [
             0.3333333333333333,
             "#9c179e"
            ],
            [
             0.4444444444444444,
             "#bd3786"
            ],
            [
             0.5555555555555556,
             "#d8576b"
            ],
            [
             0.6666666666666666,
             "#ed7953"
            ],
            [
             0.7777777777777778,
             "#fb9f3a"
            ],
            [
             0.8888888888888888,
             "#fdca26"
            ],
            [
             1,
             "#f0f921"
            ]
           ],
           "sequentialminus": [
            [
             0,
             "#0d0887"
            ],
            [
             0.1111111111111111,
             "#46039f"
            ],
            [
             0.2222222222222222,
             "#7201a8"
            ],
            [
             0.3333333333333333,
             "#9c179e"
            ],
            [
             0.4444444444444444,
             "#bd3786"
            ],
            [
             0.5555555555555556,
             "#d8576b"
            ],
            [
             0.6666666666666666,
             "#ed7953"
            ],
            [
             0.7777777777777778,
             "#fb9f3a"
            ],
            [
             0.8888888888888888,
             "#fdca26"
            ],
            [
             1,
             "#f0f921"
            ]
           ]
          },
          "colorway": [
           "#636efa",
           "#EF553B",
           "#00cc96",
           "#ab63fa",
           "#FFA15A",
           "#19d3f3",
           "#FF6692",
           "#B6E880",
           "#FF97FF",
           "#FECB52"
          ],
          "font": {
           "color": "#2a3f5f"
          },
          "geo": {
           "bgcolor": "white",
           "lakecolor": "white",
           "landcolor": "#E5ECF6",
           "showlakes": true,
           "showland": true,
           "subunitcolor": "white"
          },
          "hoverlabel": {
           "align": "left"
          },
          "hovermode": "closest",
          "mapbox": {
           "style": "light"
          },
          "paper_bgcolor": "white",
          "plot_bgcolor": "#E5ECF6",
          "polar": {
           "angularaxis": {
            "gridcolor": "white",
            "linecolor": "white",
            "ticks": ""
           },
           "bgcolor": "#E5ECF6",
           "radialaxis": {
            "gridcolor": "white",
            "linecolor": "white",
            "ticks": ""
           }
          },
          "scene": {
           "xaxis": {
            "backgroundcolor": "#E5ECF6",
            "gridcolor": "white",
            "gridwidth": 2,
            "linecolor": "white",
            "showbackground": true,
            "ticks": "",
            "zerolinecolor": "white"
           },
           "yaxis": {
            "backgroundcolor": "#E5ECF6",
            "gridcolor": "white",
            "gridwidth": 2,
            "linecolor": "white",
            "showbackground": true,
            "ticks": "",
            "zerolinecolor": "white"
           },
           "zaxis": {
            "backgroundcolor": "#E5ECF6",
            "gridcolor": "white",
            "gridwidth": 2,
            "linecolor": "white",
            "showbackground": true,
            "ticks": "",
            "zerolinecolor": "white"
           }
          },
          "shapedefaults": {
           "line": {
            "color": "#2a3f5f"
           }
          },
          "ternary": {
           "aaxis": {
            "gridcolor": "white",
            "linecolor": "white",
            "ticks": ""
           },
           "baxis": {
            "gridcolor": "white",
            "linecolor": "white",
            "ticks": ""
           },
           "bgcolor": "#E5ECF6",
           "caxis": {
            "gridcolor": "white",
            "linecolor": "white",
            "ticks": ""
           }
          },
          "title": {
           "x": 0.05
          },
          "xaxis": {
           "automargin": true,
           "gridcolor": "white",
           "linecolor": "white",
           "ticks": "",
           "title": {
            "standoff": 15
           },
           "zerolinecolor": "white",
           "zerolinewidth": 2
          },
          "yaxis": {
           "automargin": true,
           "gridcolor": "white",
           "linecolor": "white",
           "ticks": "",
           "title": {
            "standoff": 15
           },
           "zerolinecolor": "white",
           "zerolinewidth": 2
          }
         }
        },
        "title": {
         "text": "Tyre Degradation over Laps"
        },
        "width": 1000,
        "xaxis": {
         "anchor": "y",
         "domain": [
          0,
          1
         ],
         "title": {
          "text": "Lap Number"
         }
        },
        "yaxis": {
         "anchor": "x",
         "domain": [
          0,
          1
         ],
         "title": {
          "text": "Lap Time (seconds)"
         }
        }
       }
      }
     },
     "metadata": {},
     "output_type": "display_data"
    }
   ],
   "source": [
    "# Tyre Degradation (Line Plot)\n",
    "# Group lap data by LapNumber and Compound\n",
    "avg_lap_by_compound = laps.groupby(['LapNumber', 'Compound'], observed=True)['LapSeconds'].agg(['mean', 'std']).reset_index()\n",
    "avg_lap_by_compound.rename(columns={'mean': 'AvgLapTime', 'std': 'StdLapTime'}, inplace=True)\n",
    "\n",
    "fig = px.line(\n",
    "    avg_lap_by_compound,\n",
    "    x='LapNumber',\n",
    "    y='AvgLapTime',\n",
    "    color='Compound',\n",
    "    error_y='StdLapTime',\n",
    "    markers=True,\n",
    "    labels={'LapNumber': 'Lap Number', 'AvgLapTime': 'Lap Time (seconds)'},\n",
    "    title='Tyre Degradation over Laps'\n",
    ")\n",
    "\n",
    "fig.update_traces(hovertemplate=\n",
    "    'Lap %{x}<br>' +\n",
    "    'Avg Time: %{y:.2f}s<br>' +\n",
    "    'Compound: %{customdata[0]}',\n",
    "    customdata=avg_lap_by_compound[['Compound']]\n",
    ")\n",
    "\n",
    "fig.update_layout(\n",
    "    width=1000,\n",
    "    height=600,\n",
    "    hovermode='x unified'\n",
    ")\n",
    "\n",
    "fig.show()"
   ]
  },
  {
   "cell_type": "code",
   "execution_count": 21,
   "id": "d240bf39-0511-4cb5-b11f-9c3561aaae07",
   "metadata": {},
   "outputs": [
    {
     "data": {
      "application/vnd.plotly.v1+json": {
       "config": {
        "plotlyServerURL": "https://plot.ly"
       },
       "data": [
        {
         "customdata": [
          [
           "NOR",
           "McLaren",
           "INTERMEDIATE",
           1,
           "0",
           "No"
          ],
          [
           "NOR",
           "McLaren",
           "INTERMEDIATE",
           1,
           "0",
           "No"
          ],
          [
           "NOR",
           "McLaren",
           "INTERMEDIATE",
           1,
           "0",
           "No"
          ],
          [
           "NOR",
           "McLaren",
           "INTERMEDIATE",
           1,
           "0",
           "No"
          ],
          [
           "NOR",
           "McLaren",
           "INTERMEDIATE",
           1,
           "0",
           "No"
          ],
          [
           "NOR",
           "McLaren",
           "INTERMEDIATE",
           1,
           "0",
           "No"
          ],
          [
           "NOR",
           "McLaren",
           "INTERMEDIATE",
           1,
           "0",
           "No"
          ],
          [
           "NOR",
           "McLaren",
           "INTERMEDIATE",
           1,
           "0",
           "No"
          ],
          [
           "NOR",
           "McLaren",
           "INTERMEDIATE",
           1,
           "0",
           "No"
          ],
          [
           "NOR",
           "McLaren",
           "INTERMEDIATE",
           1,
           "0",
           "No"
          ],
          [
           "NOR",
           "McLaren",
           "INTERMEDIATE",
           1,
           "0",
           "No"
          ],
          [
           "NOR",
           "McLaren",
           "INTERMEDIATE",
           1,
           "0",
           "No"
          ],
          [
           "NOR",
           "McLaren",
           "INTERMEDIATE",
           1,
           "0",
           "No"
          ],
          [
           "NOR",
           "McLaren",
           "INTERMEDIATE",
           1,
           "0",
           "No"
          ],
          [
           "NOR",
           "McLaren",
           "INTERMEDIATE",
           1,
           "0",
           "No"
          ],
          [
           "NOR",
           "McLaren",
           "INTERMEDIATE",
           1,
           "0",
           "No"
          ],
          [
           "NOR",
           "McLaren",
           "INTERMEDIATE",
           1,
           "0",
           "No"
          ],
          [
           "NOR",
           "McLaren",
           "INTERMEDIATE",
           1,
           "0",
           "No"
          ],
          [
           "NOR",
           "McLaren",
           "INTERMEDIATE",
           1,
           "0",
           "No"
          ],
          [
           "NOR",
           "McLaren",
           "INTERMEDIATE",
           1,
           "0",
           "No"
          ],
          [
           "NOR",
           "McLaren",
           "INTERMEDIATE",
           1,
           "0",
           "No"
          ],
          [
           "NOR",
           "McLaren",
           "INTERMEDIATE",
           1,
           "0",
           "No"
          ],
          [
           "NOR",
           "McLaren",
           "INTERMEDIATE",
           1,
           "0",
           "No"
          ],
          [
           "NOR",
           "McLaren",
           "INTERMEDIATE",
           1,
           "0",
           "No"
          ],
          [
           "NOR",
           "McLaren",
           "INTERMEDIATE",
           1,
           "0",
           "No"
          ],
          [
           "NOR",
           "McLaren",
           "INTERMEDIATE",
           1,
           "0",
           "No"
          ],
          [
           "NOR",
           "McLaren",
           "INTERMEDIATE",
           1,
           "0",
           "No"
          ],
          [
           "NOR",
           "McLaren",
           "INTERMEDIATE",
           1,
           "0",
           "No"
          ],
          [
           "NOR",
           "McLaren",
           "INTERMEDIATE",
           1,
           "0",
           "No"
          ],
          [
           "NOR",
           "McLaren",
           "INTERMEDIATE",
           1,
           "0",
           "Yes"
          ],
          [
           "NOR",
           "McLaren",
           "HARD",
           1,
           "0",
           "No"
          ],
          [
           "NOR",
           "McLaren",
           "HARD",
           1,
           "0",
           "No"
          ],
          [
           "NOR",
           "McLaren",
           "HARD",
           1,
           "0",
           "No"
          ],
          [
           "NOR",
           "McLaren",
           "HARD",
           1,
           "0",
           "No"
          ],
          [
           "NOR",
           "McLaren",
           "HARD",
           1,
           "0",
           "No"
          ],
          [
           "NOR",
           "McLaren",
           "HARD",
           1,
           "0",
           "No"
          ],
          [
           "NOR",
           "McLaren",
           "HARD",
           1,
           "0",
           "No"
          ],
          [
           "NOR",
           "McLaren",
           "HARD",
           1,
           "0",
           "No"
          ],
          [
           "NOR",
           "McLaren",
           "HARD",
           6,
           "-5.0",
           "Yes"
          ],
          [
           "NOR",
           "McLaren",
           "INTERMEDIATE",
           6,
           "-5.0",
           "No"
          ],
          [
           "NOR",
           "McLaren",
           "INTERMEDIATE",
           3,
           "-2.0",
           "No"
          ],
          [
           "NOR",
           "McLaren",
           "INTERMEDIATE",
           1,
           "0",
           "No"
          ],
          [
           "NOR",
           "McLaren",
           "INTERMEDIATE",
           1,
           "0",
           "No"
          ],
          [
           "NOR",
           "McLaren",
           "INTERMEDIATE",
           1,
           "0",
           "No"
          ],
          [
           "NOR",
           "McLaren",
           "INTERMEDIATE",
           1,
           "0",
           "No"
          ],
          [
           "NOR",
           "McLaren",
           "INTERMEDIATE",
           1,
           "0",
           "No"
          ],
          [
           "NOR",
           "McLaren",
           "INTERMEDIATE",
           1,
           "0",
           "No"
          ],
          [
           "NOR",
           "McLaren",
           "INTERMEDIATE",
           1,
           "0",
           "No"
          ],
          [
           "NOR",
           "McLaren",
           "INTERMEDIATE",
           1,
           "0",
           "No"
          ],
          [
           "NOR",
           "McLaren",
           "INTERMEDIATE",
           1,
           "0",
           "No"
          ],
          [
           "NOR",
           "McLaren",
           "INTERMEDIATE",
           1,
           "0",
           "No"
          ],
          [
           "NOR",
           "McLaren",
           "INTERMEDIATE",
           1,
           "0",
           "No"
          ]
         ],
         "hovertemplate": "Driver: %{customdata[0]}<br>Team: %{customdata[1]}<br>Lap: %{x}<br>Lap Time: %{y:.2f}s<br>Tyre: %{customdata[2]}<br>Position: %{customdata[3]}<br>Change: %{customdata[4]}<br>Pit Stop: %{customdata[5]}",
         "line": {
          "color": "gold"
         },
         "marker": {
          "color": "gold",
          "symbol": "circle"
         },
         "mode": "lines+markers",
         "name": "NOR (P1)",
         "type": "scatter",
         "x": [
          5,
          6,
          7,
          8,
          9,
          10,
          11,
          12,
          13,
          14,
          15,
          16,
          17,
          18,
          19,
          20,
          21,
          22,
          23,
          24,
          25,
          26,
          27,
          28,
          29,
          30,
          31,
          32,
          33,
          34,
          35,
          36,
          38,
          39,
          40,
          41,
          42,
          43,
          44,
          45,
          46,
          47,
          48,
          49,
          50,
          51,
          52,
          53,
          54,
          55,
          56,
          57
         ],
         "y": [
          143.648,
          140.423,
          137.108,
          96.278,
          94.638,
          92.13,
          92.189,
          91.778,
          91.318,
          90.795,
          90.226,
          89.952,
          90.264,
          90.146,
          90.551,
          90.71,
          90.234,
          90.3,
          89.922,
          89.687,
          89.601,
          89.16,
          89.25,
          89.097,
          88.357,
          88.032,
          87.695,
          87.8,
          87.495,
          122.273,
          123.448,
          136.883,
          141.02,
          133.694,
          135.337,
          133.937,
          83.797,
          82.167,
          105.587,
          96.407,
          91.567,
          113.728,
          136.995,
          144.979,
          142.395,
          134.178,
          93.198,
          90.482,
          89.428,
          89.195,
          87.996,
          87.126
         ]
        },
        {
         "customdata": [
          [
           "VER",
           "Red Bull Racing",
           "INTERMEDIATE",
           2,
           "0",
           "No"
          ],
          [
           "VER",
           "Red Bull Racing",
           "INTERMEDIATE",
           2,
           "0",
           "No"
          ],
          [
           "VER",
           "Red Bull Racing",
           "INTERMEDIATE",
           2,
           "0",
           "No"
          ],
          [
           "VER",
           "Red Bull Racing",
           "INTERMEDIATE",
           2,
           "0",
           "No"
          ],
          [
           "VER",
           "Red Bull Racing",
           "INTERMEDIATE",
           2,
           "0",
           "No"
          ],
          [
           "VER",
           "Red Bull Racing",
           "INTERMEDIATE",
           2,
           "0",
           "No"
          ],
          [
           "VER",
           "Red Bull Racing",
           "INTERMEDIATE",
           2,
           "0",
           "No"
          ],
          [
           "VER",
           "Red Bull Racing",
           "INTERMEDIATE",
           2,
           "0",
           "No"
          ],
          [
           "VER",
           "Red Bull Racing",
           "INTERMEDIATE",
           2,
           "0",
           "No"
          ],
          [
           "VER",
           "Red Bull Racing",
           "INTERMEDIATE",
           2,
           "0",
           "No"
          ],
          [
           "VER",
           "Red Bull Racing",
           "INTERMEDIATE",
           2,
           "0",
           "No"
          ],
          [
           "VER",
           "Red Bull Racing",
           "INTERMEDIATE",
           2,
           "0",
           "No"
          ],
          [
           "VER",
           "Red Bull Racing",
           "INTERMEDIATE",
           3,
           "-1.0",
           "No"
          ],
          [
           "VER",
           "Red Bull Racing",
           "INTERMEDIATE",
           3,
           "-1.0",
           "No"
          ],
          [
           "VER",
           "Red Bull Racing",
           "INTERMEDIATE",
           3,
           "-1.0",
           "No"
          ],
          [
           "VER",
           "Red Bull Racing",
           "INTERMEDIATE",
           3,
           "-1.0",
           "No"
          ],
          [
           "VER",
           "Red Bull Racing",
           "INTERMEDIATE",
           3,
           "-1.0",
           "No"
          ],
          [
           "VER",
           "Red Bull Racing",
           "INTERMEDIATE",
           3,
           "-1.0",
           "No"
          ],
          [
           "VER",
           "Red Bull Racing",
           "INTERMEDIATE",
           3,
           "-1.0",
           "No"
          ],
          [
           "VER",
           "Red Bull Racing",
           "INTERMEDIATE",
           3,
           "-1.0",
           "No"
          ],
          [
           "VER",
           "Red Bull Racing",
           "INTERMEDIATE",
           3,
           "-1.0",
           "No"
          ],
          [
           "VER",
           "Red Bull Racing",
           "INTERMEDIATE",
           3,
           "-1.0",
           "No"
          ],
          [
           "VER",
           "Red Bull Racing",
           "INTERMEDIATE",
           3,
           "-1.0",
           "No"
          ],
          [
           "VER",
           "Red Bull Racing",
           "INTERMEDIATE",
           3,
           "-1.0",
           "No"
          ],
          [
           "VER",
           "Red Bull Racing",
           "INTERMEDIATE",
           3,
           "-1.0",
           "No"
          ],
          [
           "VER",
           "Red Bull Racing",
           "INTERMEDIATE",
           3,
           "-1.0",
           "No"
          ],
          [
           "VER",
           "Red Bull Racing",
           "INTERMEDIATE",
           3,
           "-1.0",
           "No"
          ],
          [
           "VER",
           "Red Bull Racing",
           "INTERMEDIATE",
           3,
           "-1.0",
           "No"
          ],
          [
           "VER",
           "Red Bull Racing",
           "INTERMEDIATE",
           3,
           "-1.0",
           "No"
          ],
          [
           "VER",
           "Red Bull Racing",
           "INTERMEDIATE",
           3,
           "-1.0",
           "Yes"
          ],
          [
           "VER",
           "Red Bull Racing",
           "MEDIUM",
           3,
           "-1.0",
           "No"
          ],
          [
           "VER",
           "Red Bull Racing",
           "MEDIUM",
           3,
           "-1.0",
           "No"
          ],
          [
           "VER",
           "Red Bull Racing",
           "MEDIUM",
           3,
           "-1.0",
           "No"
          ],
          [
           "VER",
           "Red Bull Racing",
           "MEDIUM",
           3,
           "-1.0",
           "No"
          ],
          [
           "VER",
           "Red Bull Racing",
           "MEDIUM",
           3,
           "-1.0",
           "No"
          ],
          [
           "VER",
           "Red Bull Racing",
           "MEDIUM",
           3,
           "-1.0",
           "No"
          ],
          [
           "VER",
           "Red Bull Racing",
           "MEDIUM",
           3,
           "-1.0",
           "No"
          ],
          [
           "VER",
           "Red Bull Racing",
           "MEDIUM",
           3,
           "-1.0",
           "No"
          ],
          [
           "VER",
           "Red Bull Racing",
           "MEDIUM",
           1,
           "+1.0",
           "No"
          ],
          [
           "VER",
           "Red Bull Racing",
           "MEDIUM",
           1,
           "+1.0",
           "No"
          ],
          [
           "VER",
           "Red Bull Racing",
           "MEDIUM",
           5,
           "-3.0",
           "Yes"
          ],
          [
           "VER",
           "Red Bull Racing",
           "INTERMEDIATE",
           2,
           "0",
           "No"
          ],
          [
           "VER",
           "Red Bull Racing",
           "INTERMEDIATE",
           2,
           "0",
           "No"
          ],
          [
           "VER",
           "Red Bull Racing",
           "INTERMEDIATE",
           2,
           "0",
           "No"
          ],
          [
           "VER",
           "Red Bull Racing",
           "INTERMEDIATE",
           2,
           "0",
           "No"
          ],
          [
           "VER",
           "Red Bull Racing",
           "INTERMEDIATE",
           2,
           "0",
           "No"
          ],
          [
           "VER",
           "Red Bull Racing",
           "INTERMEDIATE",
           2,
           "0",
           "No"
          ],
          [
           "VER",
           "Red Bull Racing",
           "INTERMEDIATE",
           2,
           "0",
           "No"
          ],
          [
           "VER",
           "Red Bull Racing",
           "INTERMEDIATE",
           2,
           "0",
           "No"
          ],
          [
           "VER",
           "Red Bull Racing",
           "INTERMEDIATE",
           2,
           "0",
           "No"
          ],
          [
           "VER",
           "Red Bull Racing",
           "INTERMEDIATE",
           2,
           "0",
           "No"
          ],
          [
           "VER",
           "Red Bull Racing",
           "INTERMEDIATE",
           2,
           "0",
           "No"
          ]
         ],
         "hovertemplate": "Driver: %{customdata[0]}<br>Team: %{customdata[1]}<br>Lap: %{x}<br>Lap Time: %{y:.2f}s<br>Tyre: %{customdata[2]}<br>Position: %{customdata[3]}<br>Change: %{customdata[4]}<br>Pit Stop: %{customdata[5]}",
         "line": {
          "color": "silver"
         },
         "marker": {
          "color": "silver",
          "symbol": "square"
         },
         "mode": "lines+markers",
         "name": "VER (P2)",
         "type": "scatter",
         "x": [
          5,
          6,
          7,
          8,
          9,
          10,
          11,
          12,
          13,
          14,
          15,
          16,
          17,
          18,
          19,
          20,
          21,
          22,
          23,
          24,
          25,
          26,
          27,
          28,
          29,
          30,
          31,
          32,
          33,
          34,
          35,
          36,
          38,
          39,
          40,
          41,
          42,
          43,
          44,
          45,
          46,
          47,
          48,
          49,
          50,
          51,
          52,
          53,
          54,
          55,
          56,
          57
         ],
         "y": [
          143.609,
          139.654,
          136.447,
          96.83,
          94.315,
          92.65,
          92.453,
          91.591,
          91.271,
          90.639,
          90.328,
          90.592,
          93.392,
          92.169,
          91.939,
          91.598,
          91.177,
          91.04,
          90.686,
          90.978,
          90.845,
          90.293,
          89.731,
          89.411,
          89.043,
          88.237,
          88.127,
          88.208,
          88.046,
          128.598,
          124.508,
          116.334,
          137.91,
          132.714,
          131.498,
          132.004,
          85.317,
          83.081,
          86.789,
          92.874,
          112.606,
          127.213,
          122.406,
          144.892,
          142.085,
          133.879,
          93.864,
          90.859,
          89.1,
          88.538,
          87.921,
          87.4
         ]
        },
        {
         "customdata": [
          [
           "RUS",
           "Mercedes",
           "INTERMEDIATE",
           4,
           "0",
           "No"
          ],
          [
           "RUS",
           "Mercedes",
           "INTERMEDIATE",
           4,
           "0",
           "No"
          ],
          [
           "RUS",
           "Mercedes",
           "INTERMEDIATE",
           4,
           "0",
           "No"
          ],
          [
           "RUS",
           "Mercedes",
           "INTERMEDIATE",
           4,
           "0",
           "No"
          ],
          [
           "RUS",
           "Mercedes",
           "INTERMEDIATE",
           4,
           "0",
           "No"
          ],
          [
           "RUS",
           "Mercedes",
           "INTERMEDIATE",
           4,
           "0",
           "No"
          ],
          [
           "RUS",
           "Mercedes",
           "INTERMEDIATE",
           4,
           "0",
           "No"
          ],
          [
           "RUS",
           "Mercedes",
           "INTERMEDIATE",
           4,
           "0",
           "No"
          ],
          [
           "RUS",
           "Mercedes",
           "INTERMEDIATE",
           4,
           "0",
           "No"
          ],
          [
           "RUS",
           "Mercedes",
           "INTERMEDIATE",
           4,
           "0",
           "No"
          ],
          [
           "RUS",
           "Mercedes",
           "INTERMEDIATE",
           4,
           "0",
           "No"
          ],
          [
           "RUS",
           "Mercedes",
           "INTERMEDIATE",
           4,
           "0",
           "No"
          ],
          [
           "RUS",
           "Mercedes",
           "INTERMEDIATE",
           4,
           "0",
           "No"
          ],
          [
           "RUS",
           "Mercedes",
           "INTERMEDIATE",
           4,
           "0",
           "No"
          ],
          [
           "RUS",
           "Mercedes",
           "INTERMEDIATE",
           4,
           "0",
           "No"
          ],
          [
           "RUS",
           "Mercedes",
           "INTERMEDIATE",
           4,
           "0",
           "No"
          ],
          [
           "RUS",
           "Mercedes",
           "INTERMEDIATE",
           4,
           "0",
           "No"
          ],
          [
           "RUS",
           "Mercedes",
           "INTERMEDIATE",
           4,
           "0",
           "No"
          ],
          [
           "RUS",
           "Mercedes",
           "INTERMEDIATE",
           4,
           "0",
           "No"
          ],
          [
           "RUS",
           "Mercedes",
           "INTERMEDIATE",
           4,
           "0",
           "No"
          ],
          [
           "RUS",
           "Mercedes",
           "INTERMEDIATE",
           4,
           "0",
           "No"
          ],
          [
           "RUS",
           "Mercedes",
           "INTERMEDIATE",
           4,
           "0",
           "No"
          ],
          [
           "RUS",
           "Mercedes",
           "INTERMEDIATE",
           4,
           "0",
           "No"
          ],
          [
           "RUS",
           "Mercedes",
           "INTERMEDIATE",
           4,
           "0",
           "No"
          ],
          [
           "RUS",
           "Mercedes",
           "INTERMEDIATE",
           4,
           "0",
           "No"
          ],
          [
           "RUS",
           "Mercedes",
           "INTERMEDIATE",
           4,
           "0",
           "No"
          ],
          [
           "RUS",
           "Mercedes",
           "INTERMEDIATE",
           4,
           "0",
           "No"
          ],
          [
           "RUS",
           "Mercedes",
           "INTERMEDIATE",
           4,
           "0",
           "No"
          ],
          [
           "RUS",
           "Mercedes",
           "INTERMEDIATE",
           4,
           "0",
           "No"
          ],
          [
           "RUS",
           "Mercedes",
           "INTERMEDIATE",
           4,
           "0",
           "Yes"
          ],
          [
           "RUS",
           "Mercedes",
           "HARD",
           4,
           "0",
           "No"
          ],
          [
           "RUS",
           "Mercedes",
           "HARD",
           4,
           "0",
           "No"
          ],
          [
           "RUS",
           "Mercedes",
           "HARD",
           4,
           "0",
           "No"
          ],
          [
           "RUS",
           "Mercedes",
           "HARD",
           4,
           "0",
           "No"
          ],
          [
           "RUS",
           "Mercedes",
           "HARD",
           4,
           "0",
           "No"
          ],
          [
           "RUS",
           "Mercedes",
           "HARD",
           4,
           "0",
           "No"
          ],
          [
           "RUS",
           "Mercedes",
           "HARD",
           4,
           "0",
           "No"
          ],
          [
           "RUS",
           "Mercedes",
           "HARD",
           4,
           "0",
           "No"
          ],
          [
           "RUS",
           "Mercedes",
           "HARD",
           8,
           "-4.0",
           "Yes"
          ],
          [
           "RUS",
           "Mercedes",
           "INTERMEDIATE",
           8,
           "-4.0",
           "No"
          ],
          [
           "RUS",
           "Mercedes",
           "INTERMEDIATE",
           6,
           "-2.0",
           "No"
          ],
          [
           "RUS",
           "Mercedes",
           "INTERMEDIATE",
           3,
           "+1.0",
           "No"
          ],
          [
           "RUS",
           "Mercedes",
           "INTERMEDIATE",
           3,
           "+1.0",
           "No"
          ],
          [
           "RUS",
           "Mercedes",
           "INTERMEDIATE",
           3,
           "+1.0",
           "No"
          ],
          [
           "RUS",
           "Mercedes",
           "INTERMEDIATE",
           3,
           "+1.0",
           "No"
          ],
          [
           "RUS",
           "Mercedes",
           "INTERMEDIATE",
           3,
           "+1.0",
           "No"
          ],
          [
           "RUS",
           "Mercedes",
           "INTERMEDIATE",
           3,
           "+1.0",
           "No"
          ],
          [
           "RUS",
           "Mercedes",
           "INTERMEDIATE",
           3,
           "+1.0",
           "No"
          ],
          [
           "RUS",
           "Mercedes",
           "INTERMEDIATE",
           3,
           "+1.0",
           "No"
          ],
          [
           "RUS",
           "Mercedes",
           "INTERMEDIATE",
           3,
           "+1.0",
           "No"
          ],
          [
           "RUS",
           "Mercedes",
           "INTERMEDIATE",
           3,
           "+1.0",
           "No"
          ],
          [
           "RUS",
           "Mercedes",
           "INTERMEDIATE",
           3,
           "+1.0",
           "No"
          ]
         ],
         "hovertemplate": "Driver: %{customdata[0]}<br>Team: %{customdata[1]}<br>Lap: %{x}<br>Lap Time: %{y:.2f}s<br>Tyre: %{customdata[2]}<br>Position: %{customdata[3]}<br>Change: %{customdata[4]}<br>Pit Stop: %{customdata[5]}",
         "line": {
          "color": "peru"
         },
         "marker": {
          "color": "peru",
          "symbol": "diamond"
         },
         "mode": "lines+markers",
         "name": "RUS (P3)",
         "type": "scatter",
         "x": [
          5,
          6,
          7,
          8,
          9,
          10,
          11,
          12,
          13,
          14,
          15,
          16,
          17,
          18,
          19,
          20,
          21,
          22,
          23,
          24,
          25,
          26,
          27,
          28,
          29,
          30,
          31,
          32,
          33,
          34,
          35,
          36,
          38,
          39,
          40,
          41,
          42,
          43,
          44,
          45,
          46,
          47,
          48,
          49,
          50,
          51,
          52,
          53,
          54,
          55,
          56,
          57
         ],
         "y": [
          141.712,
          139.485,
          134.684,
          97.824,
          94.873,
          93.587,
          93.347,
          92.803,
          92.364,
          91.856,
          91.885,
          91.739,
          91.597,
          91.74,
          92.189,
          91.315,
          91.127,
          91.029,
          90.975,
          90.673,
          90.488,
          90.111,
          89.863,
          89.696,
          89.488,
          89.789,
          89.041,
          89.361,
          90.553,
          135.518,
          125.981,
          104.906,
          138.272,
          132.784,
          131.368,
          131.214,
          86.239,
          85.065,
          106.238,
          96.33,
          91.87,
          122.439,
          123.129,
          144.163,
          142.305,
          133.149,
          94.334,
          91.177,
          90.41,
          90.076,
          89.454,
          89.117
         ]
        },
        {
         "customdata": [
          [
           "VER"
          ],
          [
           "VER"
          ],
          [
           "NOR"
          ],
          [
           "NOR"
          ],
          [
           "RUS"
          ],
          [
           "RUS"
          ]
         ],
         "hovertemplate": "Pit Stop<br>Driver: %{customdata[0]}<br>Lap: %{x}<br>Lap Time: %{y:.2f}s",
         "marker": {
          "color": "black",
          "size": 10,
          "symbol": "x"
         },
         "mode": "markers",
         "name": "Pit Stop",
         "type": "scatter",
         "x": [
          34,
          46,
          34,
          44,
          34,
          44
         ],
         "y": [
          128.598,
          112.606,
          122.273,
          105.587,
          135.518,
          106.238
         ]
        }
       ],
       "layout": {
        "height": 650,
        "hovermode": "closest",
        "legend": {
         "title": {
          "text": "Driver (Finish Position)"
         }
        },
        "template": {
         "data": {
          "bar": [
           {
            "error_x": {
             "color": "#2a3f5f"
            },
            "error_y": {
             "color": "#2a3f5f"
            },
            "marker": {
             "line": {
              "color": "#E5ECF6",
              "width": 0.5
             },
             "pattern": {
              "fillmode": "overlay",
              "size": 10,
              "solidity": 0.2
             }
            },
            "type": "bar"
           }
          ],
          "barpolar": [
           {
            "marker": {
             "line": {
              "color": "#E5ECF6",
              "width": 0.5
             },
             "pattern": {
              "fillmode": "overlay",
              "size": 10,
              "solidity": 0.2
             }
            },
            "type": "barpolar"
           }
          ],
          "carpet": [
           {
            "aaxis": {
             "endlinecolor": "#2a3f5f",
             "gridcolor": "white",
             "linecolor": "white",
             "minorgridcolor": "white",
             "startlinecolor": "#2a3f5f"
            },
            "baxis": {
             "endlinecolor": "#2a3f5f",
             "gridcolor": "white",
             "linecolor": "white",
             "minorgridcolor": "white",
             "startlinecolor": "#2a3f5f"
            },
            "type": "carpet"
           }
          ],
          "choropleth": [
           {
            "colorbar": {
             "outlinewidth": 0,
             "ticks": ""
            },
            "type": "choropleth"
           }
          ],
          "contour": [
           {
            "colorbar": {
             "outlinewidth": 0,
             "ticks": ""
            },
            "colorscale": [
             [
              0,
              "#0d0887"
             ],
             [
              0.1111111111111111,
              "#46039f"
             ],
             [
              0.2222222222222222,
              "#7201a8"
             ],
             [
              0.3333333333333333,
              "#9c179e"
             ],
             [
              0.4444444444444444,
              "#bd3786"
             ],
             [
              0.5555555555555556,
              "#d8576b"
             ],
             [
              0.6666666666666666,
              "#ed7953"
             ],
             [
              0.7777777777777778,
              "#fb9f3a"
             ],
             [
              0.8888888888888888,
              "#fdca26"
             ],
             [
              1,
              "#f0f921"
             ]
            ],
            "type": "contour"
           }
          ],
          "contourcarpet": [
           {
            "colorbar": {
             "outlinewidth": 0,
             "ticks": ""
            },
            "type": "contourcarpet"
           }
          ],
          "heatmap": [
           {
            "colorbar": {
             "outlinewidth": 0,
             "ticks": ""
            },
            "colorscale": [
             [
              0,
              "#0d0887"
             ],
             [
              0.1111111111111111,
              "#46039f"
             ],
             [
              0.2222222222222222,
              "#7201a8"
             ],
             [
              0.3333333333333333,
              "#9c179e"
             ],
             [
              0.4444444444444444,
              "#bd3786"
             ],
             [
              0.5555555555555556,
              "#d8576b"
             ],
             [
              0.6666666666666666,
              "#ed7953"
             ],
             [
              0.7777777777777778,
              "#fb9f3a"
             ],
             [
              0.8888888888888888,
              "#fdca26"
             ],
             [
              1,
              "#f0f921"
             ]
            ],
            "type": "heatmap"
           }
          ],
          "heatmapgl": [
           {
            "colorbar": {
             "outlinewidth": 0,
             "ticks": ""
            },
            "colorscale": [
             [
              0,
              "#0d0887"
             ],
             [
              0.1111111111111111,
              "#46039f"
             ],
             [
              0.2222222222222222,
              "#7201a8"
             ],
             [
              0.3333333333333333,
              "#9c179e"
             ],
             [
              0.4444444444444444,
              "#bd3786"
             ],
             [
              0.5555555555555556,
              "#d8576b"
             ],
             [
              0.6666666666666666,
              "#ed7953"
             ],
             [
              0.7777777777777778,
              "#fb9f3a"
             ],
             [
              0.8888888888888888,
              "#fdca26"
             ],
             [
              1,
              "#f0f921"
             ]
            ],
            "type": "heatmapgl"
           }
          ],
          "histogram": [
           {
            "marker": {
             "pattern": {
              "fillmode": "overlay",
              "size": 10,
              "solidity": 0.2
             }
            },
            "type": "histogram"
           }
          ],
          "histogram2d": [
           {
            "colorbar": {
             "outlinewidth": 0,
             "ticks": ""
            },
            "colorscale": [
             [
              0,
              "#0d0887"
             ],
             [
              0.1111111111111111,
              "#46039f"
             ],
             [
              0.2222222222222222,
              "#7201a8"
             ],
             [
              0.3333333333333333,
              "#9c179e"
             ],
             [
              0.4444444444444444,
              "#bd3786"
             ],
             [
              0.5555555555555556,
              "#d8576b"
             ],
             [
              0.6666666666666666,
              "#ed7953"
             ],
             [
              0.7777777777777778,
              "#fb9f3a"
             ],
             [
              0.8888888888888888,
              "#fdca26"
             ],
             [
              1,
              "#f0f921"
             ]
            ],
            "type": "histogram2d"
           }
          ],
          "histogram2dcontour": [
           {
            "colorbar": {
             "outlinewidth": 0,
             "ticks": ""
            },
            "colorscale": [
             [
              0,
              "#0d0887"
             ],
             [
              0.1111111111111111,
              "#46039f"
             ],
             [
              0.2222222222222222,
              "#7201a8"
             ],
             [
              0.3333333333333333,
              "#9c179e"
             ],
             [
              0.4444444444444444,
              "#bd3786"
             ],
             [
              0.5555555555555556,
              "#d8576b"
             ],
             [
              0.6666666666666666,
              "#ed7953"
             ],
             [
              0.7777777777777778,
              "#fb9f3a"
             ],
             [
              0.8888888888888888,
              "#fdca26"
             ],
             [
              1,
              "#f0f921"
             ]
            ],
            "type": "histogram2dcontour"
           }
          ],
          "mesh3d": [
           {
            "colorbar": {
             "outlinewidth": 0,
             "ticks": ""
            },
            "type": "mesh3d"
           }
          ],
          "parcoords": [
           {
            "line": {
             "colorbar": {
              "outlinewidth": 0,
              "ticks": ""
             }
            },
            "type": "parcoords"
           }
          ],
          "pie": [
           {
            "automargin": true,
            "type": "pie"
           }
          ],
          "scatter": [
           {
            "fillpattern": {
             "fillmode": "overlay",
             "size": 10,
             "solidity": 0.2
            },
            "type": "scatter"
           }
          ],
          "scatter3d": [
           {
            "line": {
             "colorbar": {
              "outlinewidth": 0,
              "ticks": ""
             }
            },
            "marker": {
             "colorbar": {
              "outlinewidth": 0,
              "ticks": ""
             }
            },
            "type": "scatter3d"
           }
          ],
          "scattercarpet": [
           {
            "marker": {
             "colorbar": {
              "outlinewidth": 0,
              "ticks": ""
             }
            },
            "type": "scattercarpet"
           }
          ],
          "scattergeo": [
           {
            "marker": {
             "colorbar": {
              "outlinewidth": 0,
              "ticks": ""
             }
            },
            "type": "scattergeo"
           }
          ],
          "scattergl": [
           {
            "marker": {
             "colorbar": {
              "outlinewidth": 0,
              "ticks": ""
             }
            },
            "type": "scattergl"
           }
          ],
          "scattermapbox": [
           {
            "marker": {
             "colorbar": {
              "outlinewidth": 0,
              "ticks": ""
             }
            },
            "type": "scattermapbox"
           }
          ],
          "scatterpolar": [
           {
            "marker": {
             "colorbar": {
              "outlinewidth": 0,
              "ticks": ""
             }
            },
            "type": "scatterpolar"
           }
          ],
          "scatterpolargl": [
           {
            "marker": {
             "colorbar": {
              "outlinewidth": 0,
              "ticks": ""
             }
            },
            "type": "scatterpolargl"
           }
          ],
          "scatterternary": [
           {
            "marker": {
             "colorbar": {
              "outlinewidth": 0,
              "ticks": ""
             }
            },
            "type": "scatterternary"
           }
          ],
          "surface": [
           {
            "colorbar": {
             "outlinewidth": 0,
             "ticks": ""
            },
            "colorscale": [
             [
              0,
              "#0d0887"
             ],
             [
              0.1111111111111111,
              "#46039f"
             ],
             [
              0.2222222222222222,
              "#7201a8"
             ],
             [
              0.3333333333333333,
              "#9c179e"
             ],
             [
              0.4444444444444444,
              "#bd3786"
             ],
             [
              0.5555555555555556,
              "#d8576b"
             ],
             [
              0.6666666666666666,
              "#ed7953"
             ],
             [
              0.7777777777777778,
              "#fb9f3a"
             ],
             [
              0.8888888888888888,
              "#fdca26"
             ],
             [
              1,
              "#f0f921"
             ]
            ],
            "type": "surface"
           }
          ],
          "table": [
           {
            "cells": {
             "fill": {
              "color": "#EBF0F8"
             },
             "line": {
              "color": "white"
             }
            },
            "header": {
             "fill": {
              "color": "#C8D4E3"
             },
             "line": {
              "color": "white"
             }
            },
            "type": "table"
           }
          ]
         },
         "layout": {
          "annotationdefaults": {
           "arrowcolor": "#2a3f5f",
           "arrowhead": 0,
           "arrowwidth": 1
          },
          "autotypenumbers": "strict",
          "coloraxis": {
           "colorbar": {
            "outlinewidth": 0,
            "ticks": ""
           }
          },
          "colorscale": {
           "diverging": [
            [
             0,
             "#8e0152"
            ],
            [
             0.1,
             "#c51b7d"
            ],
            [
             0.2,
             "#de77ae"
            ],
            [
             0.3,
             "#f1b6da"
            ],
            [
             0.4,
             "#fde0ef"
            ],
            [
             0.5,
             "#f7f7f7"
            ],
            [
             0.6,
             "#e6f5d0"
            ],
            [
             0.7,
             "#b8e186"
            ],
            [
             0.8,
             "#7fbc41"
            ],
            [
             0.9,
             "#4d9221"
            ],
            [
             1,
             "#276419"
            ]
           ],
           "sequential": [
            [
             0,
             "#0d0887"
            ],
            [
             0.1111111111111111,
             "#46039f"
            ],
            [
             0.2222222222222222,
             "#7201a8"
            ],
            [
             0.3333333333333333,
             "#9c179e"
            ],
            [
             0.4444444444444444,
             "#bd3786"
            ],
            [
             0.5555555555555556,
             "#d8576b"
            ],
            [
             0.6666666666666666,
             "#ed7953"
            ],
            [
             0.7777777777777778,
             "#fb9f3a"
            ],
            [
             0.8888888888888888,
             "#fdca26"
            ],
            [
             1,
             "#f0f921"
            ]
           ],
           "sequentialminus": [
            [
             0,
             "#0d0887"
            ],
            [
             0.1111111111111111,
             "#46039f"
            ],
            [
             0.2222222222222222,
             "#7201a8"
            ],
            [
             0.3333333333333333,
             "#9c179e"
            ],
            [
             0.4444444444444444,
             "#bd3786"
            ],
            [
             0.5555555555555556,
             "#d8576b"
            ],
            [
             0.6666666666666666,
             "#ed7953"
            ],
            [
             0.7777777777777778,
             "#fb9f3a"
            ],
            [
             0.8888888888888888,
             "#fdca26"
            ],
            [
             1,
             "#f0f921"
            ]
           ]
          },
          "colorway": [
           "#636efa",
           "#EF553B",
           "#00cc96",
           "#ab63fa",
           "#FFA15A",
           "#19d3f3",
           "#FF6692",
           "#B6E880",
           "#FF97FF",
           "#FECB52"
          ],
          "font": {
           "color": "#2a3f5f"
          },
          "geo": {
           "bgcolor": "white",
           "lakecolor": "white",
           "landcolor": "#E5ECF6",
           "showlakes": true,
           "showland": true,
           "subunitcolor": "white"
          },
          "hoverlabel": {
           "align": "left"
          },
          "hovermode": "closest",
          "mapbox": {
           "style": "light"
          },
          "paper_bgcolor": "white",
          "plot_bgcolor": "#E5ECF6",
          "polar": {
           "angularaxis": {
            "gridcolor": "white",
            "linecolor": "white",
            "ticks": ""
           },
           "bgcolor": "#E5ECF6",
           "radialaxis": {
            "gridcolor": "white",
            "linecolor": "white",
            "ticks": ""
           }
          },
          "scene": {
           "xaxis": {
            "backgroundcolor": "#E5ECF6",
            "gridcolor": "white",
            "gridwidth": 2,
            "linecolor": "white",
            "showbackground": true,
            "ticks": "",
            "zerolinecolor": "white"
           },
           "yaxis": {
            "backgroundcolor": "#E5ECF6",
            "gridcolor": "white",
            "gridwidth": 2,
            "linecolor": "white",
            "showbackground": true,
            "ticks": "",
            "zerolinecolor": "white"
           },
           "zaxis": {
            "backgroundcolor": "#E5ECF6",
            "gridcolor": "white",
            "gridwidth": 2,
            "linecolor": "white",
            "showbackground": true,
            "ticks": "",
            "zerolinecolor": "white"
           }
          },
          "shapedefaults": {
           "line": {
            "color": "#2a3f5f"
           }
          },
          "ternary": {
           "aaxis": {
            "gridcolor": "white",
            "linecolor": "white",
            "ticks": ""
           },
           "baxis": {
            "gridcolor": "white",
            "linecolor": "white",
            "ticks": ""
           },
           "bgcolor": "#E5ECF6",
           "caxis": {
            "gridcolor": "white",
            "linecolor": "white",
            "ticks": ""
           }
          },
          "title": {
           "x": 0.05
          },
          "xaxis": {
           "automargin": true,
           "gridcolor": "white",
           "linecolor": "white",
           "ticks": "",
           "title": {
            "standoff": 15
           },
           "zerolinecolor": "white",
           "zerolinewidth": 2
          },
          "yaxis": {
           "automargin": true,
           "gridcolor": "white",
           "linecolor": "white",
           "ticks": "",
           "title": {
            "standoff": 15
           },
           "zerolinecolor": "white",
           "zerolinewidth": 2
          }
         }
        },
        "title": {
         "text": "Top 3 Drivers – Race Pace Evolution with Pit Stop Strategy Overlay"
        },
        "width": 1200,
        "xaxis": {
         "title": {
          "text": "Lap Number"
         }
        },
        "yaxis": {
         "title": {
          "text": "Lap Time (s)"
         }
        }
       }
      }
     },
     "metadata": {},
     "output_type": "display_data"
    }
   ],
   "source": [
    "#Race Pace Evolution with Pit Stop Strategy Overlay for Podium Finishers\n",
    "\n",
    "# Prepare data\n",
    "finish_positions = laps.groupby('Driver', observed=True)['Position'].last()\n",
    "top3_finishers = finish_positions[finish_positions.between(1, 3)].sort_values()\n",
    "top3_laps = laps[laps['Driver'].isin(top3_finishers.index)].copy()\n",
    "top3_laps['FinishPosition'] = top3_laps['Driver'].map(finish_positions)\n",
    "top3_laps['PitStopText'] = np.where(top3_laps['PitInTime'].notnull(), 'Yes', 'No')\n",
    "\n",
    "# Calculate position changes\n",
    "start_positions = laps.groupby('Driver', observed=True)['Position'].first()\n",
    "top3_laps['StartPosition'] = top3_laps['Driver'].map(start_positions)\n",
    "\n",
    "# Ensure numeric types for subtraction\n",
    "top3_laps['StartPosition'] = pd.to_numeric(top3_laps['StartPosition'], errors='coerce')\n",
    "top3_laps['Position'] = pd.to_numeric(top3_laps['Position'], errors='coerce')\n",
    "\n",
    "# Now subtract safely\n",
    "top3_laps['PositionChange'] = top3_laps['StartPosition'] - top3_laps['Position']\n",
    "top3_laps['ChangeText'] = top3_laps['PositionChange'].apply(lambda x: f\"+{x}\" if x > 0 else (f\"{x}\" if x < 0 else \"0\"))\n",
    "\n",
    "# Define color/marker for podium positions\n",
    "podium_styles = {\n",
    "    1: dict(color='gold', symbol='circle'),\n",
    "    2: dict(color='silver', symbol='square'),\n",
    "    3: dict(color='peru', symbol='diamond')\n",
    "}\n",
    "\n",
    "# Create figure\n",
    "fig = go.Figure()\n",
    "\n",
    "# Race pace lines with podium styles\n",
    "for driver in top3_finishers.index:\n",
    "    driver_laps = top3_laps[top3_laps['Driver'] == driver]\n",
    "    pos = int(driver_laps['FinishPosition'].iloc[0])\n",
    "    style = podium_styles.get(pos, dict(color='blue', symbol='circle'))\n",
    "\n",
    "    fig.add_trace(go.Scatter(\n",
    "        x=driver_laps['LapNumber'],\n",
    "        y=driver_laps['LapSeconds'],\n",
    "        mode='lines+markers',\n",
    "        name=f\"{driver} (P{pos})\",\n",
    "        marker=dict(color=style['color'], symbol=style['symbol']),\n",
    "        line=dict(color=style['color']),\n",
    "        hovertemplate=(\n",
    "            \"Driver: %{customdata[0]}<br>\"\n",
    "            \"Team: %{customdata[1]}<br>\"\n",
    "            \"Lap: %{x}<br>\"\n",
    "            \"Lap Time: %{y:.2f}s<br>\"\n",
    "            \"Tyre: %{customdata[2]}<br>\"\n",
    "            \"Position: %{customdata[3]}<br>\"\n",
    "            \"Change: %{customdata[4]}<br>\"\n",
    "            \"Pit Stop: %{customdata[5]}\"\n",
    "        ),\n",
    "        customdata=np.stack([\n",
    "            driver_laps['Driver'],\n",
    "            driver_laps['Team'],\n",
    "            driver_laps['Compound'],\n",
    "            driver_laps['Position'],\n",
    "            driver_laps['ChangeText'],\n",
    "            driver_laps['PitStopText']\n",
    "        ], axis=-1)\n",
    "    ))\n",
    "\n",
    "# Pit stop markers\n",
    "pit_stops = top3_laps[top3_laps['PitInTime'].notnull()]\n",
    "fig.add_trace(go.Scatter(\n",
    "    x=pit_stops['LapNumber'],\n",
    "    y=pit_stops['LapSeconds'],\n",
    "    mode='markers',\n",
    "    name='Pit Stop',\n",
    "    marker=dict(symbol='x', size=10, color='black'),\n",
    "    hovertemplate=(\n",
    "        \"Pit Stop<br>\"\n",
    "        \"Driver: %{customdata[0]}<br>\"\n",
    "        \"Lap: %{x}<br>\"\n",
    "        \"Lap Time: %{y:.2f}s\"\n",
    "    ),\n",
    "    customdata=pit_stops[['Driver']]\n",
    "))\n",
    "\n",
    "# Layout adjustments\n",
    "fig.update_layout(\n",
    "    title='Top 3 Drivers – Race Pace Evolution with Pit Stop Strategy Overlay',\n",
    "    xaxis_title='Lap Number',\n",
    "    yaxis_title='Lap Time (s)',\n",
    "    legend_title='Driver (Finish Position)',\n",
    "    width=1200,\n",
    "    height=650,\n",
    "    hovermode='closest'\n",
    ")\n",
    "\n",
    "fig.show()"
   ]
  },
  {
   "cell_type": "code",
   "execution_count": null,
   "id": "6f5b6da1-4581-47e0-927c-e61b437e4598",
   "metadata": {},
   "outputs": [],
   "source": []
  }
 ],
 "metadata": {
  "kernelspec": {
   "display_name": "Python 3",
   "language": "python",
   "name": "python3"
  },
  "language_info": {
   "codemirror_mode": {
    "name": "ipython",
    "version": 3
   },
   "file_extension": ".py",
   "mimetype": "text/x-python",
   "name": "python",
   "nbconvert_exporter": "python",
   "pygments_lexer": "ipython3",
   "version": "3.13.3"
  }
 },
 "nbformat": 4,
 "nbformat_minor": 5
}
